{
 "cells": [
  {
   "cell_type": "markdown",
   "metadata": {},
   "source": [
    "# Common workflow"
   ]
  },
  {
   "cell_type": "raw",
   "metadata": {
    "jupyter": {
     "source_hidden": true
    },
    "raw_mimetype": "text/restructuredtext"
   },
   "source": [
    ".. list-table::\n",
    "  :widths: auto\n",
    "  :align: left\n",
    "\n",
    "  * - .. image:: https://static.mybinder.org/badge_logo.svg\n",
    "        :alt: Binder\n",
    "        :target: https://mybinder.org/v2/gh/ComPWA/expertsystem/stable?filepath=doc/usage/workflow.ipynb\n",
    "    - .. image:: https://colab.research.google.com/assets/colab-badge.svg\n",
    "        :alt: Google Colab\n",
    "        :target: https://colab.research.google.com/github/ComPWA/expertsystem/blob/stable/doc/usage/workflow.ipynb"
   ]
  },
  {
   "cell_type": "code",
   "execution_count": null,
   "metadata": {
    "jupyter": {
     "source_hidden": true
    },
    "nbsphinx": "hidden"
   },
   "outputs": [],
   "source": [
    "# This cell is not visible in the documentation\n",
    "import logging\n",
    "\n",
    "logging.getLogger().setLevel(logging.ERROR)"
   ]
  },
  {
   "cell_type": "markdown",
   "metadata": {
    "jupyter": {
     "source_hidden": true
    },
    "nbsphinx": "hidden"
   },
   "source": [
    "To install the `expertsystem` in Google Colab, **uncomment** the following:"
   ]
  },
  {
   "cell_type": "code",
   "execution_count": null,
   "metadata": {
    "jupyter": {
     "source_hidden": true
    },
    "nbsphinx": "hidden"
   },
   "outputs": [],
   "source": [
    "# !pip install expertsystem[doc]"
   ]
  },
  {
   "cell_type": "markdown",
   "metadata": {},
   "source": [
    "Your analysis starts by defining an amplitude model that describes the\n",
    "reaction process you want to study. Such a model is generally very complex\n",
    "and requires a fair amount of effort by the analyst (you). This also gives a\n",
    "lot of room for mistakes.\n",
    "\n",
    "The [‘expert system’](https://en.wikipedia.org/wiki/Expert_system) is\n",
    "responsible to give you advice on the form of an amplitude model based\n",
    "on the problem set you define (initial state, final state, allowed\n",
    "interactions, intermediate states, etc.). Internally, the system propagates\n",
    "the quantum numbers through the reaction graph while satisfying the specified\n",
    "conservation rules. How to control this procedure is explained in more detail\n",
    "below.\n",
    "\n",
    "Afterwards, the amplitude model of the expert system can be exported into [ComPWA](https://compwa.github.io/) or [Tensorwaves](https://pwa.readthedocs.io/projects/tensorwaves). The\n",
    "model can for instance be used to generate a data set (toy Monte Carlo) for\n",
    "this reaction and to optimize its parameters to resemble an actual data set\n",
    "as good as possible."
   ]
  },
  {
   "cell_type": "markdown",
   "metadata": {},
   "source": [
    "## 1.1. Define the problem set"
   ]
  },
  {
   "cell_type": "raw",
   "metadata": {
    "raw_mimetype": "text/restructuredtext"
   },
   "source": [
    "We first define the boundary conditions of our physics problem, such as initial state, final state, formalism type, etc. and pass all of that information to the `.StateTransitionManager`. This is the main user interface class of the `expertsystem`."
   ]
  },
  {
   "cell_type": "raw",
   "metadata": {
    "jupyter": {
     "source_hidden": true
    },
    "raw_mimetype": "text/restructuredtext"
   },
   "source": [
    ".. toggle::\n",
    "\n",
    "    By default, the `.StateTransitionManager` loads all particles from the PDG. The `expertsystem` would take a long time to check the quantum numbers of all these particles, so in this notebook, we use a smaller subset of relatively common particles."
   ]
  },
  {
   "cell_type": "raw",
   "metadata": {
    "jupyter": {
     "source_hidden": true
    },
    "raw_mimetype": "text/restructuredtext"
   },
   "source": [
    ".. margin::\n",
    "\n",
    "    .. hint:: How does the `.StateTransitionManager` know what a ``\"J/psi(1S)\"`` is? Upon construction, the `.StateTransitionManager` loads default definitions from the `PDG <https://pdg.lbl.gov/>`_. See :doc:`/usage/particles` for how to add custom particle definitions."
   ]
  },
  {
   "cell_type": "code",
   "execution_count": null,
   "metadata": {},
   "outputs": [],
   "source": [
    "from expertsystem.reaction import InteractionTypes, StateTransitionManager\n",
    "\n",
    "stm = StateTransitionManager(\n",
    "    initial_state=[\"J/psi(1S)\"],\n",
    "    final_state=[\"gamma\", \"pi0\", \"pi0\"],\n",
    "    allowed_intermediate_particles=[\n",
    "        \"f(0)(980)\",\n",
    "        \"f(0)(1500)\",\n",
    "        \"f(2)(1270)\",\n",
    "        \"f(2)(1950)\",\n",
    "        \"omega(782)\",\n",
    "        \"D*(2007)0\",\n",
    "        \"rho(770)0\",\n",
    "        \"phi(1020)\",\n",
    "        \"a(0)(980)0\",\n",
    "    ],\n",
    "    formalism_type=\"helicity\",\n",
    ")"
   ]
  },
  {
   "cell_type": "raw",
   "metadata": {
    "raw_mimetype": "text/restructuredtext"
   },
   "source": [
    ".. admonition:: `.StateTransitionManager`\n",
    "    :class: dropdown\n",
    "\n",
    "    The :class:`.StateTransitionManager` (STM) is the main user interface\n",
    "    class of the `expertsystem`. The boundary conditions of your\n",
    "    physics problem, such as the initial state, final state, formalism type,\n",
    "    etc., are defined through this interface.\n",
    "\n",
    "    * :meth:`.prepare_graphs` of the STM creates all topology graphs ―\n",
    "      here, using the isobar model (a tree of two-body decays). The function\n",
    "      also initializes the graphs with the initial and final state and a set\n",
    "      of conservation laws at each interaction node.\n",
    "\n",
    "    * By default, all three interaction types (strong, EM, weak) are used in\n",
    "      the preparation stage. However, it is also possible to choose the\n",
    "      allowed interaction types globally via\n",
    "      :meth:`.set_allowed_interaction_types`.\n",
    "\n",
    "    After the preparation step, you can modify the settings returned by\n",
    "    :meth:`.prepare_graphs` to your liking. Since the output of this function\n",
    "    contains quite a lot of information, the\n",
    "    :mod:`expertsystem UI <pycompwa.expertsystem.ui>` aids in the\n",
    "    configuration (especially the STM).\n",
    "   \n",
    "    * A subset of particles that are allowed as intermediate states can also\n",
    "      be specified: either through the\n",
    "      `STM's constructor <.StateTransitionManager>` or by\n",
    "      setting the instance attribute ``allowed_intermediate_particles``."
   ]
  },
  {
   "cell_type": "markdown",
   "metadata": {},
   "source": [
    "## 1.2. Prepare topologies"
   ]
  },
  {
   "cell_type": "markdown",
   "metadata": {},
   "source": [
    "Create all topology graphs using the **isobar model** (tree of two-body\n",
    "decays) and initialize the graphs with the initial and final state. Remember\n",
    "that each interaction node defines its own set of conservation laws."
   ]
  },
  {
   "cell_type": "raw",
   "metadata": {
    "raw_mimetype": "text/restructuredtext"
   },
   "source": [
    "The :class:`.StateTransitionManager` (STM) defines three interaction types:"
   ]
  },
  {
   "cell_type": "markdown",
   "metadata": {},
   "source": [
    "| Interaction          | Strength  |\n",
    "| -------------------- | --------- |\n",
    "| strong               | $60$      |\n",
    "| electromagnetic (EM) | $1$       |\n",
    "| weak                 | $10^{-4}$ |"
   ]
  },
  {
   "cell_type": "raw",
   "metadata": {
    "raw_mimetype": "text/restructuredtext"
   },
   "source": [
    "By default, all three are used in the preparation stage. The function :meth:`.prepare_graphs` of the STM generates graphs with all possible combinations of interaction nodes. An overall interaction strength is assigned to each graph and they are grouped according to this strength."
   ]
  },
  {
   "cell_type": "code",
   "execution_count": null,
   "metadata": {},
   "outputs": [],
   "source": [
    "graph_interaction_settings_groups = stm.prepare_graphs()"
   ]
  },
  {
   "cell_type": "markdown",
   "metadata": {},
   "source": [
    "## 1.3. Find solutions"
   ]
  },
  {
   "cell_type": "raw",
   "metadata": {
    "raw_mimetype": "text/restructuredtext"
   },
   "source": [
    "If you are happy with the default settings generated by the :class:`.StateTransitionManager`, just start with solving directly!"
   ]
  },
  {
   "cell_type": "raw",
   "metadata": {
    "raw_mimetype": "text/restructuredtext"
   },
   "source": [
    ".. toggle::\n",
    "\n",
    "    This step takes about 30 sec on an Intel(R) Core(TM) i7-6820HQ CPU of 2.70GHz running, multi-threaded."
   ]
  },
  {
   "cell_type": "code",
   "execution_count": null,
   "metadata": {},
   "outputs": [],
   "source": [
    "result = stm.find_solutions(graph_interaction_settings_groups)"
   ]
  },
  {
   "cell_type": "raw",
   "metadata": {
    "raw_mimetype": "text/restructuredtext"
   },
   "source": [
    "The `~.StateTransitionManager.find_solutions` method returns a `.Result` object from which you can extract the `~.Result.solutions` and any `~.Result.violated_rules` in case solutions were found. Now, you can use `.Result.get_intermediate_particles` to print the names of the intermediate states that the `.StateTransitionManager` found:"
   ]
  },
  {
   "cell_type": "code",
   "execution_count": null,
   "metadata": {},
   "outputs": [],
   "source": [
    "print(\"found\", len(result.solutions), \"solutions!\")\n",
    "result.get_intermediate_particles().names"
   ]
  },
  {
   "cell_type": "raw",
   "metadata": {
    "raw_mimetype": "text/restructuredtext"
   },
   "source": [
    ".. admonition:: About the number of solutions\n",
    "    :class: dropdown\n",
    "\n",
    "    The \"number of `~.Result.solutions`\" is the total number of allowed `.StateTransitionGraph` instances that the `.StateTransitionManager` has found. This also includes all allowed **spin projection combinations**. In this channel, we for example consider a :math:`J/\\psi` with spin projection :math:`\\pm1` that decays into a :math:`\\gamma` with spin projection :math:`\\pm1`, which already gives us four possibilities.\n",
    "\n",
    "    On the other hand, the intermediate state names that was extracted with `.Result.get_intermediate_particles`, is just a `set` of the state names on the intermediate edges of the list of `~.Result.solutions`, regardless of spin projection.\n",
    "    \n",
    "    .. tip:: Have a look at `.Result.get_particle_graphs`, if you want to extract a `list` of `.StateTransitionGraph` s of which the spin projections have been stripped. This is especially useful when :doc:`visualizing the decay topologies </usage/visualization>`."
   ]
  },
  {
   "cell_type": "markdown",
   "metadata": {},
   "source": [
    "Now we have a lot of solutions that are actually heavily suppressed\n",
    "(they involve two weak decays)."
   ]
  },
  {
   "cell_type": "raw",
   "metadata": {
    "raw_mimetype": "text/restructuredtext"
   },
   "source": [
    "In general, you can modify the dictionary returned by :meth:`.prepare_graphs` directly, but the STM also comes with functionality to globally choose the allowed interaction types. So, go ahead and **disable** the `~.InteractionTypes.EM` and `~.InteractionTypes.Weak` interactions:"
   ]
  },
  {
   "cell_type": "code",
   "execution_count": null,
   "metadata": {
    "nbsphinx": "hidden"
   },
   "outputs": [],
   "source": [
    "logging.getLogger().setLevel(logging.WARNING)"
   ]
  },
  {
   "cell_type": "code",
   "execution_count": null,
   "metadata": {},
   "outputs": [],
   "source": [
    "stm.set_allowed_interaction_types([InteractionTypes.Strong])\n",
    "graph_interaction_settings_groups = stm.prepare_graphs()\n",
    "result = stm.find_solutions(graph_interaction_settings_groups)\n",
    "\n",
    "print(\"found\", len(result.solutions), \"solutions!\")\n",
    "result.get_intermediate_particles().names"
   ]
  },
  {
   "cell_type": "code",
   "execution_count": null,
   "metadata": {
    "nbsphinx": "hidden"
   },
   "outputs": [],
   "source": [
    "logging.getLogger().setLevel(logging.CRITICAL)"
   ]
  },
  {
   "cell_type": "markdown",
   "metadata": {},
   "source": [
    "Huh, what happened here? Actually, since a $\\gamma$ particle appears in one of the interaction nodes, the expert system knows that this node **must involve EM interactions**! Because the node can be an effective interaction, the weak interaction cannot be excluded, as it contains only a subset of conservation laws.\n",
    "\n",
    "Since only the strong interaction was supposed to be used, this results in a warning and the STM automatically corrects the mistake.\n",
    "\n",
    "Once the EM interaction is included, this warning disappears. Be aware, however, that the EM interaction is now available globally. Hence, there now might be solutions in which both nodes are electromagnetic."
   ]
  },
  {
   "cell_type": "code",
   "execution_count": null,
   "metadata": {},
   "outputs": [],
   "source": [
    "stm.set_allowed_interaction_types([InteractionTypes.Strong, InteractionTypes.EM])\n",
    "graph_interaction_settings_groups = stm.prepare_graphs()\n",
    "result = stm.find_solutions(graph_interaction_settings_groups)\n",
    "\n",
    "print(\"found\", len(result.solutions), \"solutions!\")\n",
    "result.get_intermediate_particles().names"
   ]
  },
  {
   "cell_type": "markdown",
   "metadata": {},
   "source": [
    "Great! Now we selected only the strongest contributions. Be aware, though, that there are more effects that can suppress certain decays, like small branching ratios. In this example, the initial state $J/\\Psi$ can decay into $\\pi^0 + \\rho^0$ or $\\pi^0 + \\omega$."
   ]
  },
  {
   "cell_type": "markdown",
   "metadata": {},
   "source": [
    "| decay                               | branching ratio |\n",
    "| ----------------------------------- | --------------- |\n",
    "| $$\\omega \\rightarrow \\gamma+\\pi^0$$ | 0.0828          |\n",
    "| $$\\rho^0 \\rightarrow \\gamma+\\pi^0$$ | 0.0006          |"
   ]
  },
  {
   "cell_type": "markdown",
   "metadata": {},
   "source": [
    "Unfortunately, the $\\rho^0$ mainly decays into $\\pi+\\pi$, not $\\gamma+\\pi^0$ and is therefore suppressed. This information is currently not known to the expert system, but it is possible to hand the expert system a list of allowed intermediate states."
   ]
  },
  {
   "cell_type": "code",
   "execution_count": null,
   "metadata": {},
   "outputs": [],
   "source": [
    "# particles are found by name comparison,\n",
    "# i.e. f2 will find all f2's and f all f's independent of their spin\n",
    "stm.allowed_intermediate_particles = [\"f(0)\", \"f(2)\"]\n",
    "\n",
    "result = stm.find_solutions(graph_interaction_settings_groups)\n",
    "\n",
    "print(\"found\", len(result.solutions), \"solutions!\")\n",
    "result.get_intermediate_particles().names"
   ]
  },
  {
   "cell_type": "markdown",
   "metadata": {},
   "source": [
    "Now we have selected all amplitudes that involve **f** states. The warnings appear only to notify the user that the list of solutions is not exhaustive: for certain edges in the graph, no suitable particle was found (since only f states were allowed)."
   ]
  },
  {
   "cell_type": "markdown",
   "metadata": {},
   "source": [
    "## 1.4. Generate an amplitude model"
   ]
  },
  {
   "cell_type": "raw",
   "metadata": {
    "raw_mimetype": "text/restructuredtext"
   },
   "source": [
    "Now that we are satisfied with the intermediate resonances, we are all set convert the solutions that the STM found to an amplitude model! This can be done with `.amplitude.generate`. This function deduces the amplitude formalism from the :code:`formalism_type` that you specified :ref:`when constructing the STM <usage/workflow:1.1. Define the problem set>`. The result is an `.AmplitudeModel` from which you can extract all information about `.Particle` instances, `.FitParameters`, `.Kinematics` etc."
   ]
  },
  {
   "cell_type": "raw",
   "metadata": {
    "jupyter": {
     "source_hidden": true
    },
    "raw_mimetype": "text/restructuredtext"
   },
   "source": [
    ".. margin:: Formalism\n",
    "\n",
    "  In this example, we used the helicity formalism. If you want to work with the canonical formalism, you have to construct the :class:`.StateTransitionManager` with argument\n",
    "\n",
    "  .. code-block:: python\n",
    "\n",
    "    formalism_type=\"canonical-helicity\"\n",
    "      \n",
    "  instead of\n",
    "\n",
    "  .. code-block:: python\n",
    "\n",
    "    formalism_type=\"helicity\""
   ]
  },
  {
   "cell_type": "code",
   "execution_count": null,
   "metadata": {},
   "outputs": [],
   "source": [
    "import expertsystem as es\n",
    "\n",
    "amplitude_model = es.amplitude.generate(result)\n",
    "list(amplitude_model.parameters)"
   ]
  },
  {
   "cell_type": "raw",
   "metadata": {
    "raw_mimetype": "text/restructuredtext"
   },
   "source": [
    "Finally, you can use the `expertsystem.io` module to `~.io.write` the `.AmplitudeModel` to a file (either XML or YAML):"
   ]
  },
  {
   "cell_type": "code",
   "execution_count": null,
   "metadata": {},
   "outputs": [],
   "source": [
    "es.io.write(amplitude_model, filename=\"model.xml\")\n",
    "es.io.write(amplitude_model, filename=\"model.yml\")"
   ]
  },
  {
   "cell_type": "raw",
   "metadata": {
    "raw_mimetype": "text/restructuredtext"
   },
   "source": [
    "This allows you to cache file `.AmplitudeModel` to disk and then load it back using `~.io.load_amplitude_model`:"
   ]
  },
  {
   "cell_type": "code",
   "execution_count": null,
   "metadata": {},
   "outputs": [],
   "source": [
    "imported_model_xml = es.io.load_amplitude_model(filename=\"model.xml\")\n",
    "imported_model_yml = es.io.load_amplitude_model(filename=\"model.yml\")\n",
    "\n",
    "assert imported_model_xml == amplitude_model\n",
    "assert imported_model_yml == amplitude_model"
   ]
  },
  {
   "cell_type": "markdown",
   "metadata": {},
   "source": [
    "Have a look through the sections of the resulting XML or YAML recipe file to see what you recognize from the problem set defined above. There may also be some things you want to change in there manually, so **make sure you store this recipe file** carefully (e.g. track it with Git) as to avoid overwriting it your changes after rerunning the expert system."
   ]
  },
  {
   "cell_type": "markdown",
   "metadata": {},
   "source": [
    "Now you can use this recipe file as an amplitude model in a PWA framework!"
   ]
  }
 ],
 "metadata": {
  "celltoolbar": "Raw Cell Format",
  "kernelspec": {
   "display_name": "Python 3",
   "language": "python",
   "name": "python3"
  },
  "language_info": {
   "codemirror_mode": {
    "name": "ipython",
    "version": 3
   },
   "file_extension": ".py",
   "mimetype": "text/x-python",
   "name": "python",
   "nbconvert_exporter": "python",
   "pygments_lexer": "ipython3",
   "version": "3.8.5"
  }
 },
 "nbformat": 4,
 "nbformat_minor": 4
}
