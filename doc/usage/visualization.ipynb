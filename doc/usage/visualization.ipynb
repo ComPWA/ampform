{
 "cells": [
  {
   "cell_type": "markdown",
   "metadata": {},
   "source": [
    "# Visualize decay topologies"
   ]
  },
  {
   "cell_type": "raw",
   "metadata": {
    "raw_mimetype": "text/restructuredtext"
   },
   "source": [
    "The `.io` module allows you to convert a `.StateTransitionGraph` to `DOT language <https://graphviz.org/doc/info/lang.html>`_, which you can then visualize with third-party libraries such as `Graphviz <https://graphviz.org/>`_. This is particularly useful after running `~.StateTransitionManager.find_solutions`, which produces a `.Result` object with a `list` of `.StateTransitionGraph` instances (see the :doc:`/usage/quickstart`).\n",
    "\n",
    "First, we quickly create some dummy solutions. We're not interested in the propagate process, so we decrease the `logging` level as well"
   ]
  },
  {
   "cell_type": "code",
   "execution_count": null,
   "metadata": {},
   "outputs": [],
   "source": [
    "import logging\n",
    "\n",
    "logging.basicConfig(level=logging.ERROR)"
   ]
  },
  {
   "cell_type": "code",
   "execution_count": null,
   "metadata": {},
   "outputs": [],
   "source": [
    "from expertsystem.amplitude.helicity_decay import HelicityAmplitudeGenerator\n",
    "from expertsystem.reaction import InteractionTypes, StateTransitionManager\n",
    "\n",
    "stm = StateTransitionManager(\n",
    "    initial_state=[(\"J/psi(1S)\", [-1, 1])],\n",
    "    final_state=[\"gamma\", \"pi0\", \"pi0\"],\n",
    "    allowed_intermediate_particles=[\"f(0)\"],\n",
    ")\n",
    "stm.set_allowed_interaction_types([InteractionTypes.EM])\n",
    "graph_interaction_settings_groups = stm.prepare_graphs()\n",
    "result = stm.find_solutions(graph_interaction_settings_groups)"
   ]
  },
  {
   "cell_type": "raw",
   "metadata": {
    "raw_mimetype": "text/restructuredtext"
   },
   "source": [
    ":ref:`As noted in the Quickstart <usage/quickstart:1.3. Find solutions>`, the `~.Result.solutions` contain all spin projection combinations (which is necessary for the `~expertsystem.amplitude` module). It is possible to convert all these solutions to DOT language with `.io.convert_to_dot`:"
   ]
  },
  {
   "cell_type": "code",
   "execution_count": null,
   "metadata": {},
   "outputs": [],
   "source": [
    "from expertsystem import io\n",
    "\n",
    "dot_source = io.convert_to_dot(result.solutions)  # with spin projections!"
   ]
  },
  {
   "cell_type": "raw",
   "metadata": {
    "raw_mimetype": "text/restructuredtext"
   },
   "source": [
    "However, since this list of all possible spin projections is rather long, it is often useful to make use of the `~.Result.get_particle_graphs` method first:"
   ]
  },
  {
   "cell_type": "code",
   "execution_count": null,
   "metadata": {},
   "outputs": [],
   "source": [
    "graphs = result.get_particle_graphs()\n",
    "dot_source = io.convert_to_dot(graphs)"
   ]
  },
  {
   "cell_type": "raw",
   "metadata": {
    "raw_mimetype": "text/restructuredtext"
   },
   "source": [
    ".. margin::\n",
    "\n",
    "  .. warning:: `graphviz <graphviz.Source>` requires your system to have DOT installed, see :doc:`Installation <graphviz:index>`."
   ]
  },
  {
   "cell_type": "raw",
   "metadata": {
    "raw_mimetype": "text/restructuredtext"
   },
   "source": [
    "Finally, this `str` of `DOT language <https://graphviz.org/doc/info/lang.html>`_ for the list of `.StateTransitionGraph` instances can be visualized with a third-party library, for instance, with `graphviz.Source`:"
   ]
  },
  {
   "cell_type": "code",
   "execution_count": null,
   "metadata": {},
   "outputs": [],
   "source": [
    "import graphviz\n",
    "\n",
    "graphviz.Source(dot_source)"
   ]
  },
  {
   "cell_type": "raw",
   "metadata": {
    "raw_mimetype": "text/restructuredtext"
   },
   "source": [
    "You can also serialize the DOT string to file with `.io.write`. The file extension for a DOT file is :code:`.gv`:"
   ]
  },
  {
   "cell_type": "code",
   "execution_count": null,
   "metadata": {},
   "outputs": [],
   "source": [
    "io.write(result.solutions, \"decay_topologies_with_spin.gv\")\n",
    "io.write(graphs, \"decay_topologies.gv\")"
   ]
  }
 ],
 "metadata": {
  "kernelspec": {
   "display_name": "Python 3",
   "language": "python",
   "name": "python3"
  },
  "language_info": {
   "codemirror_mode": {
    "name": "ipython",
    "version": 3
   },
   "file_extension": ".py",
   "mimetype": "text/x-python",
   "name": "python",
   "nbconvert_exporter": "python",
   "pygments_lexer": "ipython3",
   "version": "3.8.5"
  }
 },
 "nbformat": 4,
 "nbformat_minor": 4
}
