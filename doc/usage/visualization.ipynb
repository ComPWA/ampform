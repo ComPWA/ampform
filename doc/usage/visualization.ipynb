{
 "cells": [
  {
   "cell_type": "markdown",
   "metadata": {},
   "source": [
    "# Visualize decay topologies"
   ]
  },
  {
   "cell_type": "code",
   "execution_count": null,
   "metadata": {
    "nbsphinx": "hidden"
   },
   "outputs": [],
   "source": [
    "# This cell is not visible in the documentation\n",
    "import logging\n",
    "\n",
    "logging.getLogger().setLevel(logging.ERROR)"
   ]
  },
  {
   "cell_type": "raw",
   "metadata": {
    "raw_mimetype": "text/restructuredtext"
   },
   "source": [
    "The `.io` module allows you to convert a `.StateTransitionGraph` to `DOT language <https://graphviz.org/doc/info/lang.html>`_, which you can then visualize with third-party libraries such as `Graphviz <https://graphviz.org/>`_. This is particularly useful after running `~.StateTransitionManager.find_solutions`, which produces a `.Result` object with a `list` of `.StateTransitionGraph` instances (see the :doc:`/usage/quickstart`)."
   ]
  },
  {
   "cell_type": "markdown",
   "metadata": {},
   "source": [
    "In this notebook, we'll visualize the allowed transitions for the decay $\\psi' \\to \\gamma\\eta\\eta$ as an example."
   ]
  },
  {
   "cell_type": "code",
   "execution_count": null,
   "metadata": {},
   "outputs": [],
   "source": [
    "from expertsystem.reaction import InteractionTypes, StateTransitionManager\n",
    "\n",
    "stm = StateTransitionManager(\n",
    "    initial_state=[\"psi(2S)\"],\n",
    "    final_state=[\"gamma\", \"eta\", \"eta\"],\n",
    "    formalism_type=\"helicity\",\n",
    ")\n",
    "stm.set_allowed_interaction_types([InteractionTypes.EM, InteractionTypes.Strong])\n",
    "graph_interaction_settings_groups = stm.prepare_graphs()\n",
    "result = stm.find_solutions(graph_interaction_settings_groups)"
   ]
  },
  {
   "cell_type": "markdown",
   "metadata": {},
   "source": [
    "## Convert to DOT and visualize"
   ]
  },
  {
   "cell_type": "raw",
   "metadata": {
    "raw_mimetype": "text/restructuredtext"
   },
   "source": [
    ":ref:`As noted in the Quickstart <usage/quickstart:1.3. Find solutions>`, the `~.Result.solutions` contain all spin projection combinations (which is necessary for the `~expertsystem.amplitude` module). It is possible to convert all these solutions to DOT language with `.io.convert_to_dot`. To avoid visualizing all solutions, we just take a subset of the `~.Result.solutions`:"
   ]
  },
  {
   "cell_type": "code",
   "execution_count": null,
   "metadata": {},
   "outputs": [],
   "source": [
    "from expertsystem import io\n",
    "\n",
    "dot_source = io.convert_to_dot(result.solutions[::50][:3])  # just some selection"
   ]
  },
  {
   "cell_type": "raw",
   "metadata": {
    "raw_mimetype": "text/restructuredtext"
   },
   "source": [
    "This `str` of `DOT language <https://graphviz.org/doc/info/lang.html>`_ for the list of `.StateTransitionGraph` instances can then be visualized with a third-party library, for instance, with `graphviz.Source`:"
   ]
  },
  {
   "cell_type": "raw",
   "metadata": {
    "raw_mimetype": "text/restructuredtext"
   },
   "source": [
    ".. margin::\n",
    "\n",
    "  .. warning:: `graphviz <graphviz.Source>` requires your system to have DOT installed, see :doc:`Installation <graphviz:index>`."
   ]
  },
  {
   "cell_type": "code",
   "execution_count": null,
   "metadata": {},
   "outputs": [],
   "source": [
    "import graphviz\n",
    "\n",
    "graphviz.Source(dot_source)"
   ]
  },
  {
   "cell_type": "raw",
   "metadata": {
    "raw_mimetype": "text/restructuredtext"
   },
   "source": [
    "You can also serialize the DOT string to file with `.io.write`. The file extension for a DOT file is :code:`.gv`:"
   ]
  },
  {
   "cell_type": "code",
   "execution_count": null,
   "metadata": {},
   "outputs": [],
   "source": [
    "io.write(result.solutions, \"decay_topologies_with_spin.gv\")"
   ]
  },
  {
   "cell_type": "markdown",
   "metadata": {},
   "source": [
    "## Collapse graphs"
   ]
  },
  {
   "cell_type": "raw",
   "metadata": {
    "raw_mimetype": "text/restructuredtext"
   },
   "source": [
    "Since this list of all possible spin projections (`~.Result.solutions`) is rather long, it is often useful to make use of the `~.Result.get_particle_graphs` or `~.Result.collapse_graphs` methods to bundle comparable graphs. First, `~.Result.get_particle_graphs` allows one collapse (ignore) the spin projections (we again show a selection only):"
   ]
  },
  {
   "cell_type": "code",
   "execution_count": null,
   "metadata": {},
   "outputs": [],
   "source": [
    "graphs = result.get_particle_graphs()\n",
    "dot_source = io.convert_to_dot(graphs[:3])\n",
    "graphviz.Source(dot_source)"
   ]
  },
  {
   "cell_type": "raw",
   "metadata": {
    "raw_mimetype": "text/restructuredtext"
   },
   "source": [
    "If that list is still too much, there is `~.Result.collapse_graphs`, which bundles all graphs with the same final state groupings:"
   ]
  },
  {
   "cell_type": "code",
   "execution_count": null,
   "metadata": {},
   "outputs": [],
   "source": [
    "graphs = result.collapse_graphs()\n",
    "dot_source = io.convert_to_dot(graphs)\n",
    "graphviz.Source(dot_source)"
   ]
  }
 ],
 "metadata": {
  "kernelspec": {
   "display_name": "Python 3",
   "language": "python",
   "name": "python3"
  },
  "language_info": {
   "codemirror_mode": {
    "name": "ipython",
    "version": 3
   },
   "file_extension": ".py",
   "mimetype": "text/x-python",
   "name": "python",
   "nbconvert_exporter": "python",
   "pygments_lexer": "ipython3",
   "version": "3.8.5"
  }
 },
 "nbformat": 4,
 "nbformat_minor": 4
}
