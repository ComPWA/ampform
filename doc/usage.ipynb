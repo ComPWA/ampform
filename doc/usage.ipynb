{
 "cells": [
  {
   "cell_type": "markdown",
   "metadata": {},
   "source": [
    "# Usage"
   ]
  },
  {
   "cell_type": "raw",
   "metadata": {
    "jupyter": {
     "source_hidden": true
    },
    "raw_mimetype": "text/restructuredtext"
   },
   "source": [
    ".. list-table::\n",
    "  :widths: auto\n",
    "  :align: left\n",
    "\n",
    "  * - .. image:: https://static.mybinder.org/badge_logo.svg\n",
    "        :alt: Binder\n",
    "        :target: https://mybinder.org/v2/gh/ComPWA/expertsystem/stable?filepath=doc/usage.ipynb\n",
    "    - .. image:: https://colab.research.google.com/assets/colab-badge.svg\n",
    "        :alt: Colab\n",
    "        :target: https://colab.research.google.com/github/ComPWA/expertsystem/blob/stable/doc/usage.ipynb"
   ]
  },
  {
   "cell_type": "code",
   "execution_count": null,
   "metadata": {
    "jupyter": {
     "source_hidden": true
    },
    "nbsphinx": "hidden"
   },
   "outputs": [],
   "source": [
    "# This cell is not visible in the documentation\n",
    "import logging\n",
    "\n",
    "logging.getLogger().setLevel(logging.ERROR)"
   ]
  },
  {
   "cell_type": "markdown",
   "metadata": {
    "jupyter": {
     "source_hidden": true
    },
    "nbsphinx": "hidden"
   },
   "source": [
    "To install the `expertsystem` in Google Colab, **uncomment** the following:"
   ]
  },
  {
   "cell_type": "code",
   "execution_count": null,
   "metadata": {
    "jupyter": {
     "source_hidden": true
    },
    "nbsphinx": "hidden"
   },
   "outputs": [],
   "source": [
    "# !pip install expertsystem[doc]"
   ]
  },
  {
   "cell_type": "markdown",
   "metadata": {},
   "source": [
    "## Main interface"
   ]
  },
  {
   "cell_type": "raw",
   "metadata": {
    "raw_mimetype": "text/restructuredtext"
   },
   "source": [
    "The `expertsystem` consists of three main components: `~expertsystem.particle`, `~expertsystem.reaction`, and `~expertsystem.amplitude` that build on each other. Here's a small example of how to use them!"
   ]
  },
  {
   "cell_type": "code",
   "execution_count": null,
   "metadata": {},
   "outputs": [],
   "source": [
    "import expertsystem as es"
   ]
  },
  {
   "cell_type": "raw",
   "metadata": {
    "raw_mimetype": "text/restructuredtext"
   },
   "source": [
    ".. margin::\n",
    "\n",
    "    .. tip:: See :doc:`/usage/particles`"
   ]
  },
  {
   "cell_type": "code",
   "execution_count": null,
   "metadata": {},
   "outputs": [],
   "source": [
    "pdg = es.io.load_pdg()\n",
    "pdg.filter(lambda p: p.spin == 2 and p.charmness).names"
   ]
  },
  {
   "cell_type": "code",
   "execution_count": null,
   "metadata": {},
   "outputs": [],
   "source": [
    "result = es.reaction.generate(\n",
    "    initial_state=\"J/psi(1S)\",\n",
    "    final_state=[\"p\", \"p~\", \"eta\"],\n",
    "    allowed_interaction_types=\"strong\",\n",
    ")"
   ]
  },
  {
   "cell_type": "raw",
   "metadata": {
    "raw_mimetype": "text/restructuredtext"
   },
   "source": [
    ".. margin::\n",
    "\n",
    "    .. tip:: See :doc:`/usage/visualization`"
   ]
  },
  {
   "cell_type": "code",
   "execution_count": null,
   "metadata": {},
   "outputs": [],
   "source": [
    "import graphviz\n",
    "\n",
    "graphs = result.collapse_graphs()\n",
    "dot = es.io.convert_to_dot(graphs)\n",
    "graphviz.Source(dot)"
   ]
  },
  {
   "cell_type": "raw",
   "metadata": {
    "raw_mimetype": "text/restructuredtext"
   },
   "source": [
    ".. margin::\n",
    "\n",
    "    .. tip:: See :doc:`/usage/workflow`"
   ]
  },
  {
   "cell_type": "raw",
   "metadata": {
    "raw_mimetype": "text/restructuredtext"
   },
   "source": [
    "The `~expertsystem.io` module offers functionality for reading and writing. This is useful if when you've `generated <.amplitude.generate>` an `.AmplitudeModel` and want to use it in an external :doc:`PWA package <pwa:software>`."
   ]
  },
  {
   "cell_type": "code",
   "execution_count": null,
   "metadata": {},
   "outputs": [],
   "source": [
    "amplitude_model = es.amplitude.generate(result)\n",
    "es.io.write(amplitude_model, \"jpsi_to_gamma_eta_eta.yml\")"
   ]
  },
  {
   "cell_type": "markdown",
   "metadata": {},
   "source": [
    "## Advanced"
   ]
  },
  {
   "cell_type": "raw",
   "metadata": {
    "raw_mimetype": "text/restructuredtext"
   },
   "source": [
    "Each of the `expertsystem`'s sub-modules offer functionality to handle more advanced reaction types. The following notebooks illustrate how use them.\n",
    "\n",
    ".. toctree::\n",
    "  :maxdepth: 2\n",
    "  :glob:\n",
    "\n",
    "  usage/workflow\n",
    "  usage/particles\n",
    "  usage/visualization"
   ]
  }
 ],
 "metadata": {
  "kernelspec": {
   "display_name": "Python 3",
   "language": "python",
   "name": "python3"
  },
  "language_info": {
   "codemirror_mode": {
    "name": "ipython",
    "version": 3
   },
   "file_extension": ".py",
   "mimetype": "text/x-python",
   "name": "python",
   "nbconvert_exporter": "python",
   "pygments_lexer": "ipython3",
   "version": "3.8.5"
  }
 },
 "nbformat": 4,
 "nbformat_minor": 4
}
