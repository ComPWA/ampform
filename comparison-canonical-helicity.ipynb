{
 "cells": [
  {
   "cell_type": "code",
   "execution_count": null,
   "metadata": {
    "jupyter": {
     "source_hidden": true
    },
    "slideshow": {
     "slide_type": "skip"
    },
    "tags": [
     "remove-cell"
    ]
   },
   "outputs": [],
   "source": [
    "%%capture\n",
    "%config Completer.use_jedi = False\n",
    "%config InlineBackend.figure_formats = ['svg']\n",
    "import os\n",
    "\n",
    "STATIC_WEB_PAGE = {\"EXECUTE_NB\", \"READTHEDOCS\"}.intersection(os.environ)\n",
    "\n",
    "# Install on Google Colab\n",
    "import subprocess\n",
    "import sys\n",
    "\n",
    "from IPython import get_ipython\n",
    "\n",
    "install_packages = \"google.colab\" in str(get_ipython())\n",
    "if install_packages:\n",
    "    for package in [\"ampform[doc]\", \"graphviz\"]:\n",
    "        subprocess.check_call(\n",
    "            [sys.executable, \"-m\", \"pip\", \"install\", package]\n",
    "        )"
   ]
  },
  {
   "cell_type": "code",
   "execution_count": null,
   "metadata": {
    "jupyter": {
     "source_hidden": true
    },
    "tags": []
   },
   "outputs": [],
   "source": [
    "import qrules\n",
    "import sympy as sp\n",
    "\n",
    "import ampform"
   ]
  },
  {
   "cell_type": "code",
   "execution_count": null,
   "metadata": {},
   "outputs": [],
   "source": [
    "result = qrules.generate_transitions(\n",
    "    initial_state=\"D(1)(2420)0\",\n",
    "    final_state=[\"K+\", \"K-\", \"K~0\"],\n",
    "    allowed_intermediate_particles=[\"a(1)(1260)+\"],\n",
    "    formalism_type=\"helicity\",\n",
    ")\n",
    "model_builder = ampform.get_builder(result)\n",
    "helicity_model = model_builder.generate()\n",
    "helicity_model.expression"
   ]
  },
  {
   "cell_type": "code",
   "execution_count": null,
   "metadata": {},
   "outputs": [],
   "source": [
    "result = qrules.generate_transitions(\n",
    "    initial_state=\"D(1)(2420)0\",\n",
    "    final_state=[\"K+\", \"K-\", \"K~0\"],\n",
    "    allowed_intermediate_particles=[\"a(1)(1260)+\"],\n",
    "    formalism_type=\"canonical-helicity\",\n",
    ")\n",
    "model_builder = ampform.get_builder(result)\n",
    "canonical_model = model_builder.generate()\n",
    "canonical_model.expression"
   ]
  },
  {
   "cell_type": "code",
   "execution_count": null,
   "metadata": {},
   "outputs": [],
   "source": [
    "display(\n",
    "    len(helicity_model.parameter_defaults),\n",
    "    *list(helicity_model.parameter_defaults),\n",
    ")"
   ]
  },
  {
   "cell_type": "code",
   "execution_count": null,
   "metadata": {},
   "outputs": [],
   "source": [
    "display(\n",
    "    len(canonical_model.parameter_defaults),\n",
    "    *list(canonical_model.parameter_defaults),\n",
    ")"
   ]
  },
  {
   "cell_type": "code",
   "execution_count": null,
   "metadata": {},
   "outputs": [],
   "source": [
    "display(len(helicity_model.components))\n",
    "for component_name in sorted(helicity_model.components):\n",
    "    component_symbol = sp.Symbol(component_name)\n",
    "    display(component_symbol)"
   ]
  },
  {
   "cell_type": "code",
   "execution_count": null,
   "metadata": {},
   "outputs": [],
   "source": [
    "display(len(canonical_model.components))\n",
    "for component_name in sorted(canonical_model.components):\n",
    "    component_symbol = sp.Symbol(component_name)\n",
    "    display(component_symbol)"
   ]
  }
 ],
 "metadata": {
  "kernelspec": {
   "display_name": "Python 3",
   "language": "python",
   "name": "python3"
  },
  "language_info": {
   "codemirror_mode": {
    "name": "ipython",
    "version": 3
   },
   "file_extension": ".py",
   "mimetype": "text/x-python",
   "name": "python",
   "nbconvert_exporter": "python",
   "pygments_lexer": "ipython3",
   "version": "3.8.10"
  }
 },
 "nbformat": 4,
 "nbformat_minor": 4
}
