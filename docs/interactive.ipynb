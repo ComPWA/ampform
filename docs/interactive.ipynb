{
 "cells": [
  {
   "cell_type": "markdown",
   "metadata": {},
   "source": [
    "# Interactive examples"
   ]
  },
  {
   "cell_type": "code",
   "execution_count": null,
   "metadata": {
    "jupyter": {
     "source_hidden": true
    },
    "tags": [
     "remove-cell"
    ]
   },
   "outputs": [],
   "source": [
    "# To run in in Google Colab, uncomment the following:\n",
    "\n",
    "# !pip install expertsystem graphviz"
   ]
  },
  {
   "cell_type": "markdown",
   "metadata": {},
   "source": [
    "This page exposes some of the functionality of the {mod}`expertsystem` as online utilities."
   ]
  },
  {
   "cell_type": "markdown",
   "metadata": {},
   "source": [
    "```{thebe-button}\n",
    "```"
   ]
  },
  {
   "cell_type": "markdown",
   "metadata": {},
   "source": [
    "## Quantum number search"
   ]
  },
  {
   "cell_type": "markdown",
   "metadata": {},
   "source": [
    "The {func}`~.io.load_pdg` function creates a {class}`.ParticleCollection` containing the latest PDG info. Its  {meth}`~.ParticleCollection.find` and  {meth}`~.ParticleCollection.filter` methods allows you to quickly look up the quantum numbers of a particle and, vice versa, look up particle candidates based on a set of quantum numbers."
   ]
  },
  {
   "cell_type": "markdown",
   "metadata": {},
   "source": [
    "```{margin}\n",
    "Use {meth}`~.ParticleCollection.find` to search for a {class}`.Particle` by name or by ID [as defined by the PDG](https://pdg.lbl.gov/2020/reviews/rpp2020-rev-monte-carlo-numbering.pdf).\n",
    "```"
   ]
  },
  {
   "cell_type": "code",
   "execution_count": null,
   "metadata": {
    "tags": [
     "thebe-init",
     "remove-output"
    ]
   },
   "outputs": [],
   "source": [
    "import expertsystem as es\n",
    "\n",
    "pdg = es.io.load_pdg()\n",
    "pdg.find(22)\n",
    "pdg.find(\"Delta(1920)++\")"
   ]
  },
  {
   "cell_type": "markdown",
   "metadata": {},
   "source": [
    "````{margin}\n",
    "{meth}`~.ParticleCollection.filter` can perform any type of search using a [`lambda`](https://docs.python.org/3/tutorial/controlflow.html#lambda-expressions). Have a look at {class}`.Particle` for the available properties.\n",
    "````"
   ]
  },
  {
   "cell_type": "code",
   "execution_count": null,
   "metadata": {
    "tags": [
     "thebe-init",
     "remove-output"
    ]
   },
   "outputs": [],
   "source": [
    "subset = pdg.filter(lambda p: p.spin in [2.5, 3.5, 4.5] and p.name.startswith(\"N\"))\n",
    "subset.names"
   ]
  },
  {
   "cell_type": "markdown",
   "metadata": {},
   "source": [
    "```{tip}\n",
    "See {doc}`/usage/particles`\n",
    "```"
   ]
  },
  {
   "cell_type": "markdown",
   "metadata": {},
   "source": [
    "## Check allowed reactions"
   ]
  },
  {
   "cell_type": "markdown",
   "metadata": {},
   "source": [
    "The {mod}`expertsystem` can be used to {func}`check <expertsystem.check_reaction_violations>` whether a transition between an initial and final state is violated by any conservation rules:"
   ]
  },
  {
   "cell_type": "code",
   "execution_count": null,
   "metadata": {
    "tags": [
     "remove-output",
     "thebe-init",
     "raises-exception"
    ]
   },
   "outputs": [],
   "source": [
    "import expertsystem as es\n",
    "\n",
    "es.check_reaction_violations(\n",
    "    initial_state=\"pi0\",\n",
    "    final_state=[\"gamma\", \"gamma\", \"gamma\"],\n",
    ")"
   ]
  },
  {
   "cell_type": "markdown",
   "metadata": {},
   "source": [
    "## Investigate intermediate resonances"
   ]
  },
  {
   "cell_type": "markdown",
   "metadata": {},
   "source": [
    "````{margin}\n",
    "```{warning}\n",
    "The larger the number of interactions and final state particles, the longer the computation time. Use the {class}`.StateTransitionManager` directly for fine-tuning.\n",
    "```\n",
    "````"
   ]
  },
  {
   "cell_type": "markdown",
   "metadata": {},
   "source": [
    "The {mod}`expertsystem` is designed to be a tool when doing Partial Wave Analysis. Its main features are therefore the{func}`~.generate_transitions` and {func}`~.generate_amplitudes` functions. Here's a small applet with which to visualize these transitions online:"
   ]
  },
  {
   "cell_type": "code",
   "execution_count": null,
   "metadata": {
    "tags": [
     "remove-output",
     "thebe-init"
    ]
   },
   "outputs": [],
   "source": [
    "from graphviz import Source\n",
    "\n",
    "import expertsystem as es\n",
    "\n",
    "result = es.generate_transitions(\n",
    "    initial_state=(\"J/psi(1S)\", [-1, +1]),\n",
    "    final_state=[\"p\", \"p~\", \"eta\"],\n",
    "    allowed_interaction_types=\"strong\",\n",
    ")\n",
    "graphs = result.collapse_graphs()\n",
    "Source(es.io.convert_to_dot(graphs))"
   ]
  },
  {
   "cell_type": "markdown",
   "metadata": {},
   "source": [
    "```{toggle}\n",
    "This example takes around **2 minutes** to compute on Binder.\n",
    "```\n",
    "```{tip}\n",
    "See {doc}`/usage` and {doc}`/usage/workflow`\n",
    "```"
   ]
  }
 ],
 "metadata": {
  "kernelspec": {
   "display_name": "Python 3",
   "language": "python",
   "name": "python3"
  },
  "language_info": {
   "codemirror_mode": {
    "name": "ipython",
    "version": 3
   },
   "file_extension": ".py",
   "mimetype": "text/x-python",
   "name": "python",
   "nbconvert_exporter": "python",
   "pygments_lexer": "ipython3",
   "version": "3.8.5"
  }
 },
 "nbformat": 4,
 "nbformat_minor": 4
}
