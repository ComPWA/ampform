{
 "cells": [
  {
   "cell_type": "code",
   "execution_count": null,
   "metadata": {
    "hideCode": true,
    "hideOutput": true,
    "hidePrompt": true,
    "jupyter": {
     "source_hidden": true
    },
    "slideshow": {
     "slide_type": "skip"
    },
    "tags": [
     "remove-cell",
     "skip-execution"
    ]
   },
   "outputs": [],
   "source": [
    "# WARNING: advised to install a specific version, e.g. ampform==0.1.2\n",
    "%pip install -q ampform[doc,viz] IPython"
   ]
  },
  {
   "cell_type": "code",
   "execution_count": null,
   "metadata": {
    "hideCode": true,
    "hideOutput": true,
    "hidePrompt": true,
    "jupyter": {
     "source_hidden": true
    },
    "slideshow": {
     "slide_type": "skip"
    },
    "tags": [
     "remove-cell"
    ]
   },
   "outputs": [],
   "source": [
    "import os\n",
    "\n",
    "STATIC_WEB_PAGE = {\"EXECUTE_NB\", \"READTHEDOCS\"}.intersection(os.environ)"
   ]
  },
  {
   "cell_type": "markdown",
   "metadata": {},
   "source": [
    "```{autolink-concat}\n",
    "```"
   ]
  },
  {
   "cell_type": "markdown",
   "metadata": {
    "tags": []
   },
   "source": [
    "# Dynamics"
   ]
  },
  {
   "cell_type": "markdown",
   "metadata": {},
   "source": [
    "{{ run_interactive }}"
   ]
  },
  {
   "cell_type": "markdown",
   "metadata": {},
   "source": [
    "By default, the dynamic terms in an amplitude model are set to $1$ by the {class}`.HelicityAmplitudeBuilder`. The method {meth}`~.DynamicsSelector.assign` of the {attr}`~.HelicityAmplitudeBuilder.dynamics` attribute can then be used to set dynamics lineshapes for specific resonances. The {mod}`.dynamics.builder` module provides some tools to set standard lineshapes (see below), but it is also possible to set {doc}`custom dynamics </usage/dynamics/custom>`.\n",
    "\n",
    "The standard lineshapes provided by AmpForm are illustrated below. For more info, have a look at the following pages:\n",
    "\n",
    "```{toctree}\n",
    ":maxdepth: 2\n",
    "dynamics/custom\n",
    "dynamics/analytic-continuation\n",
    "dynamics/k-matrix\n",
    "```\n",
    "\n",
    "```{autolink-skip}\n",
    "```"
   ]
  },
  {
   "cell_type": "code",
   "execution_count": null,
   "metadata": {
    "jupyter": {
     "source_hidden": true
    },
    "mystnb": {
     "code_prompt_show": "Import Python libraries"
    },
    "tags": [
     "hide-input"
    ]
   },
   "outputs": [],
   "source": [
    "import logging\n",
    "import warnings\n",
    "\n",
    "import matplotlib.pyplot as plt\n",
    "import mpl_interactions.ipyplot as iplt\n",
    "import numpy as np\n",
    "import sympy as sp\n",
    "from IPython.display import Math, display\n",
    "\n",
    "import symplot\n",
    "\n",
    "logging.basicConfig()\n",
    "logging.getLogger().setLevel(logging.ERROR)\n",
    "\n",
    "warnings.filterwarnings(\"ignore\")"
   ]
  },
  {
   "cell_type": "markdown",
   "metadata": {
    "tags": []
   },
   "source": [
    "## Form factor"
   ]
  },
  {
   "cell_type": "markdown",
   "metadata": {},
   "source": [
    "AmpForm uses Blatt-Weisskopf functions $B_L$ as _barrier factors_ (also called _form factors_, see {class}`.BlattWeisskopfSquared` and **[TR-029](https://compwa.github.io/report/029)**):"
   ]
  },
  {
   "cell_type": "code",
   "execution_count": null,
   "metadata": {
    "tags": []
   },
   "outputs": [],
   "source": [
    "from ampform.dynamics.form_factor import BlattWeisskopfSquared\n",
    "\n",
    "L = sp.Symbol(\"L\", integer=True, nonnegative=True)\n",
    "z = sp.Symbol(\"z\", nonnegative=True, real=True)\n",
    "bl2 = BlattWeisskopfSquared(z, L)"
   ]
  },
  {
   "cell_type": "code",
   "execution_count": null,
   "metadata": {
    "editable": true,
    "jupyter": {
     "source_hidden": true
    },
    "slideshow": {
     "slide_type": ""
    },
    "tags": [
     "hide-input"
    ]
   },
   "outputs": [],
   "source": [
    "from ampform.dynamics.form_factor import SphericalHankel1\n",
    "from ampform.io import aslatex\n",
    "\n",
    "ell = sp.Symbol(R\"\\ell\", integer=True, nonnegative=True)\n",
    "exprs = [bl2, SphericalHankel1(ell, z)]\n",
    "Math(aslatex({e: e.doit(deep=False) for e in exprs}))"
   ]
  },
  {
   "cell_type": "code",
   "execution_count": null,
   "metadata": {
    "editable": true,
    "jupyter": {
     "source_hidden": true
    },
    "slideshow": {
     "slide_type": ""
    },
    "tags": [
     "hide-input"
    ]
   },
   "outputs": [],
   "source": [
    "%config InlineBackend.figure_formats = ['svg']\n",
    "%matplotlib inline\n",
    "\n",
    "bl2_func = sp.lambdify((z, L), bl2.doit())\n",
    "x_values = np.linspace(0.0, 5.0, num=500)\n",
    "\n",
    "fig, ax = plt.subplots()\n",
    "ax.set_xlabel(f\"${sp.latex(z)}$\")\n",
    "ax.set_ylabel(f\"${sp.latex(bl2)}$\")\n",
    "ax.set_ylim(0, 10)\n",
    "\n",
    "for i in range(5):\n",
    "    y_values = bl2_func(x_values, L=i)\n",
    "    ax.plot(x_values, y_values, color=f\"C{i}\", label=f\"$L={i}$\")\n",
    "ax.legend()\n",
    "fig.show()"
   ]
  },
  {
   "cell_type": "markdown",
   "metadata": {},
   "source": [
    "The Blatt-Weisskopf form factor is used to 'dampen' the breakup-momentum at threshold and when going to infinity. A usual choice for $z$ is therefore $z=q^2d^2$ with $q^2$ the {class}`.BreakupMomentumSquared` and $d$ the impact parameter (also called meson radius). The {class}`.FormFactor` expression class can be used for this:"
   ]
  },
  {
   "cell_type": "code",
   "execution_count": null,
   "metadata": {
    "jupyter": {
     "source_hidden": true
    }
   },
   "outputs": [],
   "source": [
    "from ampform.dynamics.form_factor import FormFactor\n",
    "\n",
    "s, m1, m2, d = sp.symbols(\"s m1 m2 d\", nonnegative=True)\n",
    "ff2 = FormFactor(s, m1, m2, angular_momentum=L, meson_radius=d)"
   ]
  },
  {
   "cell_type": "code",
   "execution_count": null,
   "metadata": {
    "editable": true,
    "jupyter": {
     "source_hidden": true
    },
    "slideshow": {
     "slide_type": ""
    },
    "tags": [
     "hide-input"
    ]
   },
   "outputs": [],
   "source": [
    "from ampform.dynamics.form_factor import BreakupMomentumSquared\n",
    "\n",
    "q2 = BreakupMomentumSquared(s, m1, m2)\n",
    "exprs = [ff2, q2]\n",
    "Math(aslatex({e: e.doit(deep=False) for e in exprs}))"
   ]
  },
  {
   "cell_type": "code",
   "execution_count": null,
   "metadata": {
    "tags": [
     "remove-input"
    ]
   },
   "outputs": [],
   "source": [
    "%matplotlib widget"
   ]
  },
  {
   "cell_type": "code",
   "execution_count": null,
   "metadata": {
    "jupyter": {
     "source_hidden": true
    },
    "tags": [
     "hide-input",
     "remove-output",
     "scroll-input"
    ]
   },
   "outputs": [],
   "source": [
    "import ipywidgets as w\n",
    "\n",
    "ff2_func = sp.lambdify((s, m1, m2, L, d), ff2.doit())\n",
    "q2_func = sp.lambdify((s, m1, m2, L, d), q2.doit())\n",
    "\n",
    "x = np.linspace(0.01, 4, 500)\n",
    "sliders = dict(\n",
    "    m1=w.FloatSlider(description=\"$m_1$\", min=0, max=2, value=0.3),\n",
    "    m2=w.FloatSlider(description=\"$m_2$\", min=0, max=2, value=0.2),\n",
    "    L=w.IntSlider(description=\"$L$\", min=0, max=10, value=1),\n",
    "    d=w.FloatSlider(description=\"$d$\", min=0.1, max=5, value=1),\n",
    ")\n",
    "\n",
    "fig, ax = plt.subplots(figsize=(8, 5), tight_layout=True)\n",
    "ax.set_xlabel(\"$m$\")\n",
    "ax.axhline(0, c=\"black\", linewidth=0.5)\n",
    "LINES = None\n",
    "\n",
    "\n",
    "def plot(m1, m2, L, d):\n",
    "    global LINES\n",
    "    s = x**2\n",
    "    y_ff2 = ff2_func(s, m1, m2, L, d)\n",
    "    y_q2 = q2_func(s, m1, m2, L, d)\n",
    "    m_thr = m1 + m2\n",
    "    left = x < m_thr\n",
    "    right = x > m_thr\n",
    "    if LINES is None:\n",
    "        LINES = (\n",
    "            ax.axvline(m_thr, c=\"black\", ls=\"dotted\", label=\"$m_1+m_2$\"),\n",
    "            ax.plot(x[left], y_ff2[left], c=\"C0\", ls=\"dashed\")[0],\n",
    "            ax.plot(x[left], y_q2[left], c=\"C1\", ls=\"dashed\")[0],\n",
    "            ax.plot(x[right], y_ff2[right], c=\"C0\", label=f\"${sp.latex(ff2)}$\")[0],\n",
    "            ax.plot(x[right], y_q2[right], c=\"C1\", label=f\"${sp.latex(q2)}$\")[0],\n",
    "        )\n",
    "    else:\n",
    "        LINES[0].set_xdata(m_thr)\n",
    "        LINES[1].set_data(x[left], y_ff2[left])\n",
    "        LINES[2].set_data(x[left], y_q2[left])\n",
    "        LINES[3].set_data(x[right], y_ff2[right])\n",
    "        LINES[4].set_data(x[right], y_q2[right])\n",
    "    y_min = np.nanmin(y_q2)\n",
    "    y_max = np.nanmax(y_q2[right])\n",
    "    ax.set_ylim(y_min, y_max)\n",
    "    fig.canvas.draw()\n",
    "\n",
    "\n",
    "UI = w.VBox(list(sliders.values()))\n",
    "OUTPUT = w.interactive_output(plot, controls=sliders)\n",
    "ax.legend(loc=\"upper right\")\n",
    "display(UI, OUTPUT)"
   ]
  },
  {
   "cell_type": "code",
   "execution_count": null,
   "metadata": {
    "jupyter": {
     "source_hidden": true
    },
    "tags": [
     "remove-input"
    ]
   },
   "outputs": [],
   "source": [
    "if STATIC_WEB_PAGE:\n",
    "    from IPython.display import SVG\n",
    "\n",
    "    output_file = \"blatt-weisskopf.svg\"\n",
    "    fig.savefig(output_file)\n",
    "    display(SVG(output_file))"
   ]
  },
  {
   "cell_type": "markdown",
   "metadata": {},
   "source": [
    "## Relativistic Breit-Wigner"
   ]
  },
  {
   "cell_type": "markdown",
   "metadata": {},
   "source": [
    "AmpForm has two types of relativistic Breit-Wigner functions. Both are compared below ― for more info, see the links to the API."
   ]
  },
  {
   "cell_type": "markdown",
   "metadata": {
    "tags": []
   },
   "source": [
    "### _Without_ form factor"
   ]
  },
  {
   "cell_type": "markdown",
   "metadata": {},
   "source": [
    "The 'normal' {func}`.relativistic_breit_wigner` looks as follows:"
   ]
  },
  {
   "cell_type": "code",
   "execution_count": null,
   "metadata": {
    "tags": []
   },
   "outputs": [],
   "source": [
    "from ampform.dynamics import relativistic_breit_wigner\n",
    "\n",
    "m, m0, w0 = sp.symbols(\"m, m0, Gamma0\", nonnegative=True)\n",
    "rel_bw = relativistic_breit_wigner(s=m**2, mass0=m0, gamma0=w0)\n",
    "rel_bw"
   ]
  },
  {
   "cell_type": "markdown",
   "metadata": {},
   "source": [
    "### _With_ form factor"
   ]
  },
  {
   "cell_type": "markdown",
   "metadata": {},
   "source": [
    "The relativistic Breit-Wigner can be adapted slightly, so that its amplitude goes to zero at threshold ($m_0 = m1 + m2$) and that it becomes normalizable. This is done with {ref}`form factors <usage/dynamics:Form factor>` and can be obtained with the function {func}`.relativistic_breit_wigner_with_ff`:"
   ]
  },
  {
   "cell_type": "code",
   "execution_count": null,
   "metadata": {
    "tags": []
   },
   "outputs": [],
   "source": [
    "from ampform.dynamics import PhaseSpaceFactorSWave, relativistic_breit_wigner_with_ff\n",
    "\n",
    "rel_bw_with_ff = relativistic_breit_wigner_with_ff(\n",
    "    s=s,\n",
    "    mass0=m0,\n",
    "    gamma0=w0,\n",
    "    m_a=m1,\n",
    "    m_b=m2,\n",
    "    angular_momentum=L,\n",
    "    meson_radius=1,\n",
    "    phsp_factor=PhaseSpaceFactorSWave,\n",
    ")\n",
    "rel_bw_with_ff"
   ]
  },
  {
   "cell_type": "markdown",
   "metadata": {},
   "source": [
    "Here, $\\Gamma(m)$ is the {class}`.EnergyDependentWidth` (also called running width or mass-dependent width), defined as:"
   ]
  },
  {
   "cell_type": "code",
   "execution_count": null,
   "metadata": {
    "jupyter": {
     "source_hidden": true
    },
    "tags": []
   },
   "outputs": [],
   "source": [
    "from ampform.dynamics import EnergyDependentWidth\n",
    "\n",
    "L = sp.Symbol(\"L\", integer=True)\n",
    "width = EnergyDependentWidth(\n",
    "    s=s,\n",
    "    mass0=m0,\n",
    "    gamma0=w0,\n",
    "    m_a=m1,\n",
    "    m_b=m2,\n",
    "    angular_momentum=L,\n",
    "    meson_radius=1,\n",
    "    phsp_factor=PhaseSpaceFactorSWave,\n",
    ")\n",
    "Math(aslatex({width: width.evaluate()}))"
   ]
  },
  {
   "cell_type": "markdown",
   "metadata": {},
   "source": [
    "It is possible to choose different formulations for the phase space factor $\\rho$, see {doc}`/usage/dynamics/analytic-continuation`."
   ]
  },
  {
   "cell_type": "markdown",
   "metadata": {
    "tags": []
   },
   "source": [
    "### Analytic continuation"
   ]
  },
  {
   "cell_type": "markdown",
   "metadata": {},
   "source": [
    "The following shows the effect of {doc}`/usage/dynamics/analytic-continuation` a on relativistic Breit-Wigner:"
   ]
  },
  {
   "cell_type": "code",
   "execution_count": null,
   "metadata": {
    "jupyter": {
     "source_hidden": true
    },
    "tags": [
     "hide-cell",
     "remove-output"
    ]
   },
   "outputs": [],
   "source": [
    "from ampform.dynamics import PhaseSpaceFactorComplex\n",
    "\n",
    "# Two types of relativistic Breit-Wigners\n",
    "rel_bw_with_ff = relativistic_breit_wigner_with_ff(\n",
    "    s=m**2,\n",
    "    mass0=m0,\n",
    "    gamma0=w0,\n",
    "    m_a=m1,\n",
    "    m_b=m2,\n",
    "    angular_momentum=L,\n",
    "    meson_radius=d,\n",
    "    phsp_factor=PhaseSpaceFactorComplex,\n",
    ")\n",
    "rel_bw_with_ff_ac = relativistic_breit_wigner_with_ff(\n",
    "    s=m**2,\n",
    "    mass0=m0,\n",
    "    gamma0=w0,\n",
    "    m_a=m1,\n",
    "    m_b=m2,\n",
    "    angular_momentum=L,\n",
    "    meson_radius=d,\n",
    "    phsp_factor=PhaseSpaceFactorSWave,\n",
    ")\n",
    "\n",
    "# Lambdify\n",
    "np_rel_bw_with_ff, sliders = symplot.prepare_sliders(\n",
    "    plot_symbol=m,\n",
    "    expression=rel_bw_with_ff.doit(),\n",
    ")\n",
    "np_rel_bw_with_ff_ac = sp.lambdify(\n",
    "    args=(m, w0, L, d, m0, m1, m2),\n",
    "    expr=rel_bw_with_ff_ac.doit(),\n",
    ")\n",
    "np_rel_bw = sp.lambdify(\n",
    "    args=(m, w0, L, d, m0, m1, m2),\n",
    "    expr=rel_bw.doit(),\n",
    ")\n",
    "\n",
    "# Set sliders\n",
    "plot_domain = np.linspace(0, 4, num=500)\n",
    "sliders.set_ranges(\n",
    "    m0=(0, 4, 200),\n",
    "    Gamma0=(0, 1, 100),\n",
    "    L=(0, 10),\n",
    "    m1=(0, 2, 200),\n",
    "    m2=(0, 2, 200),\n",
    "    d=(0, 5),\n",
    ")\n",
    "sliders.set_values(\n",
    "    m0=1.5,\n",
    "    Gamma0=0.6,\n",
    "    L=0,\n",
    "    m1=0.6,\n",
    "    m2=0.6,\n",
    "    d=1,\n",
    ")\n",
    "\n",
    "fig, axes = plt.subplots(\n",
    "    nrows=2,\n",
    "    figsize=(8, 6),\n",
    "    sharex=True,\n",
    ")\n",
    "ax_ff, ax_ac = axes\n",
    "ax_ac.set_xlabel(\"$m$\")\n",
    "for ax in axes:\n",
    "    ax.axhline(0, c=\"gray\", linewidth=0.5)\n",
    "\n",
    "rho_c = PhaseSpaceFactorComplex(m**2, m1, m2)\n",
    "ax_ff.set_title(f\"'Complex' phase space factor: ${sp.latex(rho_c.evaluate())}$\")\n",
    "ax_ac.set_title(\"$S$-wave Chew-Mandelstam as phase space factor\")\n",
    "\n",
    "ylim = \"auto\"  # (-0.6, 1.2)\n",
    "controls = iplt.plot(\n",
    "    plot_domain,\n",
    "    lambda *args, **kwargs: np_rel_bw_with_ff(*args, **kwargs).real,\n",
    "    label=\"real\",\n",
    "    **sliders,\n",
    "    ylim=ylim,\n",
    "    ax=ax_ff,\n",
    ")\n",
    "iplt.plot(\n",
    "    plot_domain,\n",
    "    lambda *args, **kwargs: np_rel_bw_with_ff(*args, **kwargs).imag,\n",
    "    label=\"imaginary\",\n",
    "    controls=controls,\n",
    "    ylim=ylim,\n",
    "    ax=ax_ff,\n",
    ")\n",
    "iplt.plot(\n",
    "    plot_domain,\n",
    "    lambda *args, **kwargs: np.abs(np_rel_bw_with_ff(*args, **kwargs)) ** 2,\n",
    "    label=\"absolute\",\n",
    "    controls=controls,\n",
    "    ylim=ylim,\n",
    "    ax=ax_ff,\n",
    "    c=\"black\",\n",
    "    linestyle=\"dotted\",\n",
    ")\n",
    "\n",
    "\n",
    "iplt.plot(\n",
    "    plot_domain,\n",
    "    lambda *args, **kwargs: np_rel_bw_with_ff_ac(*args, **kwargs).real,\n",
    "    label=\"real\",\n",
    "    controls=controls,\n",
    "    ylim=ylim,\n",
    "    ax=ax_ac,\n",
    ")\n",
    "iplt.plot(\n",
    "    plot_domain,\n",
    "    lambda *args, **kwargs: np_rel_bw_with_ff_ac(*args, **kwargs).imag,\n",
    "    label=\"imaginary\",\n",
    "    controls=controls,\n",
    "    ylim=ylim,\n",
    "    ax=ax_ac,\n",
    ")\n",
    "iplt.plot(\n",
    "    plot_domain,\n",
    "    lambda *args, **kwargs: np.abs(np_rel_bw_with_ff_ac(*args, **kwargs)) ** 2,\n",
    "    label=\"absolute\",\n",
    "    controls=controls,\n",
    "    ylim=ylim,\n",
    "    ax=ax_ac,\n",
    "    c=\"black\",\n",
    "    linestyle=\"dotted\",\n",
    ")\n",
    "\n",
    "for ax in axes:\n",
    "    iplt.axvline(\n",
    "        controls[\"m0\"],\n",
    "        ax=ax,\n",
    "        c=\"red\",\n",
    "        label=f\"${sp.latex(m0)}$\",\n",
    "        alpha=0.3,\n",
    "    )\n",
    "    iplt.axvline(\n",
    "        lambda m1, m2, **kwargs: m1 + m2,\n",
    "        controls=controls,\n",
    "        ax=ax,\n",
    "        c=\"black\",\n",
    "        alpha=0.3,\n",
    "        label=f\"${sp.latex(m1)} + {sp.latex(m2)}$\",\n",
    "    )\n",
    "ax_ac.legend(loc=\"upper right\")\n",
    "fig.tight_layout()\n",
    "plt.show()"
   ]
  },
  {
   "cell_type": "code",
   "execution_count": null,
   "metadata": {
    "jupyter": {
     "source_hidden": true
    },
    "tags": [
     "remove-input",
     "full-width"
    ]
   },
   "outputs": [],
   "source": [
    "if STATIC_WEB_PAGE:\n",
    "    from IPython.display import SVG\n",
    "\n",
    "    output_file = \"relativistic-breit-wigner-with-form-factor.svg\"\n",
    "    fig.savefig(output_file)\n",
    "    display(SVG(output_file))"
   ]
  }
 ],
 "metadata": {
  "colab": {
   "toc_visible": true
  },
  "kernelspec": {
   "display_name": "Python 3 (ipykernel)",
   "language": "python",
   "name": "python3"
  },
  "language_info": {
   "codemirror_mode": {
    "name": "ipython",
    "version": 3
   },
   "file_extension": ".py",
   "mimetype": "text/x-python",
   "name": "python",
   "nbconvert_exporter": "python",
   "pygments_lexer": "ipython3",
   "version": "3.11.9"
  }
 },
 "nbformat": 4,
 "nbformat_minor": 4
}
