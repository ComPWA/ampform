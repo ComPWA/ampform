{
 "cells": [
  {
   "cell_type": "code",
   "execution_count": null,
   "metadata": {
    "jupyter": {
     "source_hidden": true
    },
    "slideshow": {
     "slide_type": "skip"
    },
    "tags": [
     "remove-cell"
    ]
   },
   "outputs": [],
   "source": [
    "%%capture\n",
    "%config Completer.use_jedi = False\n",
    "%config InlineBackend.figure_formats = ['svg']\n",
    "import os\n",
    "\n",
    "STATIC_WEB_PAGE = {\"EXECUTE_NB\", \"READTHEDOCS\"}.intersection(os.environ)\n",
    "\n",
    "# Install on Google Colab\n",
    "import subprocess\n",
    "import sys\n",
    "\n",
    "from IPython import get_ipython\n",
    "\n",
    "install_packages = \"google.colab\" in str(get_ipython())\n",
    "if install_packages:\n",
    "    for package in [\"ampform\", \"graphviz\"]:\n",
    "        subprocess.check_call(\n",
    "            [sys.executable, \"-m\", \"pip\", \"install\", package]\n",
    "        )"
   ]
  },
  {
   "cell_type": "markdown",
   "metadata": {},
   "source": [
    "# Dynamics"
   ]
  },
  {
   "cell_type": "markdown",
   "metadata": {},
   "source": [
    "By default, the dynamic terms in an amplitude model are set to $1$ by the {class}`.HelicityAmplitudeBuilder`. The method {meth}`.set_dynamics` can then be used to set dynamics lineshapes for specific resonances. The {mod}`.dynamics.builder` module provides some tools to set standard lineshapes (see below), but it is also possible to set {doc}`custom dynamics <usage/dynamics/custom>`.\n",
    "\n",
    "The standard lineshapes provided by AmpForm are illustrated below. For more info, have a look at the following pages:\n",
    "\n",
    "```{toctree}\n",
    ":maxdepth: 2\n",
    "dynamics/custom\n",
    "dynamics/analytic-continuation\n",
    "dynamics/k-matrix\n",
    "```"
   ]
  },
  {
   "cell_type": "code",
   "execution_count": null,
   "metadata": {
    "jupyter": {
     "source_hidden": true
    },
    "tags": [
     "hide-input"
    ]
   },
   "outputs": [],
   "source": [
    "%matplotlib widget\n",
    "import matplotlib.pyplot as plt\n",
    "import mpl_interactions.ipyplot as iplt\n",
    "import numpy as np\n",
    "import sympy as sp\n",
    "from IPython.display import Math\n",
    "\n",
    "import symplot"
   ]
  },
  {
   "cell_type": "code",
   "execution_count": null,
   "metadata": {
    "jupyter": {
     "source_hidden": true
    },
    "tags": [
     "remove-cell"
    ]
   },
   "outputs": [],
   "source": [
    "import logging\n",
    "import warnings\n",
    "\n",
    "logging.basicConfig()\n",
    "logging.getLogger().setLevel(logging.ERROR)\n",
    "\n",
    "warnings.filterwarnings(\"ignore\")"
   ]
  },
  {
   "cell_type": "markdown",
   "metadata": {
    "tags": []
   },
   "source": [
    "## Form factor"
   ]
  },
  {
   "cell_type": "markdown",
   "metadata": {},
   "source": [
    "AmpForm uses Blatt-Weisskopf functions $B_L$ as _barrier factors_ (also called _form factors_, see {class}`.BlattWeisskopfSquared`):"
   ]
  },
  {
   "cell_type": "code",
   "execution_count": null,
   "metadata": {
    "tags": []
   },
   "outputs": [],
   "source": [
    "from ampform.dynamics import BlattWeisskopfSquared\n",
    "\n",
    "L = sp.Symbol(\"L\", integer=True)\n",
    "z = sp.Symbol(\"z\", real=True)\n",
    "ff2 = BlattWeisskopfSquared(L, z)"
   ]
  },
  {
   "cell_type": "code",
   "execution_count": null,
   "metadata": {
    "jupyter": {
     "source_hidden": true
    },
    "tags": [
     "hide-input"
    ]
   },
   "outputs": [],
   "source": [
    "Math(f\"{sp.latex(ff2)} = {sp.latex(ff2.doit())}\")"
   ]
  },
  {
   "cell_type": "markdown",
   "metadata": {},
   "source": [
    "The Blatt-Weisskopf factor is used to 'dampen' the breakup-momentum. A usual choice for $z$ is therefore $z=q^2d^2$ with $q^2$ the {func}`.breakup_momentum_squared` and $d$ the impact parameter (also called meson radius):"
   ]
  },
  {
   "cell_type": "code",
   "execution_count": null,
   "metadata": {
    "tags": []
   },
   "outputs": [],
   "source": [
    "from ampform.dynamics import breakup_momentum_squared\n",
    "\n",
    "m, m_a, m_b, d = sp.symbols(\"m, m_a, m_b, d\")\n",
    "q_squared = breakup_momentum_squared(m ** 2, m_a, m_b)\n",
    "ff2 = BlattWeisskopfSquared(L, z=q_squared * d ** 2)"
   ]
  },
  {
   "cell_type": "code",
   "execution_count": null,
   "metadata": {
    "jupyter": {
     "source_hidden": true
    },
    "tags": [
     "remove-cell"
    ]
   },
   "outputs": [],
   "source": [
    "np_blatt_weisskopf, sliders = symplot.prepare_sliders(\n",
    "    plot_symbol=m,\n",
    "    expression=ff2.doit(),\n",
    ")\n",
    "np_breakup_momentum = sp.lambdify((m, L, d, m_a, m_b), q_squared, \"numpy\")"
   ]
  },
  {
   "cell_type": "code",
   "execution_count": null,
   "metadata": {
    "tags": [
     "remove-cell"
    ]
   },
   "outputs": [],
   "source": [
    "plot_domain = np.linspace(0.01, 4, 500)\n",
    "sliders.set_ranges(\n",
    "    L=(0, 8),\n",
    "    m_a=(0, 2, 200),\n",
    "    m_b=(0, 2, 200),\n",
    "    d=(0, 5),\n",
    ")\n",
    "sliders.set_values(\n",
    "    L=1,\n",
    "    m_a=0.3,\n",
    "    m_b=0.2,\n",
    "    d=3,\n",
    ")"
   ]
  },
  {
   "cell_type": "code",
   "execution_count": null,
   "metadata": {
    "jupyter": {
     "source_hidden": true
    },
    "tags": [
     "remove-cell"
    ]
   },
   "outputs": [],
   "source": [
    "fig, ax = plt.subplots(figsize=(8, 5), tight_layout=True)\n",
    "ax.set_xlabel(\"$m$\")\n",
    "controls = iplt.plot(\n",
    "    plot_domain,\n",
    "    np_blatt_weisskopf,\n",
    "    **sliders,\n",
    "    ylim=\"auto\",\n",
    "    label=R\"$B_L^2\\left(q(m)\\right)$\",\n",
    "    linestyle=\"dotted\",\n",
    "    ax=ax,\n",
    ")\n",
    "iplt.plot(\n",
    "    plot_domain,\n",
    "    np_breakup_momentum,\n",
    "    controls=controls,\n",
    "    ylim=\"auto\",\n",
    "    label=\"$q^2(m)$\",\n",
    "    linestyle=\"dashed\",\n",
    "    ax=ax,\n",
    ")\n",
    "iplt.title(\n",
    "    \"Effect of Blatt-Weisskopf factor\\n\"\n",
    "    \"$L={L}, m_a={m_a:.1f}, m_b={m_b:.1f}$\",\n",
    "    controls=controls,\n",
    ")\n",
    "plt.legend()\n",
    "plt.show()"
   ]
  },
  {
   "cell_type": "markdown",
   "metadata": {},
   "source": [
    "{{ run_interactive }}"
   ]
  },
  {
   "cell_type": "code",
   "execution_count": null,
   "metadata": {
    "jupyter": {
     "source_hidden": true
    },
    "tags": [
     "remove-input"
    ]
   },
   "outputs": [],
   "source": [
    "if STATIC_WEB_PAGE:\n",
    "    from IPython.display import SVG\n",
    "\n",
    "    output_file = \"blatt-weisskopf.svg\"\n",
    "    plt.savefig(output_file)\n",
    "    display(SVG(output_file))"
   ]
  },
  {
   "cell_type": "markdown",
   "metadata": {},
   "source": [
    "## Relativistic Breit-Wigner"
   ]
  },
  {
   "cell_type": "markdown",
   "metadata": {
    "tags": []
   },
   "source": [
    "### _Without_ form factor"
   ]
  },
  {
   "cell_type": "markdown",
   "metadata": {},
   "source": [
    "{func}`.relativistic_breit_wigner`:"
   ]
  },
  {
   "cell_type": "code",
   "execution_count": null,
   "metadata": {
    "tags": []
   },
   "outputs": [],
   "source": [
    "from ampform.dynamics import relativistic_breit_wigner\n",
    "\n",
    "m, m0, w0 = sp.symbols(\"m, m0, Gamma0\")\n",
    "rel_bw = relativistic_breit_wigner(s=m ** 2, mass0=m0, gamma0=w0)\n",
    "rel_bw"
   ]
  },
  {
   "cell_type": "markdown",
   "metadata": {},
   "source": [
    "### _With_ form factor"
   ]
  },
  {
   "cell_type": "markdown",
   "metadata": {},
   "source": [
    "{func}`.breakup_momentum_squared`:"
   ]
  },
  {
   "cell_type": "code",
   "execution_count": null,
   "metadata": {
    "tags": []
   },
   "outputs": [],
   "source": [
    "from ampform.dynamics import breakup_momentum_squared\n",
    "\n",
    "m_a, m_b = sp.symbols(\"m_a, m_b\")\n",
    "s = m ** 2\n",
    "q_squared = breakup_momentum_squared(s, m_a, m_b)"
   ]
  },
  {
   "cell_type": "code",
   "execution_count": null,
   "metadata": {
    "jupyter": {
     "source_hidden": true
    },
    "tags": [
     "hide-input"
    ]
   },
   "outputs": [],
   "source": [
    "Math(f\"q^2(m) = {sp.latex(q_squared)}\")"
   ]
  },
  {
   "cell_type": "markdown",
   "metadata": {},
   "source": [
    "{func}`.phase_space_factor`:"
   ]
  },
  {
   "cell_type": "code",
   "execution_count": null,
   "metadata": {
    "tags": []
   },
   "outputs": [],
   "source": [
    "from ampform.dynamics import phase_space_factor\n",
    "\n",
    "rho = phase_space_factor(s, m_a, m_b)\n",
    "rho.subs({4 * q_squared: 4 * sp.Symbol(\"q^{2}(m)\")})"
   ]
  },
  {
   "cell_type": "markdown",
   "metadata": {},
   "source": [
    "{func}`.coupled_width`:"
   ]
  },
  {
   "cell_type": "code",
   "execution_count": null,
   "metadata": {
    "tags": []
   },
   "outputs": [],
   "source": [
    "from ampform.dynamics import coupled_width\n",
    "\n",
    "L = sp.Symbol(\"L\", integer=True)\n",
    "m0, w0, d = sp.symbols(\"m0, Gamma0, d\")\n",
    "s = m ** 2\n",
    "running_width = coupled_width(\n",
    "    s=s,\n",
    "    mass0=m0,\n",
    "    gamma0=w0,\n",
    "    m_a=m_a,\n",
    "    m_b=m_b,\n",
    "    angular_momentum=L,\n",
    "    meson_radius=d,\n",
    ")"
   ]
  },
  {
   "cell_type": "code",
   "execution_count": null,
   "metadata": {
    "jupyter": {
     "source_hidden": true
    },
    "tags": [
     "hide-input"
    ]
   },
   "outputs": [],
   "source": [
    "q0_squared = breakup_momentum_squared(m0 ** 2, m_a, m_b)\n",
    "ff = BlattWeisskopfSquared(L, z=q_squared * d ** 2)\n",
    "ff0_sq = BlattWeisskopfSquared(L, z=q0_squared * d ** 2)\n",
    "rho0 = phase_space_factor(m0 ** 2, m_a, m_b)\n",
    "running_width = running_width.subs(\n",
    "    {\n",
    "        rho / rho0: sp.Symbol(R\"\\rho(m)\") / sp.Symbol(R\"\\rho(m_{0})\"),\n",
    "        ff: sp.Symbol(\"B_{L}(q)\"),\n",
    "        ff0_sq: sp.Symbol(\"B_{L}(q_{0})\"),\n",
    "    },\n",
    ")\n",
    "Math(fR\"\\Gamma(m) = {sp.latex(running_width)}\")"
   ]
  },
  {
   "cell_type": "markdown",
   "metadata": {},
   "source": [
    "{func}`.relativistic_breit_wigner_with_ff` with standard {func}`.phase_space_factor`:"
   ]
  },
  {
   "cell_type": "code",
   "execution_count": null,
   "metadata": {
    "tags": []
   },
   "outputs": [],
   "source": [
    "from ampform.dynamics import relativistic_breit_wigner_with_ff\n",
    "\n",
    "\n",
    "def breakup_momentum(s: sp.Symbol, m_a: sp.Symbol, m_b: sp.Symbol) -> sp.Expr:\n",
    "    return sp.sqrt(breakup_momentum_squared(s, m_a, m_b))\n",
    "\n",
    "\n",
    "rel_bw_with_ff = relativistic_breit_wigner_with_ff(\n",
    "    s=s,\n",
    "    mass0=m0,\n",
    "    gamma0=w0,\n",
    "    m_a=m_a,\n",
    "    m_b=m_b,\n",
    "    angular_momentum=L,\n",
    "    meson_radius=d,\n",
    "    # phsp_factor=breakup_momentum,\n",
    ")"
   ]
  },
  {
   "cell_type": "code",
   "execution_count": null,
   "metadata": {
    "jupyter": {
     "source_hidden": true
    },
    "tags": [
     "hide-input"
    ]
   },
   "outputs": [],
   "source": [
    "q_squared = breakup_momentum_squared(s, m_a, m_b)\n",
    "ff_sq = BlattWeisskopfSquared(L, z=q_squared * d ** 2)\n",
    "mass_dependent_width = coupled_width(s, m0, w0, m_a, m_b, L, d)\n",
    "rel_bw_with_ff.subs(\n",
    "    {\n",
    "        2 * q_squared: 2 * sp.Symbol(\"q^{2}(m)\"),\n",
    "        ff_sq: sp.Symbol(R\"B_{L}^{2}\\left(q\\right)\"),\n",
    "        mass_dependent_width: sp.Symbol(R\"\\Gamma(m)\"),\n",
    "    }\n",
    ")"
   ]
  },
  {
   "cell_type": "markdown",
   "metadata": {
    "tags": []
   },
   "source": [
    "### Comparison"
   ]
  },
  {
   "cell_type": "code",
   "execution_count": null,
   "metadata": {
    "jupyter": {
     "source_hidden": true
    },
    "tags": [
     "remove-cell"
    ]
   },
   "outputs": [],
   "source": [
    "np_rel_bw_with_ff, sliders = symplot.prepare_sliders(\n",
    "    plot_symbol=m,\n",
    "    expression=rel_bw_with_ff.doit(),\n",
    ")\n",
    "np_rel_bw = sp.lambdify((m, w0, L, d, m0, m_a, m_b), rel_bw.doit())"
   ]
  },
  {
   "cell_type": "code",
   "execution_count": null,
   "metadata": {
    "tags": [
     "remove-cell"
    ]
   },
   "outputs": [],
   "source": [
    "plot_domain = np.linspace(0, 4, 500)\n",
    "sliders.set_ranges(\n",
    "    m0=(0, 5, 500),\n",
    "    Gamma0=(0, 1, 100),\n",
    "    L=(0, 8),\n",
    "    m_a=(0, 2, 200),\n",
    "    m_b=(0, 2, 200),\n",
    "    d=(0, 5),\n",
    ")\n",
    "sliders.set_values(\n",
    "    m0=1.8,\n",
    "    Gamma0=0.6,\n",
    "    L=1,\n",
    "    m_a=0.2,\n",
    "    m_b=0.2,\n",
    "    d=1,\n",
    ")"
   ]
  },
  {
   "cell_type": "code",
   "execution_count": null,
   "metadata": {
    "jupyter": {
     "source_hidden": true
    },
    "tags": [
     "hide-input",
     "remove-output"
    ]
   },
   "outputs": [],
   "source": [
    "fig, axes = plt.subplots(2, 1, figsize=(8, 6), sharex=True)\n",
    "ax_real, ax_imag = axes\n",
    "ax_imag.set_xlabel(\"$m$\")\n",
    "ax_real.set_ylabel(R\"$\\left|A\\right|^2$\")\n",
    "ax_imag.set_ylabel(R\"Im$\\left(A\\right)$\")\n",
    "\n",
    "# Real\n",
    "controls = iplt.plot(\n",
    "    plot_domain,\n",
    "    lambda *args, **kwargs: np.abs(np_rel_bw_with_ff(*args, **kwargs)) ** 2,\n",
    "    label=\"$with$ form factor\",\n",
    "    **sliders,\n",
    "    ylim=\"auto\",\n",
    "    ax=ax_real,\n",
    ")\n",
    "iplt.plot(\n",
    "    plot_domain,\n",
    "    lambda *args, **kwargs: np.abs(np_rel_bw(*args, **kwargs)) ** 2,\n",
    "    label=\"no form factor\",\n",
    "    controls=controls,\n",
    "    ylim=\"auto\",\n",
    "    ax=ax_real,\n",
    ")\n",
    "iplt.axvline(controls[\"m0\"], c=\"gray\", linestyle=\"dotted\")\n",
    "\n",
    "# Imaginary\n",
    "iplt.plot(\n",
    "    plot_domain,\n",
    "    lambda *args, **kwargs: np_rel_bw_with_ff(*args, **kwargs).imag,\n",
    "    label=\"$with$ form factor\",\n",
    "    controls=controls,\n",
    "    ylim=\"auto\",\n",
    "    ax=ax_imag,\n",
    ")\n",
    "iplt.plot(\n",
    "    plot_domain,\n",
    "    lambda *args, **kwargs: np_rel_bw(*args, **kwargs).imag,\n",
    "    label=\"no form factor\",\n",
    "    controls=controls,\n",
    "    ylim=\"auto\",\n",
    "    ax=ax_imag,\n",
    ")\n",
    "iplt.axvline(controls[\"m0\"], c=\"gray\", linestyle=\"dotted\")\n",
    "\n",
    "ax_real.legend(loc=\"upper right\")\n",
    "iplt.title(\n",
    "    R\"$m_0={m0:.1f} \\qquad \\Gamma_0={Gamma0:.1f} \\qquad L={L} \\qquad m_a={m_a:.1f} \\qquad m_b={m_b:.1f}$\",\n",
    "    controls=controls,\n",
    "    ax=ax_real,\n",
    ")\n",
    "fig.tight_layout()\n",
    "plt.show()"
   ]
  },
  {
   "cell_type": "markdown",
   "metadata": {},
   "source": [
    "{{ run_interactive }}"
   ]
  },
  {
   "cell_type": "code",
   "execution_count": null,
   "metadata": {
    "jupyter": {
     "source_hidden": true
    },
    "tags": [
     "remove-input"
    ]
   },
   "outputs": [],
   "source": [
    "if STATIC_WEB_PAGE:\n",
    "    from IPython.display import SVG\n",
    "\n",
    "    output_file = \"relativistic-breit-wigner-with-form-factor.svg\"\n",
    "    plt.savefig(output_file)\n",
    "    display(SVG(output_file))"
   ]
  }
 ],
 "metadata": {
  "kernelspec": {
   "display_name": "Python 3",
   "language": "python",
   "name": "python3"
  },
  "language_info": {
   "codemirror_mode": {
    "name": "ipython",
    "version": 3
   },
   "file_extension": ".py",
   "mimetype": "text/x-python",
   "name": "python",
   "nbconvert_exporter": "python",
   "pygments_lexer": "ipython3",
   "version": "3.8.8"
  }
 },
 "nbformat": 4,
 "nbformat_minor": 4
}
