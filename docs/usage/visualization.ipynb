{
 "cells": [
  {
   "cell_type": "markdown",
   "metadata": {},
   "source": [
    "# Visualize decay topologies"
   ]
  },
  {
   "cell_type": "markdown",
   "metadata": {
    "jupyter": {
     "source_hidden": true
    },
    "tags": [
     "remove-cell"
    ]
   },
   "source": [
    "To install the [expertsystem](expertsystem) in Google Colab, **uncomment** the following:"
   ]
  },
  {
   "cell_type": "code",
   "execution_count": null,
   "metadata": {
    "jupyter": {
     "source_hidden": true
    },
    "tags": [
     "remove-cell"
    ]
   },
   "outputs": [],
   "source": [
    "# !pip install expertsystem[doc]"
   ]
  },
  {
   "cell_type": "markdown",
   "metadata": {},
   "source": [
    "The [io](expertsystem.io) module allows you to convert a [StateTransitionGraph](expertsystem.reaction.topology.StateTransitionGraph) to [DOT language](https://graphviz.org/doc/info/lang.html), which you can then visualize with third-party libraries such as [Graphviz](https://graphviz.org). This is particularly useful after running [find_solutions](expertsystem.reaction.StateTransitionManager.find_solutions), which produces a [Result](expertsystem.reaction.solving.Result) object with a [list](list) of [StateTransitionGraph](expertsystem.reaction.topology.StateTransitionGraph) instances (see the [Create amplitude models](/usage/workflow))."
   ]
  },
  {
   "cell_type": "markdown",
   "metadata": {},
   "source": [
    "## Setup"
   ]
  },
  {
   "cell_type": "markdown",
   "metadata": {},
   "source": [
    "In this notebook, we'll visualize the allowed transitions for the decay $\\psi' \\to \\gamma\\eta\\eta$ as an example."
   ]
  },
  {
   "cell_type": "code",
   "execution_count": null,
   "metadata": {},
   "outputs": [],
   "source": [
    "import expertsystem as es\n",
    "\n",
    "result = es.reaction.generate(\n",
    "    initial_state=\"psi(2S)\",\n",
    "    final_state=[\"gamma\", \"eta\", \"eta\"],\n",
    "    allowed_interaction_types=\"EM\",\n",
    ")"
   ]
  },
  {
   "cell_type": "markdown",
   "metadata": {},
   "source": [
    "## Convert to DOT and visualize"
   ]
  },
  {
   "cell_type": "markdown",
   "metadata": {},
   "source": [
    "{ref}`As noted in the usual workflow <usage/workflow:1.3. Find solutions>`, the [solutions](expertsystem.reaction.solving.Result.solutions) contain all spin projection combinations (which is necessary for the [amplitude](expertsystem.amplitude) module). It is possible to convert all these solutions to DOT language with [convert_to_dot](expertsystem.io.convert_to_dot). To avoid visualizing all solutions, we just take a subset of the [solutions](expertsystem.reaction.solving.Result.solutions):"
   ]
  },
  {
   "cell_type": "code",
   "execution_count": null,
   "metadata": {},
   "outputs": [],
   "source": [
    "dot_source = es.io.convert_to_dot(result.solutions[::50][:3])  # just some selection"
   ]
  },
  {
   "cell_type": "markdown",
   "metadata": {},
   "source": [
    "This [str](str) of [DOT language](https://graphviz.org/doc/info/lang.html) for the list of [StateTransitionGraph](expertsystem.reaction.topology.StateTransitionGraph) instances can then be visualized with a third-party library, for instance, with [graphviz.Source](graphviz.Source):"
   ]
  },
  {
   "cell_type": "markdown",
   "metadata": {
    "jupyter": {
     "source_hidden": true
    }
   },
   "source": [
    "````{margin}\n",
    "```{warning}\n",
    "[graphviz](graphviz.Source) requires your system to have DOT installed, see {doc}`Installation <graphviz:index>`.\n",
    "```\n",
    "````"
   ]
  },
  {
   "cell_type": "code",
   "execution_count": null,
   "metadata": {},
   "outputs": [],
   "source": [
    "import graphviz\n",
    "\n",
    "graphviz.Source(dot_source)"
   ]
  },
  {
   "cell_type": "markdown",
   "metadata": {},
   "source": [
    "You can also serialize the DOT string to file with [io.write](expertsystem.io.write). The file extension for a DOT file is `.gv`:"
   ]
  },
  {
   "cell_type": "code",
   "execution_count": null,
   "metadata": {},
   "outputs": [],
   "source": [
    "es.io.write(result.solutions, \"decay_topologies_with_spin.gv\")"
   ]
  },
  {
   "cell_type": "markdown",
   "metadata": {},
   "source": [
    "## Collapse graphs"
   ]
  },
  {
   "cell_type": "markdown",
   "metadata": {},
   "source": [
    "Since this list of all possible spin projections [solutions](expertsystem.reaction.solving.Result.solutions) is rather long, it is often useful to make use of the  [get_particle_graphs](expertsystem.reaction.solving.Result.get_particle_graphs) or [collapse_graphs](expertsystem.reaction.solving.Result.collapse_graphs) methods to bundle comparable graphs. First, [get_particle_graphs](expertsystem.reaction.solving.Result.get_particle_graphs) allows one collapse (ignore) the spin projections (we again show a selection only):"
   ]
  },
  {
   "cell_type": "code",
   "execution_count": null,
   "metadata": {},
   "outputs": [],
   "source": [
    "graphs = result.get_particle_graphs()\n",
    "dot_source = es.io.convert_to_dot(graphs[:3])\n",
    "graphviz.Source(dot_source)"
   ]
  },
  {
   "cell_type": "markdown",
   "metadata": {},
   "source": [
    "If that list is still too much, there is [collapse_graphs](expertsystem.reaction.solving.Result.collapse_graphs), which bundles all graphs with the same final state groupings:"
   ]
  },
  {
   "cell_type": "code",
   "execution_count": null,
   "metadata": {},
   "outputs": [],
   "source": [
    "graphs = result.collapse_graphs()\n",
    "dot_source = es.io.convert_to_dot(graphs)\n",
    "graphviz.Source(dot_source)"
   ]
  }
 ],
 "metadata": {
  "kernelspec": {
   "display_name": "Python 3",
   "language": "python",
   "name": "python3"
  },
  "language_info": {
   "codemirror_mode": {
    "name": "ipython",
    "version": 3
   },
   "file_extension": ".py",
   "mimetype": "text/x-python",
   "name": "python",
   "nbconvert_exporter": "python",
   "pygments_lexer": "ipython3",
   "version": "3.8.5"
  }
 },
 "nbformat": 4,
 "nbformat_minor": 4
}
