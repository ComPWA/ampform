{
 "cells": [
  {
   "cell_type": "code",
   "execution_count": null,
   "metadata": {
    "hideCode": true,
    "hideOutput": true,
    "hidePrompt": true,
    "jupyter": {
     "source_hidden": true
    },
    "slideshow": {
     "slide_type": "skip"
    },
    "tags": [
     "remove-cell",
     "skip-execution"
    ]
   },
   "outputs": [],
   "source": [
    "# WARNING: advised to install a specific version, e.g. ampform==0.1.2\n",
    "%pip install -q ampform[doc,viz] IPython"
   ]
  },
  {
   "cell_type": "code",
   "execution_count": null,
   "metadata": {
    "hideCode": true,
    "hideOutput": true,
    "hidePrompt": true,
    "jupyter": {
     "source_hidden": true
    },
    "slideshow": {
     "slide_type": "skip"
    },
    "tags": [
     "remove-cell"
    ]
   },
   "outputs": [],
   "source": [
    "%config InlineBackend.figure_formats = ['svg']\n",
    "import os\n",
    "\n",
    "from IPython.display import display  # noqa: F401\n",
    "\n",
    "STATIC_WEB_PAGE = {\"EXECUTE_NB\", \"READTHEDOCS\"}.intersection(os.environ)"
   ]
  },
  {
   "cell_type": "markdown",
   "metadata": {},
   "source": [
    "```{autolink-concat}\n",
    "```"
   ]
  },
  {
   "cell_type": "markdown",
   "metadata": {},
   "source": [
    "# Helicity versus canonical"
   ]
  },
  {
   "cell_type": "code",
   "execution_count": null,
   "metadata": {
    "jupyter": {
     "source_hidden": true
    },
    "tags": [
     "hide-cell"
    ]
   },
   "outputs": [],
   "source": [
    "import logging\n",
    "\n",
    "import graphviz\n",
    "import matplotlib as mpl\n",
    "import numpy as np\n",
    "import qrules\n",
    "import sympy as sp\n",
    "from IPython.display import HTML, Math\n",
    "from matplotlib import cm\n",
    "from rich.table import Table\n",
    "\n",
    "import ampform\n",
    "\n",
    "LOGGER = logging.getLogger()\n",
    "LOGGER.setLevel(logging.ERROR)"
   ]
  },
  {
   "cell_type": "markdown",
   "metadata": {},
   "source": [
    "In this notebook, we have a look at the decay\n",
    "\n",
    "$$D_1(2420)^0 \\to a_1(1260)^+ K^- \\to (K^+K^0)K^-$$\n",
    "\n",
    "in order to see the difference between a {class}`.HelicityModel` formulated in the **canonical** basis and one formulated in the **helicity** basis. To simplify things, we only look at spin projection $+1$ for $D_1(2420)^0$, because the intensities for each of the spin projections of $D_1(2420)^0$ are incoherent, no matter which spin formalism we choose.\n",
    "\n",
    ":::{tip}\n",
    "\n",
    "For more information about the helicity formalism, see {cite}`chungSpinFormalismsUpdated2014`, {cite}`richmanExperimenterGuideHelicity1984`, and {cite}`kutschkeAngularDistributionCookbook1996`.\n",
    "\n",
    ":::\n",
    "\n",
    "First, we use {func}`qrules.generate_transitions` to generate a {class}`~qrules.transition.ReactionInfo` instance for both formalisms:"
   ]
  },
  {
   "cell_type": "code",
   "execution_count": null,
   "metadata": {
    "tags": []
   },
   "outputs": [],
   "source": [
    "def generate_transitions(formalism: str):\n",
    "    reaction = qrules.generate_transitions(\n",
    "        initial_state=(\"D(1)(2420)0\", [+1]),\n",
    "        final_state=[\"K+\", \"K-\", \"K~0\"],\n",
    "        allowed_intermediate_particles=[\"a(1)(1260)+\"],\n",
    "        formalism=formalism,\n",
    "    )\n",
    "    builder = ampform.get_builder(reaction)\n",
    "    return builder.formulate()\n",
    "\n",
    "\n",
    "cano_model = generate_transitions(\"canonical-helicity\")\n",
    "heli_model = generate_transitions(\"helicity\")"
   ]
  },
  {
   "cell_type": "markdown",
   "metadata": {},
   "source": [
    "From {attr}`.components` and {attr}`.parameter_defaults`, we can see that the canonical formalism has a larger number of amplitudes."
   ]
  },
  {
   "cell_type": "code",
   "execution_count": null,
   "metadata": {
    "jupyter": {
     "source_hidden": true
    },
    "tags": [
     "hide-input"
    ]
   },
   "outputs": [],
   "source": [
    "table = Table(show_edge=False)\n",
    "table.add_column(\"Formalism\")\n",
    "table.add_column(\"Coefficients\", justify=\"right\")\n",
    "table.add_column(\"Amplitudes\", justify=\"right\")\n",
    "table.add_row(\n",
    "    \"Canonical\",\n",
    "    str(len(cano_model.parameter_defaults)),\n",
    "    str(len(cano_model.components) - 1),\n",
    ")\n",
    "table.add_row(\n",
    "    \"Helicity\",\n",
    "    str(len(heli_model.parameter_defaults)),\n",
    "    str(len(heli_model.components) - 1),\n",
    ")\n",
    "table"
   ]
  },
  {
   "cell_type": "markdown",
   "metadata": {},
   "source": [
    "The reason for this is that canonical basis distinguishes amplitudes over their $LS$-combinations. This becomes clear if we define $a$ to be the amplitude _without coefficient_ ($A = C a$), and consider what the full, coherent intensity looks like.\n",
    "\n",
    "If we write the full intensity as $I = \\left|\\sum_i A_i\\right|^2$, then we have, in the case of the **canonical** basis:"
   ]
  },
  {
   "cell_type": "code",
   "execution_count": null,
   "metadata": {
    "jupyter": {
     "source_hidden": true
    },
    "tags": [
     "hide-input",
     "full-width"
    ]
   },
   "outputs": [],
   "source": [
    "def extract_amplitude_substitutions(model, colorize=False):\n",
    "    amplitude_to_symbol = {}\n",
    "    amplitude_names = sorted(c for c in model.components if c.startswith(\"A\"))\n",
    "    n_colors = len(amplitude_names)\n",
    "    color_map = cm.brg(np.linspace(0, 1, num=n_colors + 1)[:-1])\n",
    "    color_iter = (mpl.colors.to_hex(color) for color in color_map)\n",
    "    for name in amplitude_names:\n",
    "        expr = model.components[name]\n",
    "        for par in model.parameter_defaults:\n",
    "            if par in expr.args:\n",
    "                expr /= par\n",
    "        name = \"a\" + name[1:]\n",
    "        if colorize:\n",
    "            color = next(color_iter)\n",
    "            name = Rf\"\\color{{{color}}}{{{name}}}\"\n",
    "        symbol = sp.Symbol(name)\n",
    "        amplitude_to_symbol[expr] = symbol\n",
    "    return amplitude_to_symbol\n",
    "\n",
    "\n",
    "cano_amplitude_to_symbol = extract_amplitude_substitutions(cano_model)\n",
    "heli_amplitude_to_symbol = extract_amplitude_substitutions(heli_model)\n",
    "\n",
    "\n",
    "def render_amplitude_summation(model, colorize=False):\n",
    "    amplitude_to_symbol = extract_amplitude_substitutions(model, colorize)\n",
    "    collected_expr = sp.collect(\n",
    "        model.expression.subs(amplitude_to_symbol).args[0].args[0],\n",
    "        tuple(model.parameter_defaults),\n",
    "    )\n",
    "    terms = collected_expr.args\n",
    "    latex = \"\"\n",
    "    latex += R\"\\begin{align}\"\n",
    "    latex += Rf\"\\sum_i A_i & = {sp.latex(terms[0])}\\\\\"\n",
    "    for term in terms[1:]:\n",
    "        latex += Rf\"& + {sp.latex(term)} \\\\\"\n",
    "    latex += R\"\\end{align}\"\n",
    "    return Math(latex)\n",
    "\n",
    "\n",
    "render_amplitude_summation(cano_model, colorize=True)"
   ]
  },
  {
   "cell_type": "markdown",
   "metadata": {},
   "source": [
    "In the **helicity** basis, the $LS$-combinations have been summed over already and we can only see an amplitude for each helicity:"
   ]
  },
  {
   "cell_type": "code",
   "execution_count": null,
   "metadata": {
    "jupyter": {
     "source_hidden": true
    },
    "tags": [
     "hide-input",
     "full-width"
    ]
   },
   "outputs": [],
   "source": [
    "render_amplitude_summation(heli_model)"
   ]
  },
  {
   "cell_type": "markdown",
   "metadata": {},
   "source": [
    "Amplitudes in the **canonical** basis are formulated with regard to their $LS$-couplings. As such, they contain additional [Clebsch-Gordan coefficients](https://en.wikipedia.org/wiki/Clebsch%E2%80%93Gordan_coefficients) that serve as _expansion coefficients_."
   ]
  },
  {
   "cell_type": "code",
   "execution_count": null,
   "metadata": {
    "jupyter": {
     "source_hidden": true
    },
    "tags": [
     "hide-input",
     "full-width"
    ]
   },
   "outputs": [],
   "source": [
    "def extract_amplitudes(model):\n",
    "    return {\n",
    "        expr: sp.Symbol(name)\n",
    "        for name, expr in model.components.items()\n",
    "        if name.startswith(\"A\")\n",
    "    }\n",
    "\n",
    "\n",
    "cano_amplitudes = extract_amplitudes(cano_model)\n",
    "heli_amplitudes = extract_amplitudes(heli_model)\n",
    "\n",
    "expression, symbol = next(iter(cano_amplitude_to_symbol.items()))\n",
    "display(symbol, Math(Rf\"\\quad = {sp.latex(expression)}\"))"
   ]
  },
  {
   "cell_type": "markdown",
   "metadata": {},
   "source": [
    "In the **helicity** basis, these Clebsch-Gordan coefficients and [Wigner-$D$ functions](https://en.wikipedia.org/wiki/Wigner_D-matrix) have been summed up, leaving only a Wigner-$D$ for each node in the decay chain (two in this case):"
   ]
  },
  {
   "cell_type": "code",
   "execution_count": null,
   "metadata": {
    "jupyter": {
     "source_hidden": true
    },
    "tags": [
     "hide-input"
    ]
   },
   "outputs": [],
   "source": [
    "expression, symbol = next(iter(heli_amplitude_to_symbol.items()))\n",
    "display(symbol, Math(Rf\"\\quad = {sp.latex(expression)}\"))"
   ]
  },
  {
   "cell_type": "markdown",
   "metadata": {},
   "source": [
    "See {func}`.formulate_wigner_d` and {func}`.formulate_clebsch_gordan_coefficients` for how these Wigner-$D$ functions and Clebsch-Gordan coefficients are computed for each node on a {class}`~qrules.transition.StateTransition`.\n",
    "\n",
    "We can see this also from the original {class}`~qrules.transition.ReactionInfo` objects. Let's select only the {attr}`~qrules.transition.ReactionInfo.transitions` where the $a_1(1260)^+$ resonance has spin projection $-1$ (taken to be helicity $-1$ in the helicity formalism). We then see just one {class}`~qrules.transition.StateTransition` in the helicity basis and three transitions in the canonical basis:"
   ]
  },
  {
   "cell_type": "code",
   "execution_count": null,
   "metadata": {
    "jupyter": {
     "source_hidden": true
    },
    "tags": [
     "hide-input"
    ]
   },
   "outputs": [],
   "source": [
    "def render_selection(model):\n",
    "    transitions = model.reaction_info.transitions\n",
    "    selection = filter(\n",
    "        lambda s: s.states[3].spin_projection == -1, transitions\n",
    "    )\n",
    "    dot = qrules.io.asdot(\n",
    "        selection, render_node=True, render_final_state_id=False\n",
    "    )\n",
    "    return graphviz.Source(dot)\n",
    "\n",
    "\n",
    "display(\n",
    "    HTML(\"<b>Helicity</b> basis:\"),\n",
    "    render_selection(heli_model),\n",
    "    HTML(\"<b>Canonical</b> basis:\"),\n",
    "    render_selection(cano_model),\n",
    ")"
   ]
  }
 ],
 "metadata": {
  "kernelspec": {
   "display_name": "Python 3 (ipykernel)",
   "language": "python",
   "name": "python3"
  }
 },
 "nbformat": 4,
 "nbformat_minor": 4
}
