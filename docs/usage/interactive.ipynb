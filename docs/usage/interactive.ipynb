{
 "cells": [
  {
   "cell_type": "code",
   "execution_count": null,
   "metadata": {
    "jupyter": {
     "source_hidden": true
    },
    "slideshow": {
     "slide_type": "skip"
    },
    "tags": [
     "remove-cell"
    ]
   },
   "outputs": [],
   "source": [
    "%%capture\n",
    "%config Completer.use_jedi = False\n",
    "%config InlineBackend.figure_formats = ['svg']\n",
    "\n",
    "# Install on Google Colab\n",
    "import subprocess\n",
    "import sys\n",
    "\n",
    "install_packages = \"google.colab\" in str(get_ipython())\n",
    "if install_packages:\n",
    "    for package in [\"ampform\", \"graphviz\"]:\n",
    "        subprocess.check_call(\n",
    "            [sys.executable, \"-m\", \"pip\", \"install\", package]\n",
    "        )"
   ]
  },
  {
   "cell_type": "markdown",
   "metadata": {
    "slideshow": {
     "slide_type": "skip"
    },
    "tags": []
   },
   "source": [
    "# Inspect model interactively"
   ]
  },
  {
   "cell_type": "markdown",
   "metadata": {},
   "source": [
    "In this notebook, we illustrate how to interactively inspect the {class}`.HelicityModel` that was created in {doc}`amplitude`. We do this with the excellent {doc}`mpl-interactions <mpl_interactions:index>` package."
   ]
  },
  {
   "cell_type": "markdown",
   "metadata": {},
   "source": [
    "First, use {mod}`pickle` to {func}`~pickle.load` the {class}`.HelicityModel` that we created in {doc}`amplitude`:"
   ]
  },
  {
   "cell_type": "code",
   "execution_count": null,
   "metadata": {},
   "outputs": [],
   "source": [
    "import pickle\n",
    "\n",
    "with open(\"helicity_model.pickle\", \"rb\") as stream:\n",
    "    model = pickle.load(stream)"
   ]
  },
  {
   "cell_type": "markdown",
   "metadata": {},
   "source": [
    "In this case, {ref}`as we saw <usage/amplitude:Mathematical formula>`, the overall model contains just one intensity term $I = |\\sum_i A_i|^2$, with $\\sum_i A_i$ some coherently sum of amplitudes. We can get the amplitude $\\sum_i A_i$ as follows:"
   ]
  },
  {
   "cell_type": "code",
   "execution_count": null,
   "metadata": {},
   "outputs": [],
   "source": [
    "import sympy as sp\n",
    "\n",
    "amplitude = model.expression.args[0].args[0].args[0]\n",
    "assert isinstance(amplitude, sp.Add)"
   ]
  },
  {
   "cell_type": "markdown",
   "metadata": {},
   "source": [
    "Replace some of the boring parameters with the provided {attr}`~.HelicityModel.parameter_defaults`:"
   ]
  },
  {
   "cell_type": "code",
   "execution_count": null,
   "metadata": {},
   "outputs": [],
   "source": [
    "amplitude = amplitude.doit().subs(\n",
    "    {\n",
    "        s: v\n",
    "        for s, v in model.parameter_defaults.items()\n",
    "        if not s.name.startswith(\"Gamma\") and not s.name.startswith(\"m_f(0)\")\n",
    "    }\n",
    ")\n",
    "symbols = sorted(amplitude.free_symbols, key=lambda s: s.name)\n",
    "symbols"
   ]
  },
  {
   "cell_type": "markdown",
   "metadata": {},
   "source": [
    "Identify the symbols:"
   ]
  },
  {
   "cell_type": "code",
   "execution_count": null,
   "metadata": {},
   "outputs": [],
   "source": [
    "(\n",
    "    gamma_f1500,\n",
    "    gamma_f980,\n",
    "    m_1,\n",
    "    m,\n",
    "    m_2,\n",
    "    m_f1500,\n",
    "    m_f980,\n",
    "    phi,\n",
    "    theta,\n",
    ") = tuple(symbols)"
   ]
  },
  {
   "cell_type": "markdown",
   "metadata": {},
   "source": [
    "...and use them to {func}`~sympy.utilities.lambdify.lambdify` the expression:"
   ]
  },
  {
   "cell_type": "code",
   "execution_count": null,
   "metadata": {},
   "outputs": [],
   "source": [
    "np_amplitude = sp.lambdify(\n",
    "    (m, m_f980, m_f1500, gamma_f980, gamma_f1500, m_1, m_2, phi, theta),\n",
    "    amplitude,\n",
    "    \"numpy\",\n",
    ")"
   ]
  },
  {
   "cell_type": "markdown",
   "metadata": {},
   "source": [
    "Now we are ready to use {doc}`mpl-interactions <mpl_interactions:index>` to investigate the behavior of the amplitude model. First, we define some functions that formulate what we want to plot:"
   ]
  },
  {
   "cell_type": "code",
   "execution_count": null,
   "metadata": {
    "jupyter": {
     "source_hidden": true
    },
    "tags": [
     "hide-cell"
    ]
   },
   "outputs": [],
   "source": [
    "import numpy as np\n",
    "\n",
    "\n",
    "def intensity(\n",
    "    m_values, m_f980, m_f1500, gamma_f980, gamma_f1500, m_pi, phi, theta\n",
    "):\n",
    "    values = np_amplitude(\n",
    "        m_values,\n",
    "        m_f980,\n",
    "        m_f1500,\n",
    "        gamma_f980,\n",
    "        gamma_f1500,\n",
    "        m_pi,\n",
    "        m_pi,\n",
    "        phi,\n",
    "        theta,\n",
    "    )\n",
    "    return np.abs(values) ** 2\n",
    "\n",
    "\n",
    "def argand(m_f980, m_f1500, gamma_f980, gamma_f1500, m_pi, phi, theta):\n",
    "    values = np_amplitude(\n",
    "        m_values,\n",
    "        m_f980,\n",
    "        m_f1500,\n",
    "        gamma_f980,\n",
    "        gamma_f1500,\n",
    "        m_pi,\n",
    "        m_pi,\n",
    "        phi,\n",
    "        theta,\n",
    "    )\n",
    "    argand = np.array([values.real, values.imag])\n",
    "    return argand.T\n",
    "\n",
    "\n",
    "def imag(m_values, m_f980, m_f1500, gamma_f980, gamma_f1500, m_pi, phi, theta):\n",
    "    values = np_amplitude(\n",
    "        m_values,\n",
    "        m_f980,\n",
    "        m_f1500,\n",
    "        gamma_f980,\n",
    "        gamma_f1500,\n",
    "        m_pi,\n",
    "        m_pi,\n",
    "        phi,\n",
    "        theta,\n",
    "    )\n",
    "    return values.imag\n",
    "\n",
    "\n",
    "def real(m_values, m_f980, m_f1500, gamma_f980, gamma_f1500, m_pi, phi, theta):\n",
    "    values = np_amplitude(\n",
    "        m_values,\n",
    "        m_f980,\n",
    "        m_f1500,\n",
    "        gamma_f980,\n",
    "        gamma_f1500,\n",
    "        m_pi,\n",
    "        m_pi,\n",
    "        phi,\n",
    "        theta,\n",
    "    )\n",
    "    return values.real"
   ]
  },
  {
   "cell_type": "markdown",
   "metadata": {},
   "source": [
    "Next, we need to define the domain over which to plot, as well as a range/domain for the sliders that are to represent the parameter values:"
   ]
  },
  {
   "cell_type": "code",
   "execution_count": null,
   "metadata": {
    "tags": []
   },
   "outputs": [],
   "source": [
    "m_values = np.linspace(0.2, 2.5, num=400)\n",
    "m_f980_values = np.linspace(0.8, 1.8, num=100)\n",
    "m_f1500_values = np.linspace(0.8, 1.8, num=100)\n",
    "gamma_f980_values = np.linspace(0.01, 1, num=100)\n",
    "gamma_f1500_values = np.linspace(0.01, 1, num=100)\n",
    "m_pi_values = np.linspace(0.01, 1, 10)\n",
    "phi_values = np.arange(0, 2 * np.pi, step=np.pi / 40)\n",
    "theta_values = np.arange(-np.pi, np.pi, step=np.pi / 40)"
   ]
  },
  {
   "cell_type": "markdown",
   "metadata": {},
   "source": [
    "Finally, use {doc}`mpl-interactions <mpl_interactions:index>` to plot the functions defined above with regard to the parameter values:"
   ]
  },
  {
   "cell_type": "markdown",
   "metadata": {
    "tags": []
   },
   "source": [
    ":::{margin}\n",
    "\n",
    "Interactive {mod}`~matplotlib.widgets` do not render well on web pages, so run this notebook in Google Colab or in Jupyter Lab to see the full power of {doc}`mpl-interactions <mpl_interactions:index>`!\n",
    "\n",
    ":::"
   ]
  },
  {
   "cell_type": "code",
   "execution_count": null,
   "metadata": {
    "jupyter": {
     "source_hidden": true
    },
    "tags": [
     "remove-cell"
    ]
   },
   "outputs": [],
   "source": [
    "import os\n",
    "\n",
    "STATIC_WEB_PAGE = {\"EXECUTE_NB\", \"READTHEDOCS\"}.intersection(os.environ)\n",
    "if STATIC_WEB_PAGE:\n",
    "    m_f980_values = np.linspace(0.8, 2.2, 100)\n",
    "    m_f980_values = np.concatenate((m_f980_values, np.flip(m_f980_values[1:])))"
   ]
  },
  {
   "cell_type": "code",
   "execution_count": null,
   "metadata": {
    "jupyter": {
     "source_hidden": true
    },
    "tags": [
     "hide-input"
    ]
   },
   "outputs": [],
   "source": [
    "%matplotlib widget\n",
    "import matplotlib.pyplot as plt\n",
    "import mpl_interactions.ipyplot as iplt\n",
    "\n",
    "fig, axes = plt.subplots(\n",
    "    2, 2, figsize=0.9 * np.array((8, 7)), tight_layout=True\n",
    ")\n",
    "fig.suptitle(R\"$J/\\psi \\to \\gamma f_0, f_0 \\to \\pi^0\\pi^0$\")\n",
    "((ax_intensity, ax_argand), (ax_real, ax_imag)) = axes\n",
    "m_label = R\"$m_{\\pi^0\\pi^0}$ (GeV)\"\n",
    "for ax in axes.flat:\n",
    "    if ax is ax_argand:\n",
    "        continue\n",
    "    ax.set_xlabel(m_label)\n",
    "ax_argand.set_xlabel(\"Re($A$)\")\n",
    "ax_argand.set_ylabel(\"Im($A$)\")\n",
    "ax_real.set_ylabel(\"Re($A$)\")\n",
    "ax_imag.set_ylabel(\"Im($A$)\")\n",
    "ax_intensity.set_ylabel(\"$I = |A|^2$\")\n",
    "\n",
    "controls = iplt.plot(\n",
    "    m_values,\n",
    "    intensity,\n",
    "    m_f980=m_f980_values,\n",
    "    m_f1500=m_f1500_values,\n",
    "    gamma_f980=gamma_f980_values,\n",
    "    gamma_f1500=gamma_f1500_values,\n",
    "    phi=phi_values,\n",
    "    theta=theta_values,\n",
    "    m_pi=m_pi_values,\n",
    "    ylim=\"auto\",\n",
    "    ax=ax_intensity,\n",
    "    slider_formats={\n",
    "        \"m_f980\": \"{:.3f}\",\n",
    "        \"m_f1500\": \"{:.3f}\",\n",
    "        \"m_f1500\": \"{:.3f}\",\n",
    "        \"gamma_f980\": \"{:.3f}\",\n",
    "        \"gamma_f1500\": \"{:.3f}\",\n",
    "        \"phi\": \"{:.3f}\",\n",
    "        \"theta\": \"{:.3f}\",\n",
    "        \"m_pi\": \"{:.3f}\",\n",
    "    },\n",
    ")\n",
    "iplt.scatter(\n",
    "    argand,\n",
    "    controls=controls,\n",
    "    xlim=\"auto\",\n",
    "    ylim=\"auto\",\n",
    "    parametric=True,\n",
    "    c=m_values,\n",
    "    s=1,\n",
    "    ax=ax_argand,\n",
    ")\n",
    "iplt.plot(m_values, real, controls=controls, ylim=\"auto\", ax=ax_real)\n",
    "iplt.plot(m_values, imag, controls=controls, ylim=\"auto\", ax=ax_imag)\n",
    "\n",
    "plt.colorbar(label=m_label, ax=ax_argand, aspect=30, pad=0.01)\n",
    "plt.winter()"
   ]
  },
  {
   "cell_type": "markdown",
   "metadata": {
    "tags": [
     "remove-cell"
    ]
   },
   "source": [
    "Helper for resetting the parameter values:"
   ]
  },
  {
   "cell_type": "code",
   "execution_count": null,
   "metadata": {
    "jupyter": {
     "source_hidden": true
    },
    "tags": [
     "hide-input",
     "remove-cell"
    ]
   },
   "outputs": [],
   "source": [
    "def find_index(array, value):\n",
    "    for i in range(len(array)):\n",
    "        if array[i] >= value:\n",
    "            return i\n",
    "    return 0\n",
    "\n",
    "\n",
    "def set_value(name, values, start_value):\n",
    "    controls.controls[name].children[0].value = find_index(values, start_value)"
   ]
  },
  {
   "cell_type": "code",
   "execution_count": null,
   "metadata": {
    "tags": [
     "remove-cell"
    ]
   },
   "outputs": [],
   "source": [
    "%%capture\n",
    "import qrules as q\n",
    "\n",
    "pdg = q.load_pdg()\n",
    "set_value(\"m_f980\", m_f980_values, pdg[\"f(0)(980)\"].mass)\n",
    "set_value(\"gamma_f980\", gamma_f980_values, pdg[\"f(0)(980)\"].width)\n",
    "set_value(\"m_f1500\", m_f1500_values, pdg[\"f(0)(1500)\"].mass)\n",
    "set_value(\"gamma_f1500\", gamma_f1500_values, pdg[\"f(0)(1500)\"].width)\n",
    "set_value(\"phi\", phi_values, np.pi)\n",
    "set_value(\"theta\", theta_values, 0)\n",
    "set_value(\"m_pi\", m_pi_values, pdg[\"pi0\"].mass)"
   ]
  },
  {
   "cell_type": "code",
   "execution_count": null,
   "metadata": {
    "tags": [
     "remove-cell"
    ]
   },
   "outputs": [],
   "source": [
    "%%capture\n",
    "# Export for Read the Docs\n",
    "output_path = \"animation.gif\"\n",
    "if STATIC_WEB_PAGE:\n",
    "    controls.save_animation(output_path, fig, \"m_f980\", fps=25)"
   ]
  },
  {
   "cell_type": "markdown",
   "metadata": {
    "tags": []
   },
   "source": [
    ":::{margin}\n",
    "\n",
    "This figure is an animation over **just one of the parameters**. Run the notebook itself to play around with all parameters!\n",
    "\n",
    ":::"
   ]
  },
  {
   "cell_type": "code",
   "execution_count": null,
   "metadata": {
    "tags": [
     "remove-input"
    ]
   },
   "outputs": [],
   "source": [
    "if STATIC_WEB_PAGE:\n",
    "    from IPython.display import Image\n",
    "\n",
    "    with open(output_path, \"rb\") as f:\n",
    "        display(Image(data=f.read(), format=\"png\"))"
   ]
  }
 ],
 "metadata": {
  "kernelspec": {
   "display_name": "Python 3",
   "language": "python",
   "name": "python3"
  },
  "language_info": {
   "codemirror_mode": {
    "name": "ipython",
    "version": 3
   },
   "file_extension": ".py",
   "mimetype": "text/x-python",
   "name": "python",
   "nbconvert_exporter": "python",
   "pygments_lexer": "ipython3",
   "version": "3.8.8"
  }
 },
 "nbformat": 4,
 "nbformat_minor": 4
}
