{
 "cells": [
  {
   "cell_type": "code",
   "execution_count": null,
   "metadata": {
    "jupyter": {
     "source_hidden": true
    },
    "slideshow": {
     "slide_type": "skip"
    },
    "tags": [
     "remove-cell"
    ]
   },
   "outputs": [],
   "source": [
    "%%capture\n",
    "%config Completer.use_jedi = False\n",
    "%config InlineBackend.figure_formats = ['svg']\n",
    "\n",
    "# Install on Google Colab\n",
    "import subprocess\n",
    "import sys\n",
    "\n",
    "from IPython import get_ipython\n",
    "\n",
    "install_packages = \"google.colab\" in str(get_ipython())\n",
    "if install_packages:\n",
    "    for package in [\"ampform\", \"graphviz\"]:\n",
    "        subprocess.check_call(\n",
    "            [sys.executable, \"-m\", \"pip\", \"install\", package]\n",
    "        )"
   ]
  },
  {
   "cell_type": "markdown",
   "metadata": {
    "slideshow": {
     "slide_type": "skip"
    },
    "tags": []
   },
   "source": [
    "# Inspect model interactively"
   ]
  },
  {
   "cell_type": "markdown",
   "metadata": {},
   "source": [
    "In this notebook, we illustrate how to interactively inspect the {class}`.HelicityModel` that was created in {doc}`amplitude`. We do this with the excellent {doc}`mpl-interactions <mpl_interactions:index>` package."
   ]
  },
  {
   "cell_type": "markdown",
   "metadata": {},
   "source": [
    "First, we recreate {class}`.HelicityModel`. We could also have used {mod}`pickle` to {func}`~pickle.load` the {class}`.HelicityModel` that we created in {doc}`amplitude`, but the cell below allows running this notebook independently."
   ]
  },
  {
   "cell_type": "code",
   "execution_count": null,
   "metadata": {
    "tags": [
     "hide-input"
    ]
   },
   "outputs": [],
   "source": [
    "import qrules as q\n",
    "\n",
    "from ampform import get_builder\n",
    "from ampform.dynamics.builder import (\n",
    "    create_non_dynamic_with_ff,\n",
    "    create_relativistic_breit_wigner_with_ff,\n",
    ")\n",
    "\n",
    "result = q.generate_transitions(\n",
    "    initial_state=(\"J/psi(1S)\", [-1, +1]),\n",
    "    final_state=[\"gamma\", \"pi0\", \"pi0\"],\n",
    "    allowed_intermediate_particles=[\"f(0)(980)\", \"f(0)(1500)\"],\n",
    "    allowed_interaction_types=[\"strong\", \"EM\"],\n",
    "    formalism_type=\"canonical-helicity\",\n",
    ")\n",
    "model_builder = get_builder(result)\n",
    "initial_state_particle = result.get_initial_state()[0]\n",
    "model_builder.set_dynamics(initial_state_particle, create_non_dynamic_with_ff)\n",
    "for name in result.get_intermediate_particles().names:\n",
    "    model_builder.set_dynamics(name, create_relativistic_breit_wigner_with_ff)\n",
    "model = model_builder.generate()"
   ]
  },
  {
   "cell_type": "markdown",
   "metadata": {},
   "source": [
    "In this case, {ref}`as we saw <usage/amplitude:Mathematical formula>`, the overall model contains just one intensity term $I = |\\sum_i A_i|^2$, with $\\sum_i A_i$ some coherently sum of amplitudes. We can get the amplitude $\\sum_i A_i$ as follows:"
   ]
  },
  {
   "cell_type": "code",
   "execution_count": null,
   "metadata": {},
   "outputs": [],
   "source": [
    "import sympy as sp\n",
    "\n",
    "amplitude = model.expression.args[0].args[0].args[0]\n",
    "assert isinstance(amplitude, sp.Add)"
   ]
  },
  {
   "cell_type": "markdown",
   "metadata": {},
   "source": [
    "Replace some of the boring parameters with the provided {attr}`~.HelicityModel.parameter_defaults`:"
   ]
  },
  {
   "cell_type": "code",
   "execution_count": null,
   "metadata": {},
   "outputs": [],
   "source": [
    "amplitude = amplitude.doit().subs(\n",
    "    {\n",
    "        s: v\n",
    "        for s, v in model.parameter_defaults.items()\n",
    "        if not s.name.startswith(\"Gamma\") and not s.name.startswith(\"m_f(0)\")\n",
    "    }\n",
    ")\n",
    "symbols = sorted(amplitude.free_symbols, key=lambda s: s.name)\n",
    "symbols"
   ]
  },
  {
   "cell_type": "markdown",
   "metadata": {},
   "source": [
    "Identify the symbol over which the amplitude is to be plotted. The remaining symbols will be turned into slider parameters"
   ]
  },
  {
   "cell_type": "code",
   "execution_count": null,
   "metadata": {},
   "outputs": [],
   "source": [
    "plot_variable = sp.Symbol(\"m_12\", real=True)\n",
    "slider_variables = symbols\n",
    "slider_variables.remove(plot_variable)"
   ]
  },
  {
   "cell_type": "markdown",
   "metadata": {},
   "source": [
    "Next, use them to {func}`~sympy.utilities.lambdify.lambdify` the expression:"
   ]
  },
  {
   "cell_type": "code",
   "execution_count": null,
   "metadata": {},
   "outputs": [],
   "source": [
    "np_amplitude = sp.lambdify(\n",
    "    (plot_variable, *slider_variables),\n",
    "    amplitude,\n",
    "    \"numpy\",\n",
    ")"
   ]
  },
  {
   "cell_type": "markdown",
   "metadata": {},
   "source": [
    "The function arguments are 'dummified' if the {class}`~sympy.core.symbol.Symbol` name is not a valid name for a Python variable. We therefore need some mapping between the {class}`~sympy.core.symbol.Symbol` and their 'dummified' name. This can be created with {func}`inspect.signature`:"
   ]
  },
  {
   "cell_type": "code",
   "execution_count": null,
   "metadata": {},
   "outputs": [],
   "source": [
    "import inspect\n",
    "\n",
    "variable_names = list(\n",
    "    map(lambda s: s.name, (plot_variable, *slider_variables))\n",
    ")\n",
    "arg_names = list(inspect.signature(np_amplitude).parameters)\n",
    "variable_to_arg = dict(zip(variable_names, arg_names))\n",
    "variable_to_arg"
   ]
  },
  {
   "cell_type": "markdown",
   "metadata": {},
   "source": [
    "Now we are ready to use {doc}`mpl-interactions <mpl_interactions:index>` to investigate the behavior of the amplitude model. First, we define some functions that formulate what we want to plot:"
   ]
  },
  {
   "cell_type": "code",
   "execution_count": null,
   "metadata": {
    "tags": []
   },
   "outputs": [],
   "source": [
    "import numpy as np\n",
    "\n",
    "\n",
    "def intensity(plot_variable, **kwargs):\n",
    "    values = np_amplitude(plot_variable, **kwargs)\n",
    "    return np.abs(values) ** 2\n",
    "\n",
    "\n",
    "def argand(**kwargs):\n",
    "    values = np_amplitude(plot_domain, **kwargs)\n",
    "    argand = np.array([values.real, values.imag])\n",
    "    return argand.T"
   ]
  },
  {
   "cell_type": "markdown",
   "metadata": {},
   "source": [
    "Next, we need to define the domain over which to plot, as well as a domains for the sliders that are to represent the parameter values:"
   ]
  },
  {
   "cell_type": "code",
   "execution_count": null,
   "metadata": {
    "tags": []
   },
   "outputs": [],
   "source": [
    "plot_domain = np.linspace(0.2, 2.5, num=400)\n",
    "slider_domains = {\n",
    "    \"m_f(0)(980)\": np.linspace(0.3, 1.8, 100),\n",
    "    \"m_f(0)(1500)\": np.linspace(0.3, 1.8, 100),\n",
    "    \"Gamma_f(0)(980)\": np.linspace(0.01, 1, 100),\n",
    "    \"Gamma_f(0)(1500)\": np.linspace(0.01, 1, 100),\n",
    "    \"m_1\": np.linspace(0.01, 1, 100),\n",
    "    \"m_2\": np.linspace(0.01, 1, 100),\n",
    "    \"phi_1+2\": np.arange(0, 2 * np.pi, step=np.pi / 40),\n",
    "    \"theta_1+2\": np.arange(-np.pi, np.pi, step=np.pi / 40),\n",
    "}"
   ]
  },
  {
   "cell_type": "code",
   "execution_count": null,
   "metadata": {
    "jupyter": {
     "source_hidden": true
    },
    "tags": [
     "remove-cell"
    ]
   },
   "outputs": [],
   "source": [
    "import os\n",
    "\n",
    "STATIC_WEB_PAGE = {\"EXECUTE_NB\", \"READTHEDOCS\"}.intersection(os.environ)\n",
    "if STATIC_WEB_PAGE:\n",
    "    # Concatenate flipped domain for reverse animation\n",
    "    domain = np.linspace(0.8, 2.2, 100)\n",
    "    domain = np.concatenate((domain, np.flip(domain[1:])))\n",
    "    slider_domains[\"m_f(0)(980)\"] = domain"
   ]
  },
  {
   "cell_type": "markdown",
   "metadata": {},
   "source": [
    "Similarly, it is nice to supply some starting values for the sliders:"
   ]
  },
  {
   "cell_type": "code",
   "execution_count": null,
   "metadata": {},
   "outputs": [],
   "source": [
    "pdg = q.load_pdg()\n",
    "starting_values = {\n",
    "    symbol.name: value\n",
    "    for symbol, value in model.parameter_defaults.items()\n",
    "    if symbol.name in variable_names\n",
    "}\n",
    "starting_values[\"m_1\"] = pdg[\"pi0\"].mass\n",
    "starting_values[\"m_2\"] = pdg[\"pi0\"].mass\n",
    "starting_values[\"phi_1+2\"] = 0\n",
    "starting_values[\"theta_1+2\"] = 0"
   ]
  },
  {
   "cell_type": "markdown",
   "metadata": {},
   "source": [
    "Finally, use {doc}`mpl-interactions <mpl_interactions:index>` to plot the functions defined above with regard to the parameter values:"
   ]
  },
  {
   "cell_type": "markdown",
   "metadata": {
    "tags": []
   },
   "source": [
    ":::{margin}\n",
    "\n",
    "Interactive {mod}`~matplotlib.widgets` do not render well on web pages, so run this notebook in Google Colab or in Jupyter Lab to see the full power of {doc}`mpl-interactions <mpl_interactions:index>`!\n",
    "\n",
    ":::"
   ]
  },
  {
   "cell_type": "code",
   "execution_count": null,
   "metadata": {
    "jupyter": {
     "source_hidden": true
    },
    "tags": [
     "hide-input"
    ]
   },
   "outputs": [],
   "source": [
    "%matplotlib widget\n",
    "import warnings\n",
    "\n",
    "import matplotlib.pyplot as plt\n",
    "import mpl_interactions.ipyplot as iplt\n",
    "\n",
    "warnings.filterwarnings(\"ignore\")\n",
    "\n",
    "# Create figure\n",
    "fig, axes = plt.subplots(\n",
    "    1, 2, figsize=0.9 * np.array((8, 3.8)), tight_layout=True\n",
    ")\n",
    "fig.suptitle(R\"$J/\\psi \\to \\gamma f_0, f_0 \\to \\pi^0\\pi^0$\")\n",
    "ax_intensity, ax_argand = axes\n",
    "m_label = R\"$m_{\\pi^0\\pi^0}$ (GeV)\"\n",
    "ax_intensity.set_xlabel(m_label)\n",
    "ax_intensity.set_ylabel(\"$I = |A|^2$\")\n",
    "ax_argand.set_xlabel(\"Re($A$)\")\n",
    "ax_argand.set_ylabel(\"Im($A$)\")\n",
    "\n",
    "# Fill plots\n",
    "parameters = {\n",
    "    variable_to_arg[var]: domain for var, domain in slider_domains.items()\n",
    "}\n",
    "controls = iplt.plot(\n",
    "    plot_domain,\n",
    "    intensity,\n",
    "    **parameters,\n",
    "    slider_formats={slider: \"{:.3f}\" for slider in arg_names},\n",
    "    ylim=\"auto\",\n",
    "    ax=ax_intensity,\n",
    ")\n",
    "iplt.scatter(\n",
    "    argand,\n",
    "    controls=controls,\n",
    "    xlim=\"auto\",\n",
    "    ylim=\"auto\",\n",
    "    parametric=True,\n",
    "    c=plot_domain,\n",
    "    s=1,\n",
    "    ax=ax_argand,\n",
    ")\n",
    "plt.colorbar(label=m_label, ax=ax_argand, aspect=30, pad=0.01)\n",
    "plt.winter()\n",
    "\n",
    "\n",
    "# Rename sliders\n",
    "for var, arg in variable_to_arg.items():\n",
    "    if arg == plot_variable.name:\n",
    "        continue\n",
    "    latex = sp.latex(sp.Symbol(var))\n",
    "    controls.controls[arg].children[0].description = f\"${latex}$\"\n",
    "\n",
    "\n",
    "# Set initial values for the sliders\n",
    "def find_index(array, value):\n",
    "    for i in range(len(array)):\n",
    "        if array[i] >= value:\n",
    "            return i\n",
    "    return 0\n",
    "\n",
    "\n",
    "for var_name, start_value in starting_values.items():\n",
    "    arg = variable_to_arg[var_name]\n",
    "    domain = slider_domains[var_name]\n",
    "    slider_position = find_index(domain, start_value)\n",
    "    controls.controls[arg].children[0].value = slider_position"
   ]
  },
  {
   "cell_type": "code",
   "execution_count": null,
   "metadata": {
    "jupyter": {
     "source_hidden": true
    },
    "tags": [
     "remove-cell"
    ]
   },
   "outputs": [],
   "source": [
    "# Export for Read the Docs\n",
    "if STATIC_WEB_PAGE:\n",
    "    output_path = \"animation.gif\"\n",
    "    arg_name = variable_to_arg[\"m_f(0)(980)\"]\n",
    "    controls.save_animation(output_path, fig, arg_name, fps=25)"
   ]
  },
  {
   "cell_type": "markdown",
   "metadata": {
    "tags": []
   },
   "source": [
    ":::{margin}\n",
    "\n",
    "This figure is an animation over **just one of the parameters**. Run the notebook itself to play around with all parameters!\n",
    "\n",
    ":::"
   ]
  },
  {
   "cell_type": "code",
   "execution_count": null,
   "metadata": {
    "jupyter": {
     "source_hidden": true
    },
    "tags": [
     "remove-input"
    ]
   },
   "outputs": [],
   "source": [
    "if STATIC_WEB_PAGE:\n",
    "    from IPython.display import Image\n",
    "\n",
    "    with open(output_path, \"rb\") as f:\n",
    "        display(Image(data=f.read(), format=\"png\"))"
   ]
  }
 ],
 "metadata": {
  "kernelspec": {
   "display_name": "Python 3",
   "language": "python",
   "name": "python3"
  },
  "language_info": {
   "codemirror_mode": {
    "name": "ipython",
    "version": 3
   },
   "file_extension": ".py",
   "mimetype": "text/x-python",
   "name": "python",
   "nbconvert_exporter": "python",
   "pygments_lexer": "ipython3",
   "version": "3.8.8"
  }
 },
 "nbformat": 4,
 "nbformat_minor": 4
}
