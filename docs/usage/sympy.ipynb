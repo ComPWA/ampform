{
 "cells": [
  {
   "cell_type": "code",
   "execution_count": null,
   "metadata": {
    "hideCode": true,
    "hideOutput": true,
    "hidePrompt": true,
    "jupyter": {
     "source_hidden": true
    },
    "slideshow": {
     "slide_type": "skip"
    },
    "tags": [
     "remove-cell",
     "skip-execution"
    ]
   },
   "outputs": [],
   "source": [
    "# WARNING: advised to install a specific version, e.g. ampform==0.1.2\n",
    "%pip install -q ampform[doc,viz] IPython"
   ]
  },
  {
   "cell_type": "code",
   "execution_count": null,
   "metadata": {
    "hideCode": true,
    "hideOutput": true,
    "hidePrompt": true,
    "jupyter": {
     "source_hidden": true
    },
    "slideshow": {
     "slide_type": "skip"
    },
    "tags": [
     "remove-cell"
    ]
   },
   "outputs": [],
   "source": [
    "import os\n",
    "\n",
    "STATIC_WEB_PAGE = {\"EXECUTE_NB\", \"READTHEDOCS\"}.intersection(os.environ)"
   ]
  },
  {
   "cell_type": "markdown",
   "metadata": {},
   "source": [
    "```{autolink-concat}\n",
    "```"
   ]
  },
  {
   "cell_type": "markdown",
   "metadata": {},
   "source": [
    "# SymPy helper functions"
   ]
  },
  {
   "cell_type": "markdown",
   "metadata": {},
   "source": [
    "The {mod}`ampform.sympy` module contains a few classes that make it easier to construct larger expressions that consist of several mathematical definitions."
   ]
  },
  {
   "cell_type": "markdown",
   "metadata": {},
   "source": [
    "## Unevaluated expressions"
   ]
  },
  {
   "cell_type": "markdown",
   "metadata": {},
   "source": [
    "The {func}`.unevaluated` decorator makes it easier to write classes that represent a mathematical function definition. It makes a class that derives from {class}`sp.Expr <sympy.core.expr.Expr>` behave more like a {func}`~.dataclasses.dataclass` (see [PEP&nbsp;861](https://peps.python.org/pep-0681)). All you have to do is:\n",
    "\n",
    "1. Specify the arguments the function requires.\n",
    "2. Specify how to render the 'unevaluated' or 'folded' form of the expression with a `_latex_repr_` string or method.\n",
    "3. Specify how to unfold the expression using an `evaluate()` method.\n",
    "\n",
    "In the example below, we define a phase space factor $\\rho^\\text{CM}$ using the Chew-Mandelstam function (see PDG Resonances section, [Eq.&nbsp;(50.44)](https://pdg.lbl.gov/2023/reviews/rpp2023-rev-resonances.pdf#page=15)). For this, you need to define a break-up momentum $q$ as well."
   ]
  },
  {
   "cell_type": "code",
   "execution_count": null,
   "metadata": {},
   "outputs": [],
   "source": [
    "import sympy as sp\n",
    "\n",
    "from ampform.sympy import unevaluated\n",
    "\n",
    "\n",
    "@unevaluated(real=False)\n",
    "class PhspFactorSWave(sp.Expr):\n",
    "    s: sp.Symbol\n",
    "    m1: sp.Symbol\n",
    "    m2: sp.Symbol\n",
    "    _latex_repr_ = R\"\\rho^\\text{{CM}}\\left({s}\\right)\"\n",
    "\n",
    "    def evaluate(self) -> sp.Expr:\n",
    "        s, m1, m2 = self.args\n",
    "        q = BreakupMomentum(s, m1, m2)\n",
    "        cm = (\n",
    "            (2 * q / sp.sqrt(s))\n",
    "            * sp.log((m1**2 + m2**2 - s + 2 * sp.sqrt(s) * q) / (2 * m1 * m2))\n",
    "            - (m1**2 - m2**2) * (1 / s - 1 / (m1 + m2) ** 2) * sp.log(m1 / m2)\n",
    "        ) / (16 * sp.pi**2)\n",
    "        return 16 * sp.pi * sp.I * cm\n",
    "\n",
    "\n",
    "@unevaluated(real=False)\n",
    "class BreakupMomentum(sp.Expr):\n",
    "    s: sp.Symbol\n",
    "    m1: sp.Symbol\n",
    "    m2: sp.Symbol\n",
    "    _latex_repr_ = R\"q\\left({s}\\right)\"\n",
    "\n",
    "    def evaluate(self) -> sp.Expr:\n",
    "        s, m1, m2 = self.args\n",
    "        return sp.sqrt((s - (m1 + m2) ** 2) * (s - (m1 - m2) ** 2) / (s * 4))"
   ]
  },
  {
   "cell_type": "markdown",
   "metadata": {},
   "source": [
    "As can be seen, the LaTeX rendering of these classes makes them ideal for mathematically defining and building up larger amplitude models:"
   ]
  },
  {
   "cell_type": "code",
   "execution_count": null,
   "metadata": {
    "editable": true,
    "slideshow": {
     "slide_type": ""
    },
    "tags": [
     "hide-input"
    ]
   },
   "outputs": [],
   "source": [
    "from IPython.display import Math\n",
    "\n",
    "from ampform.io import aslatex\n",
    "\n",
    "s, m1, m2 = sp.symbols(\"s m1 m2\")\n",
    "q_expr = BreakupMomentum(s, m1, m2)\n",
    "rho_expr = PhspFactorSWave(s, m1, m2)\n",
    "Math(aslatex({e: e.evaluate() for e in [rho_expr, q_expr]}))"
   ]
  },
  {
   "cell_type": "markdown",
   "metadata": {},
   "source": [
    "Class variables and default arguments to instance arguments are also supported. They can either be indicated with {class}`typing.ClassVar` or by not providing a type hint:"
   ]
  },
  {
   "cell_type": "code",
   "execution_count": null,
   "metadata": {},
   "outputs": [],
   "source": [
    "from __future__ import annotations\n",
    "\n",
    "from typing import Any, ClassVar\n",
    "\n",
    "\n",
    "@unevaluated\n",
    "class FunkyPower(sp.Expr):\n",
    "    x: Any\n",
    "    m: int = 1\n",
    "    default_return: ClassVar[sp.Expr | None] = None\n",
    "    class_name = \"my name\"\n",
    "    _latex_repr_ = R\"f_{{{m}}}\\left({x}\\right)\"\n",
    "\n",
    "    def evaluate(self) -> sp.Expr | None:\n",
    "        if self.default_return is None:\n",
    "            return self.x**self.m\n",
    "        return self.default_return\n",
    "\n",
    "\n",
    "x = sp.Symbol(\"x\")\n",
    "exprs = (\n",
    "    FunkyPower(x),\n",
    "    FunkyPower(x, 2),\n",
    "    FunkyPower(x, m=3),\n",
    ")\n",
    "Math(aslatex({e: e.doit() for e in exprs}))"
   ]
  },
  {
   "cell_type": "code",
   "execution_count": null,
   "metadata": {},
   "outputs": [],
   "source": [
    "FunkyPower.default_return = sp.Rational(0.5)\n",
    "Math(aslatex({e: e.doit() for e in exprs}))"
   ]
  },
  {
   "cell_type": "markdown",
   "metadata": {},
   "source": [
    "## Integral"
   ]
  },
  {
   "cell_type": "markdown",
   "metadata": {},
   "source": [
    "Integral over $x^p$ with symbolic range from a to b\n"
   ]
  },
  {
   "cell_type": "code",
   "execution_count": null,
   "metadata": {
    "editable": true,
    "slideshow": {
     "slide_type": ""
    },
    "tags": []
   },
   "outputs": [],
   "source": [
    "import sympy as sp\n",
    "\n",
    "from ampform.sympy import UnevaluatableIntegral\n",
    "\n",
    "x, p, a, b = sp.symbols(\"x,p,a,b\")\n",
    "integral_expr = UnevaluatableIntegral(x**p, (x, a, b))\n",
    "integral_expr.doit()"
   ]
  },
  {
   "cell_type": "code",
   "execution_count": null,
   "metadata": {
    "editable": true,
    "slideshow": {
     "slide_type": ""
    },
    "tags": []
   },
   "outputs": [],
   "source": [
    "integral_func = sp.lambdify(args=[p, a, b], expr=integral_expr)"
   ]
  },
  {
   "cell_type": "code",
   "execution_count": null,
   "metadata": {
    "editable": true,
    "slideshow": {
     "slide_type": ""
    },
    "tags": []
   },
   "outputs": [],
   "source": [
    "import numpy as np\n",
    "\n",
    "value_a = 1.2\n",
    "value_b = 3.6\n",
    "value_p = np.array([0.4, 0.6, 0.8])\n",
    "\n",
    "areas = integral_func(value_p, value_a, value_b)\n",
    "areas"
   ]
  },
  {
   "cell_type": "code",
   "execution_count": null,
   "metadata": {
    "editable": true,
    "jupyter": {
     "source_hidden": true
    },
    "slideshow": {
     "slide_type": ""
    },
    "tags": [
     "hide-input",
     "scroll-input"
    ]
   },
   "outputs": [],
   "source": [
    "%config InlineBackend.figure_formats = ['svg']\n",
    "import matplotlib.pyplot as plt\n",
    "\n",
    "x_area = np.linspace(value_a, value_b, num=100)\n",
    "x_line = np.linspace(0, 4, num=100)\n",
    "\n",
    "fig, ax = plt.subplots()\n",
    "ax.set_xlabel(\"$x$\")\n",
    "ax.set_ylabel(\"$x^p$\")\n",
    "ax.plot(x_line, x_line ** value_p[0], label=\"$p=0.4$\", color=\"C0\")\n",
    "ax.fill_between(x_area, x_area ** value_p[0], alpha=1, color=\"C0\")\n",
    "\n",
    "ax.plot(x_line, x_line ** value_p[1], label=\"$p=0.6$\", color=\"C1\")\n",
    "ax.fill_between(x_area, x_area ** value_p[1], alpha=0.6, color=\"C1\")\n",
    "\n",
    "ax.plot(x_line, x_line ** value_p[2], label=\"$p=0.8$\", color=\"C2\")\n",
    "ax.fill_between(x_area, x_area ** value_p[2], alpha=0.7, color=\"C2\")\n",
    "\n",
    "ax.text(\n",
    "    (value_a + value_b) / 2,\n",
    "    ((value_a ** value_p[0] + value_b ** value_p[0]) / 2) * 0.5,\n",
    "    \"Area\",\n",
    "    horizontalalignment=\"center\",\n",
    "    verticalalignment=\"center\",\n",
    ")\n",
    "ax.annotate(\n",
    "    \"a\", (value_a, 0.08), textcoords=\"offset points\", xytext=(0, -15), ha=\"center\"\n",
    ")\n",
    "ax.annotate(\n",
    "    \"b\", (value_b, 0.08), textcoords=\"offset points\", xytext=(0, -15), ha=\"center\"\n",
    ")\n",
    "\n",
    "ax.legend()\n",
    "plt.show()"
   ]
  },
  {
   "cell_type": "markdown",
   "metadata": {},
   "source": [
    "There are numerous functions whose integrals cannot be expressed in terms of known special functions and for which no closed-form solutions have been identified yet. Here are a few examples:\n",
    "\n",
    "1. **Integral Involving Complex Exponential and Polynomials:**\n",
    "   $$ \\int e^{x + e^{-x}} dx $$\n",
    "   This integral combines an exponential function with a nested exponential term, leading to a complexity that resists simplification in terms of known functions.\n",
    "\n",
    "2. **Integral of a Rational Function Times an Exponential:**\n",
    "   $$ \\int \\frac{e^x}{x^2 + 1} dx $$\n",
    "   This integral involves the exponential function and a non-trivial rational function, which together do not yield to standard integration techniques.\n",
    "\n",
    "3. **Integral of an Exponential of a Trigonometric Function:**\n",
    "   $$ \\int e^{\\sin x} dx $$\n",
    "   The combination of an exponential function and a sinusoidal function is another case where known methods of integration in terms of elementary or special functions fail.\n",
    "\n",
    "4. **Product of a Polynomial and a Trigonometric Function:**\n",
    "   $$ \\int x^4 \\sin(x^2) dx $$\n",
    "   This integral combines a polynomial with a trigonometric function in a non-standard way, making it resistant to analytical methods.\n",
    "\n",
    "5. **Integral of a Logarithmic Function Inside an Exponential:**\n",
    "   $$ \\int e^{\\ln(x)/x} dx $$\n",
    "   The combination of a logarithmic function inside an exponential function, as seen here, creates a complex relationship not easily resolved by known functions.\n",
    "\n",
    "In the context of hadron physics and high-energy physics, encountering such challenging integrals is not uncommon. They can arise in theoretical models, complex scattering problems, or in the analysis of experimental data. In such cases, physicists often resort to numerical integration, computational approximations, or the development of new special functions or methods tailored to the problem at hand. These integrals, while not solvable in a traditional sense, can still provide significant insights into the behaviors and properties of the systems being studied."
   ]
  },
  {
   "cell_type": "markdown",
   "metadata": {},
   "source": [
    "Some example test to compare ``sp.Integral`` and ``UnevaluatableIntegral``"
   ]
  },
  {
   "cell_type": "code",
   "execution_count": null,
   "metadata": {},
   "outputs": [],
   "source": [
    "UnevaluatableIntegral(sp.exp(-(x**4)), (x, a, b)).doit()"
   ]
  },
  {
   "cell_type": "code",
   "execution_count": null,
   "metadata": {},
   "outputs": [],
   "source": [
    "sp.Integral(sp.exp(-(x**4)), (x, a, b)).doit()"
   ]
  },
  {
   "cell_type": "code",
   "execution_count": null,
   "metadata": {},
   "outputs": [],
   "source": [
    "UnevaluatableIntegral(sp.sin(x) / x, (x, a, b)).doit()"
   ]
  },
  {
   "cell_type": "code",
   "execution_count": null,
   "metadata": {},
   "outputs": [],
   "source": [
    "sp.Integral(sp.sin(x) / x, (x, a, b)).doit()"
   ]
  },
  {
   "cell_type": "code",
   "execution_count": null,
   "metadata": {},
   "outputs": [],
   "source": [
    "UnevaluatableIntegral(sp.exp(x + sp.exp(-x)), (x, a, b)).doit()"
   ]
  },
  {
   "cell_type": "code",
   "execution_count": null,
   "metadata": {},
   "outputs": [],
   "source": [
    "sp.Integral(sp.exp(x + sp.exp(-x)), (x, a, b)).doit()"
   ]
  },
  {
   "cell_type": "code",
   "execution_count": null,
   "metadata": {},
   "outputs": [],
   "source": [
    "UnevaluatableIntegral(sp.exp(sp.log(x) / x), (x, a, b)).doit()"
   ]
  },
  {
   "cell_type": "code",
   "execution_count": null,
   "metadata": {},
   "outputs": [],
   "source": [
    "sp.Integral(sp.exp(sp.log(x) / x), (x, a, b)).doit()"
   ]
  },
  {
   "cell_type": "code",
   "execution_count": null,
   "metadata": {},
   "outputs": [],
   "source": [
    "UnevaluatableIntegral(sp.exp(sp.sin(x)), (x, a, b)).doit()"
   ]
  },
  {
   "cell_type": "code",
   "execution_count": null,
   "metadata": {},
   "outputs": [],
   "source": [
    "sp.Integral(sp.exp(sp.sin(x)), (x, a, b)).doit()"
   ]
  },
  {
   "cell_type": "code",
   "execution_count": null,
   "metadata": {},
   "outputs": [],
   "source": [
    "UnevaluatableIntegral(sp.exp(x) / (x**2 + 1), (x, a, b)).doit()"
   ]
  },
  {
   "cell_type": "code",
   "execution_count": null,
   "metadata": {},
   "outputs": [],
   "source": [
    "sp.Integral(sp.exp(x) / (x**2 + 1), (x, a, b)).doit()"
   ]
  },
  {
   "cell_type": "markdown",
   "metadata": {},
   "source": [
    "## Summations"
   ]
  },
  {
   "cell_type": "markdown",
   "metadata": {},
   "source": [
    "The {class}`.PoolSum` class makes it possible to write sums over non-integer ranges. This is for instance useful when summing over allowed helicities. Here are some examples:"
   ]
  },
  {
   "cell_type": "code",
   "execution_count": null,
   "metadata": {},
   "outputs": [],
   "source": [
    "from ampform.sympy import PoolSum\n",
    "\n",
    "i, j, m, n = sp.symbols(\"i j m n\")\n",
    "expr = PoolSum(i**m + j**n, (i, (-1, 0, +1)), (j, (2, 4, 5)))\n",
    "Math(aslatex({expr: expr.doit()}))"
   ]
  },
  {
   "cell_type": "code",
   "execution_count": null,
   "metadata": {},
   "outputs": [],
   "source": [
    "import numpy as np\n",
    "\n",
    "A = sp.IndexedBase(\"A\")\n",
    "λ, μ = sp.symbols(\"lambda mu\")\n",
    "to_range = lambda a, b: tuple(sp.Rational(i) for i in np.arange(a, b + 0.5))\n",
    "expr = abs(PoolSum(A[λ, μ], (λ, to_range(-0.5, +0.5)), (μ, to_range(-1, +1)))) ** 2\n",
    "Math(aslatex({expr: expr.doit()}))"
   ]
  }
 ],
 "metadata": {
  "colab": {
   "toc_visible": true
  },
  "kernelspec": {
   "display_name": "Python 3 (ipykernel)",
   "language": "python",
   "name": "python3"
  },
  "language_info": {
   "codemirror_mode": {
    "name": "ipython",
    "version": 3
   },
   "file_extension": ".py",
   "mimetype": "text/x-python",
   "name": "python",
   "nbconvert_exporter": "python",
   "pygments_lexer": "ipython3",
   "version": "3.11.7"
  }
 },
 "nbformat": 4,
 "nbformat_minor": 4
}
