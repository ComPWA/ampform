{
 "cells": [
  {
   "cell_type": "code",
   "execution_count": null,
   "metadata": {
    "hideCode": true,
    "hideOutput": true,
    "hidePrompt": true,
    "jupyter": {
     "source_hidden": true
    },
    "slideshow": {
     "slide_type": "skip"
    },
    "tags": [
     "remove-cell"
    ]
   },
   "outputs": [],
   "source": [
    "%config InlineBackend.figure_formats = ['svg']\n",
    "import os\n",
    "\n",
    "STATIC_WEB_PAGE = {\"EXECUTE_NB\", \"READTHEDOCS\"}.intersection(os.environ)"
   ]
  },
  {
   "cell_type": "code",
   "execution_count": null,
   "metadata": {
    "hideCode": true,
    "hideOutput": true,
    "hidePrompt": true,
    "jupyter": {
     "source_hidden": true
    },
    "slideshow": {
     "slide_type": "skip"
    },
    "tags": [
     "remove-cell",
     "skip-execution"
    ]
   },
   "outputs": [],
   "source": [
    "# WARNING: advised to install a specific version, e.g. ampform==0.1.2\n",
    "%pip install -q ampform[doc,viz] IPython"
   ]
  },
  {
   "cell_type": "markdown",
   "metadata": {},
   "source": [
    "```{autolink-concat}\n",
    "```"
   ]
  },
  {
   "cell_type": "markdown",
   "metadata": {
    "tags": []
   },
   "source": [
    "# Spin alignment"
   ]
  },
  {
   "cell_type": "code",
   "execution_count": null,
   "metadata": {
    "jupyter": {
     "source_hidden": true
    },
    "tags": [
     "hide-cell"
    ]
   },
   "outputs": [],
   "source": [
    "import logging\n",
    "\n",
    "import graphviz\n",
    "import qrules\n",
    "import sympy as sp\n",
    "from IPython.display import Math\n",
    "\n",
    "import ampform\n",
    "from ampform.helicity import formulate_wigner_d\n",
    "\n",
    "LOGGER = logging.getLogger()\n",
    "LOGGER.setLevel(logging.ERROR)\n",
    "\n",
    "\n",
    "def show_transition(transition, **kwargs):\n",
    "    if \"size\" not in kwargs:\n",
    "        kwargs[\"size\"] = 5\n",
    "    dot = qrules.io.asdot(transition, **kwargs)\n",
    "    display(graphviz.Source(dot))"
   ]
  },
  {
   "cell_type": "markdown",
   "metadata": {
    "tags": []
   },
   "source": [
    "## Helicity formalism"
   ]
  },
  {
   "cell_type": "markdown",
   "metadata": {},
   "source": [
    "Imagine we want to formulate the amplitude for the following **single** {class}`~qrules.transition.StateTransition`:"
   ]
  },
  {
   "cell_type": "code",
   "execution_count": null,
   "metadata": {
    "jupyter": {
     "source_hidden": true
    },
    "tags": [
     "hide-input"
    ]
   },
   "outputs": [],
   "source": [
    "full_reaction = qrules.generate_transitions(\n",
    "    initial_state=\"J/psi(1S)\",\n",
    "    final_state=[\"K0\", (\"Sigma+\", [+0.5]), (\"p~\", [+0.5])],\n",
    "    allowed_intermediate_particles=[\"Sigma(1660)~-\", \"N(1650)+\"],\n",
    "    allowed_interaction_types=\"strong\",\n",
    "    formalism=\"helicity\",\n",
    ")\n",
    "graphs = full_reaction.to_graphs()\n",
    "single_transition_reaction = full_reaction.from_graphs(\n",
    "    [graphs[0]], formalism=full_reaction.formalism\n",
    ")\n",
    "transition = single_transition_reaction.transitions[0]\n",
    "show_transition(transition)"
   ]
  },
  {
   "cell_type": "markdown",
   "metadata": {},
   "source": [
    "The specific {attr}`~qrules.transition.State.spin_projection`s for each {attr}`~qrules.transition.State.particle` only make sense _given a specific reference frame_. AmpForm's {class}`.HelicityAmplitudeBuilder` interprets these projections as the **helicity** $\\lambda=\\vec{S}\\cdot\\vec{p}$ of each particle _in the rest frame of the parent particle_. For example, the helicity $\\lambda_2=+\\tfrac{1}{2}$ of $\\bar p$ is the helicity as measured in the rest frame of resonance $\\bar\\Sigma(1660)^-$. The reason is that these helicities needed when formulating the two-particle state for the decay node $\\bar\\Sigma(1660)^- \\to K^0\\bar p$ (see {doc}`/usage/helicity/formalism` and {func}`.formulate_wigner_d`).\n",
    "\n",
    "Ignoring dynamics and coefficients, the {class}`.HelicityModel` for this single transition is rather simple:"
   ]
  },
  {
   "cell_type": "code",
   "execution_count": null,
   "metadata": {
    "jupyter": {
     "source_hidden": true
    },
    "tags": [
     "hide-input"
    ]
   },
   "outputs": [],
   "source": [
    "builder = ampform.get_builder(single_transition_reaction)\n",
    "model = builder.formulate()\n",
    "model.expression.subs(model.parameter_defaults).subs(1.0, 1)"
   ]
  },
  {
   "cell_type": "markdown",
   "metadata": {},
   "source": [
    "The two Wigner-$D$ functions come from the two **two-body decay nodes** that appear in the {class}`~qrules.transition.StateTransition` above. They were formulated with {func}`.formulate_wigner_d`:"
   ]
  },
  {
   "cell_type": "code",
   "execution_count": null,
   "metadata": {},
   "outputs": [],
   "source": [
    "sp.Mul(\n",
    "    formulate_wigner_d(transition, node_id=0),\n",
    "    formulate_wigner_d(transition, node_id=1),\n",
    ")"
   ]
  },
  {
   "cell_type": "markdown",
   "metadata": {},
   "source": [
    "Now, as {func}`.formulate_wigner_d` explains, the numbers that appear in the Wigner-$D$ functions here are computed from the helicities of the decay products. But there's a subtle problem with this: these helicities are _assumed to be in the rest frame of each parent particle_. For the first node, this is fine, because the parent particle rest frame matches that of the initial state in the {class}`~qrules.transition.StateTransition` above. In the second node, however, we are in a different rest frame.\n",
    "\n",
    "When summing over all amplitudes in the complete {class}`~qrules.transition.StateTransitionCollection` that contains all spin projections (helicities), the mismatch in rest frames evens out and the problem we identified here can be ignored. It again becomes a problem, however, when we are formulating an amplitude model _with different topologies_. An example would be the following reaction:"
   ]
  },
  {
   "cell_type": "code",
   "execution_count": null,
   "metadata": {
    "jupyter": {
     "source_hidden": true
    },
    "tags": [
     "hide-input"
    ]
   },
   "outputs": [],
   "source": [
    "show_transition(full_reaction, collapse_graphs=True)"
   ]
  },
  {
   "cell_type": "markdown",
   "metadata": {},
   "source": [
    "<!-- cspell:ignore mikhasenko Dalitzplot Threebody -->\n",
    "The {class}`.HelicityAmplitudeBuilder` implements the 'standard' helicity formalism as described in {cite}`richmanExperimenterGuideHelicity1984, kutschkeAngularDistributionCookbook1996, chungSpinFormalismsUpdated2014` and simply sums over the different amplitudes to get the full amplitude:"
   ]
  },
  {
   "cell_type": "code",
   "execution_count": null,
   "metadata": {
    "jupyter": {
     "source_hidden": true
    },
    "tags": [
     "hide-input",
     "full-width"
    ]
   },
   "outputs": [],
   "source": [
    "builder = ampform.get_builder(full_reaction)\n",
    "model = builder.formulate()\n",
    "latex = sp.multiline_latex(\n",
    "    sp.Symbol(\"I\"),\n",
    "    model.expression.subs(model.parameter_defaults).subs(1.0, 1),\n",
    "    environment=\"eqnarray\",\n",
    ")\n",
    "Math(latex)"
   ]
  },
  {
   "cell_type": "markdown",
   "metadata": {},
   "source": [
    "As pointed out in {cite}`marangottoHelicityAmplitudesGeneric2020, mikhasenkoDalitzplotDecompositionThreebody2020, wangNovelMethodTest2020`, this is wrong because of the mismatch in reference frames for the helicities."
   ]
  },
  {
   "cell_type": "markdown",
   "metadata": {},
   "source": [
    "## Aligning reference frames"
   ]
  },
  {
   "cell_type": "markdown",
   "metadata": {},
   "source": [
    "In what follows, we follow {cite}`marangottoHelicityAmplitudesGeneric2020` to align all amplitudes in the different topologies back to the initial state reference frame $A$, so that they can be correctly summed up. Specifically, we want to formulate a new, correctly aligned amplitude $\\mathcal{A}^{A\\to 0,1,\\dots}_{m_A,m_0,m_1,\\dots}$ from the original amplitudes $\\mathcal{A}^{A\\to R,S,i,...\\to 0,1,\\dots}_{\\lambda_A,\\lambda_0,\\lambda_1,\\dots}$ by applying Eq.(45) and Eq.(47) for generic, multi-body decays.\n",
    "\n",
    "In the following, we test the implementation with 1-to-3 body decays, just as in {cite}`marangottoHelicityAmplitudesGeneric2020`. We use the notation from {func}`.get_boost_chain_suffix` to indicate resonances $R,S,U$:"
   ]
  },
  {
   "cell_type": "code",
   "execution_count": null,
   "metadata": {
    "jupyter": {
     "source_hidden": true
    },
    "tags": [
     "hide-input"
    ]
   },
   "outputs": [],
   "source": [
    "dot1 = \"\"\"\n",
    "digraph {\n",
    "    bgcolor=none\n",
    "    rankdir=LR\n",
    "    edge [arrowhead=none]\n",
    "    node [shape=none, width=0]\n",
    "    A\n",
    "    0 [fontcolor=red]\n",
    "    1 [fontcolor=green, label=<<o>1</o>>]\n",
    "    2 [fontcolor=blue, label=<<o>2</o>>]\n",
    "    { rank=same A }\n",
    "    { rank=same 0, 1, 2 }\n",
    "    N0 [label=\"\"]\n",
    "    N1 [label=\"\"]\n",
    "    A -> N0 [style=dotted]\n",
    "    N0 -> N1 [label=\"R = 01\", fontcolor=orange]\n",
    "    N1 -> 0\n",
    "    N0 -> 2 [style=dashed]\n",
    "    N1 -> 1 [style=dashed]\n",
    "}\n",
    "\"\"\"\n",
    "dot2 = \"\"\"\n",
    "digraph {\n",
    "    bgcolor=none\n",
    "    rankdir=LR\n",
    "    edge [arrowhead=none]\n",
    "    node [shape=none, width=0]\n",
    "    A\n",
    "    0 [label=0, fontcolor=red]\n",
    "    1 [label=1, fontcolor=green, label=<<o>1</o>>]\n",
    "    2 [label=2, fontcolor=blue, label=<<o>2</o>>]\n",
    "    { rank=same A }\n",
    "    { rank=same 0, 1, 2 }\n",
    "    N0 [label=\"\"]\n",
    "    N1 [label=\"\"]\n",
    "    A -> N0 [style=dotted]\n",
    "    N0 -> N1 [label=\"S = 02\", fontcolor=violet]\n",
    "    N1 -> 0\n",
    "    N0 -> 1 [style=dashed]\n",
    "    N1 -> 2 [style=dashed]\n",
    "}\n",
    "\"\"\"\n",
    "display(*map(graphviz.Source, [dot1, dot2]))"
   ]
  },
  {
   "cell_type": "markdown",
   "metadata": {},
   "source": [
    "Rewriting and recoloring Equations (45) and (46) from {cite}`marangottoHelicityAmplitudesGeneric2020`:\n",
    "\n",
    "$$\n",
    "\\begin{eqnarray}\n",
    "\\mathcal{A}^{A \\to {\\color{orange}R},2 \\to 0,1,2}_{m_A,m_0,m_1,m_2}\n",
    "&=&\n",
    "  \\sum_{\\lambda_0^{01},\\mu_0^{01},\\nu_0^{01}}\n",
    "    {\\color{red}{D^{s_0}_{m_0,\\nu_0^{01}}}}\\!\\left({\\color{red}{\\alpha_0^{01}, \\beta_0^{01}, \\gamma_0^{01}}}\\right)\n",
    "      {\\color{red}{D^{s_0}_{\\nu_0^{01},\\mu_0^{01}}}}\\!\\left({\\color{orange}{\\phi_{_{01}}, \\theta_{_{01}}}}, 0\\right)\n",
    "      {\\color{red}{D^{s_0}_{\\mu_0^{01},\\lambda_0^{01}}}}\\!\\left({\\color{red}{\\phi_0^{01}, \\theta_0^{01}}}\\right) \\\\\n",
    "&\\times&\n",
    "  \\sum_{\\lambda_1^{01},\\mu_1^{01},\\nu_1^{01}}\n",
    "    {\\color{green}{D^{s_1}_{m_1,\\nu_1^{01}}}}\\!\\left({\\color{green}{\\alpha_1^{01}, \\beta_1^{01}, \\gamma_1^{01}}}\\right)\n",
    "      {\\color{green}{D^{s_1}_{\\nu_1^{01},\\mu_1^{01}}}}\\!\\left({\\color{orange}{\\phi_{_{01}}, \\theta_{_{01}}}}, 0\\right)\n",
    "      {\\color{green}{D^{s_1}_{\\mu_1^{01},\\lambda_1^{01}}}}\\!\\left({\\color{red}{\\phi_0^{01}, \\theta_0^{01}}}\\right) \\\\\n",
    "&\\times&\n",
    "  \\sum_{\\lambda_2^{01}}\n",
    "    {\\color{blue}{D^{s_2}_{m_2,\\lambda_2^{01}}}}\\!\\left({\\color{orange}{\\phi_{_{01}}, \\theta_{_{01}}}}, 0\\right) \\\\\n",
    "&\\times&\n",
    "  \\mathcal{A}^{A \\to {\\color{orange}R},2 \\to 0,1,2}_{m_A,\\lambda_0^{01},\\bar\\lambda_1^{01},\\bar\\lambda_2^{01}}\n",
    "\\end{eqnarray}\n",
    "$$ (alignment-R)\n",
    "\n",
    "$$\n",
    "\\begin{eqnarray}\n",
    "\\mathcal{A}^{A \\to {\\color{violet}S},1 \\to 0,1,2}_{m_A,m_0,m_1,m_2}\n",
    "&=&\n",
    "  \\sum_{\\lambda_0^{02},\\mu_0^{02},\\nu_0^{02}}\n",
    "    {\\color{red}{D^{s_0}_{m_0,\\nu_0^{02}}}}\\!\\left({\\color{red}{\\alpha_0^{02}, \\beta_0^{02}, \\gamma_0^{02}}}\\right)\n",
    "      {\\color{red}{D^{s_0}_{\\nu_0^{02},\\mu_0^{02}}}}\\!\\left({\\color{violet}{\\phi_{_{02}}, \\theta_{_{02}}}}, 0\\right)\n",
    "      {\\color{red}{D^{s_0}_{\\mu_0^{02},\\lambda_0^{02}}}}\\!\\left({\\color{red}{\\phi_0^{02}, \\theta_0^{02}}}\\right) \\\\\n",
    "&\\times&\n",
    "  \\sum_{\\lambda_1^{02}}\n",
    "    {\\color{green}{D^{s_1}_{m_1,\\lambda_1^{02}}}}\\!\\left({\\color{violet}{\\phi_{_{02}}, \\theta_{_{02}}}}, 0\\right) \\\\\n",
    "&\\times&\n",
    "  \\sum_{\\lambda_2^{02},\\mu_2^{02},\\nu_2^{02}}\n",
    "    {\\color{blue}{D^{s_2}_{m_2,\\nu_2^{02}}}}\\!\\left({\\color{blue}{\\alpha_2^{02}, \\beta_2^{02}, \\gamma_2^{02}}}\\right)\n",
    "      {\\color{blue}{D^{s_2}_{\\nu_2^{02},\\mu_2^{02}}}}\\!\\left({\\color{violet}{\\phi_{_{02}}, \\theta_{_{02}}}}, 0\\right)\n",
    "      {\\color{blue}{D^{s_2}_{\\mu_2^{02},\\lambda_2^{02}}}}\\!\\left({\\color{red}{\\phi_0^{02}, \\theta_0^{02}}}\\right) \\\\\n",
    "&\\times&\n",
    "  \\mathcal{A}^{A \\to {\\color{violet}S},2 \\to 0,1,2}_{m_A,\\lambda_0^{02},\\bar\\lambda_1^{02},\\bar\\lambda_2^{02}}\n",
    "\\end{eqnarray}\n",
    "$$ (alignment-S)"
   ]
  },
  {
   "cell_type": "markdown",
   "metadata": {},
   "source": [
    ":::{note}\n",
    "\n",
    "What should the alignment summation in $\\mathcal{A}^{A \\to {\\color{turquoise}U},0 \\to 0,1,2}_{m_A,m_0,m_1,m_2}$ look like?\n",
    "\n",
    ":::"
   ]
  },
  {
   "cell_type": "code",
   "execution_count": null,
   "metadata": {
    "jupyter": {
     "source_hidden": true
    },
    "tags": [
     "hide-input"
    ]
   },
   "outputs": [],
   "source": [
    "dot3 = \"\"\"\n",
    "digraph {\n",
    "    bgcolor=none\n",
    "    rankdir=LR\n",
    "    edge [arrowhead=none]\n",
    "    node [shape=none, width=0]\n",
    "    0 [shape=none, label=0, fontcolor=red]\n",
    "    1 [shape=none, label=1, fontcolor=green]\n",
    "    2 [shape=none, label=2, fontcolor=blue, label=<<o>2</o>>]\n",
    "    A [shape=none, label=A]\n",
    "    { rank=same A }\n",
    "    { rank=same 0, 1, 2 }\n",
    "    N0 [label=\"\"]\n",
    "    N1 [label=\"\"]\n",
    "    A -> N0 [style=dotted]\n",
    "    N0 -> N1 [label=<U =<o>12</o>>, fontcolor=turquoise, style=dashed]\n",
    "    N0 -> 0\n",
    "    N1 -> 1\n",
    "    N1 -> 2 [style=dashed]\n",
    "}\n",
    "\"\"\"\n",
    "graphviz.Source(dot3)"
   ]
  },
  {
   "cell_type": "markdown",
   "metadata": {},
   "source": [
    "$$\n",
    "\\begin{eqnarray}\n",
    "\\mathcal{A}^{A \\to {\\color{turquoise}U},0 \\to 0,1,2}_{m_A,m_0,m_1,m_2}\n",
    "&=&\n",
    "  \\sum_{\\lambda_0^{12}}\n",
    "    {\\color{red}{D^{s_0}_{m_0,\\lambda_0^{12}}}}\\!\\left({\\color{red}{\\phi_0, \\theta_0}}, 0\\right) \\\\\n",
    "&\\times&\n",
    "  \\sum_{\\lambda_1^{12},\\mu_1^{12},\\nu_1^{12}}\n",
    "    {\\color{green}{D^{s_0}_{m_0,\\nu_1^{12}}}}\\!\\left({\\color{green}{\\alpha_1^{12}, \\beta_1^{12}, \\gamma_1^{12}}}\\right)\n",
    "      {\\color{green}{D^{s_0}_{\\nu_1^{12},\\mu_1^{12}}}}\\!\\left({\\color{red}{\\phi_0, \\theta_0}}, 0\\right)\n",
    "      {\\color{green}{D^{s_0}_{\\mu_1^{12},\\lambda_1^{12}}}}\\!\\left({\\color{green}{\\phi_1^{12}, \\theta_1^{12}}}\\right) \\\\\n",
    "&\\times&\n",
    "  \\sum_{\\lambda_2^{12},\\mu_2^{12},\\nu_2^{12}}\n",
    "    {\\color{blue}{D^{s_2}_{m_2,\\nu_2^{12}}}}\\!\\left({\\color{blue}{\\alpha_2^{12}, \\beta_2^{12}, \\gamma_2^{12}}}\\right)\n",
    "      {\\color{blue}{D^{s_2}_{\\nu_2^{12},\\mu_2^{12}}}}\\!\\left({\\color{red}{\\phi_0, \\theta_0}}, 0\\right)\n",
    "      {\\color{blue}{D^{s_2}_{\\mu_2^{12},\\lambda_2^{12}}}}\\!\\left({\\color{green}{\\phi_1^{12}, \\theta_1^{12}}}\\right) \\\\\n",
    "&\\times&\n",
    "  \\mathcal{A}^{A \\to {\\color{turquoise}S},2 \\to 0,1,2}_{m_A,\\lambda_1^{12},\\bar\\lambda_1^{12},\\bar\\lambda_2^{12}}\n",
    "\\end{eqnarray}\n",
    "$$ (alignment-U)"
   ]
  },
  {
   "cell_type": "markdown",
   "metadata": {},
   "source": [
    "### $J/\\psi \\to K^0 \\Sigma^+ \\bar{p}$"
   ]
  },
  {
   "cell_type": "code",
   "execution_count": null,
   "metadata": {
    "jupyter": {
     "source_hidden": true
    },
    "tags": [
     "hide-cell"
    ]
   },
   "outputs": [],
   "source": [
    "from ampform.helicity import (\n",
    "    formulate_helicity_rotation_chain,\n",
    "    formulate_rotation_chain,\n",
    "    formulate_spin_alignment,\n",
    ")\n",
    "\n",
    "\n",
    "def show_all_spin_matrices(transition, functor, cleanup: bool) -> None:\n",
    "    for i in transition.final_states:\n",
    "        state = transition.states[i]\n",
    "        particle_name = state.particle.latex\n",
    "        s = sp.Rational(state.particle.spin)\n",
    "        m = sp.Rational(state.spin_projection)\n",
    "        display(\n",
    "            Math(\n",
    "                Rf\"|s_{i},m_{i}\\rangle=|{s},{m}\\rangle \\quad ({particle_name})\"\n",
    "            )\n",
    "        )\n",
    "        summation = functor(transition, i)\n",
    "        if cleanup:\n",
    "            summation = summation.cleanup()\n",
    "        display(summation)"
   ]
  },
  {
   "cell_type": "markdown",
   "metadata": {},
   "source": [
    "We pick one transition and want to formulate the Wigner-$D$ functions that appear in Eq.(45). The first step is to use {func}`.formulate_helicity_rotation_chain` to generate all Wigner-$D$ **helicity rotations** (see {func}`.formulate_helicity_rotation`) for each final state. These helicity rotations \"undo\" all rotations that came from each Lorentz boosts when boosting from initial state $J/\\psi$ to each final state:"
   ]
  },
  {
   "cell_type": "code",
   "execution_count": null,
   "metadata": {
    "jupyter": {
     "source_hidden": true
    },
    "tags": [
     "hide-input"
    ]
   },
   "outputs": [],
   "source": [
    "transition_r = full_reaction.transitions[-1]\n",
    "show_transition(transition_r)\n",
    "show_all_spin_matrices(\n",
    "    transition_r, formulate_helicity_rotation_chain, cleanup=True\n",
    ")"
   ]
  },
  {
   "cell_type": "markdown",
   "metadata": {},
   "source": [
    "The function {func}`.formulate_rotation_chain` goes one step further. It adds a **Wigner rotation** (see {func}`.formulate_wigner_rotation`) to the generated list of helicity rotation Wigner-$D$ functions in case there are resonances in between the initial state and rotated final state. If there are no resonances in between (here, state `2`, the $\\bar p$), there is only one helicity rotation and there is no need for a Wigner rotation."
   ]
  },
  {
   "cell_type": "code",
   "execution_count": null,
   "metadata": {
    "jupyter": {
     "source_hidden": true
    },
    "tags": [
     "hide-input"
    ]
   },
   "outputs": [],
   "source": [
    "show_all_spin_matrices(transition_r, formulate_rotation_chain, cleanup=False)"
   ]
  },
  {
   "cell_type": "markdown",
   "metadata": {},
   "source": [
    "**These are indeed all the terms that we see in Equation {eq}`alignment-R`!**\n",
    "\n",
    "To create all sum combinations for all final states, we can use {func}`.formulate_spin_alignment`. This should give the sum of Eq.(45):"
   ]
  },
  {
   "cell_type": "code",
   "execution_count": null,
   "metadata": {
    "tags": [
     "full-width"
    ]
   },
   "outputs": [],
   "source": [
    "alignment_summation = formulate_spin_alignment(transition_r)\n",
    "alignment_summation.cleanup()"
   ]
  },
  {
   "cell_type": "markdown",
   "metadata": {},
   "source": [
    "Finally, here are the generated spin alignment terms for the other two decay chains. Notice that the first is indeed the same as {eq}`alignment-S`:"
   ]
  },
  {
   "cell_type": "code",
   "execution_count": null,
   "metadata": {
    "jupyter": {
     "source_hidden": true
    },
    "tags": [
     "hide-input"
    ]
   },
   "outputs": [],
   "source": [
    "reaction_s = qrules.generate_transitions(\n",
    "    initial_state=\"J/psi(1S)\",\n",
    "    final_state=[\"K0\", (\"Sigma+\", [+0.5]), (\"p~\", [+0.5])],\n",
    "    allowed_intermediate_particles=[\"N(1650)+\"],\n",
    "    allowed_interaction_types=\"strong\",\n",
    "    formalism=\"helicity\",\n",
    ")\n",
    "transition_s = reaction_s.transitions[0]\n",
    "show_transition(transition_s)\n",
    "show_all_spin_matrices(transition_s, formulate_rotation_chain, cleanup=False)"
   ]
  },
  {
   "cell_type": "markdown",
   "metadata": {},
   "source": [
    "...and that the second matches Equation {eq}`alignment-U`:"
   ]
  },
  {
   "cell_type": "code",
   "execution_count": null,
   "metadata": {
    "jupyter": {
     "source_hidden": true
    },
    "tags": [
     "hide-input"
    ]
   },
   "outputs": [],
   "source": [
    "reaction_u = qrules.generate_transitions(\n",
    "    initial_state=\"J/psi(1S)\",\n",
    "    final_state=[\"K0\", (\"Sigma+\", [+0.5]), (\"p~\", [+0.5])],\n",
    "    allowed_intermediate_particles=[\"K*(1680)~0\"],\n",
    "    allowed_interaction_types=\"strong\",\n",
    "    formalism=\"helicity\",\n",
    ")\n",
    "transition_u = reaction_u.transitions[0]\n",
    "show_transition(transition_u)\n",
    "show_all_spin_matrices(transition_u, formulate_rotation_chain, cleanup=False)"
   ]
  },
  {
   "cell_type": "markdown",
   "metadata": {},
   "source": [
    "## Compute Wigner rotation angles"
   ]
  },
  {
   "cell_type": "code",
   "execution_count": null,
   "metadata": {},
   "outputs": [],
   "source": [
    "from ampform.kinematics import (\n",
    "    compute_boost_chain,\n",
    "    create_four_momentum_symbols,\n",
    ")\n",
    "\n",
    "dot = qrules.io.asdot(transition_u)\n",
    "topology = transition_u.topology\n",
    "display(graphviz.Source(dot))\n",
    "momenta = create_four_momentum_symbols(topology)\n",
    "for state_id in topology.outgoing_edge_ids:\n",
    "    boosts = compute_boost_chain(topology, momenta, state_id)\n",
    "    display(sp.Array(boosts))"
   ]
  },
  {
   "cell_type": "code",
   "execution_count": null,
   "metadata": {},
   "outputs": [],
   "source": [
    "from ampform.kinematics import compute_wigner_rotation_matrix\n",
    "\n",
    "for state_id in topology.outgoing_edge_ids:\n",
    "    expr = compute_wigner_rotation_matrix(topology, momenta, state_id)\n",
    "    display(expr)"
   ]
  },
  {
   "cell_type": "code",
   "execution_count": null,
   "metadata": {},
   "outputs": [],
   "source": [
    "from ampform.kinematics import compute_wigner_angles\n",
    "\n",
    "angles = {}\n",
    "for state_id in topology.outgoing_edge_ids:\n",
    "    angle_definitions = compute_wigner_angles(topology, momenta, state_id)\n",
    "    for name, expr in angle_definitions.items():\n",
    "        angle_symbol = sp.Symbol(name, real=True)\n",
    "        angles[angle_symbol] = expr\n",
    "        latex = sp.multiline_latex(angle_symbol, expr, environment=\"eqnarray\")\n",
    "        display(Math(latex))"
   ]
  },
  {
   "cell_type": "markdown",
   "metadata": {},
   "source": [
    "### Lambdification"
   ]
  },
  {
   "cell_type": "markdown",
   "metadata": {},
   "source": [
    ":::{error}\n",
    "\n",
    "Lambdification of the above expression currently results in horrifically long source code. This will cause problems in [TensorWaves](https://tensorwaves.rtfd.io).\n",
    "{{ \"See generated NumPy code for this angle {doc}`here <generated-code>`.\" if EXECUTE_NB else \"\" }}\n",
    "\n",
    ":::"
   ]
  },
  {
   "cell_type": "code",
   "execution_count": null,
   "metadata": {
    "jupyter": {
     "source_hidden": true
    },
    "tags": [
     "hide-input"
    ]
   },
   "outputs": [],
   "source": [
    "import inspect\n",
    "\n",
    "beta = sp.Symbol(\"beta_1^12\", real=True)\n",
    "beta_expr = angles[beta]\n",
    "\n",
    "func = sp.lambdify(momenta.values(), beta_expr, cse=True)\n",
    "src = inspect.getsource(func)\n",
    "n_characters = len(src)\n",
    "latex = sp.latex(beta)\n",
    "latex += Rf\":\\quad\\text{{{n_characters:,} characters in generated code}}\"\n",
    "Math(latex)"
   ]
  },
  {
   "cell_type": "markdown",
   "metadata": {},
   "source": [
    "{{ \"```{toctree}\\n:hidden:\\ngenerated-code\\n```\" if EXECUTE_NB else \"\" }}"
   ]
  }
 ],
 "metadata": {
  "kernelspec": {
   "display_name": "Python 3 (ipykernel)",
   "language": "python",
   "name": "python3"
  },
  "language_info": {
   "name": "python",
   "version": "3.8.12"
  }
 },
 "nbformat": 4,
 "nbformat_minor": 4
}
