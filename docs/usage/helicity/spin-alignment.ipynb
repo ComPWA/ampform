{
 "cells": [
  {
   "cell_type": "code",
   "execution_count": null,
   "metadata": {
    "hideCode": true,
    "hideOutput": true,
    "hidePrompt": true,
    "jupyter": {
     "source_hidden": true
    },
    "slideshow": {
     "slide_type": "skip"
    },
    "tags": [
     "remove-cell"
    ]
   },
   "outputs": [],
   "source": [
    "%config InlineBackend.figure_formats = ['svg']\n",
    "import os\n",
    "\n",
    "STATIC_WEB_PAGE = {\"EXECUTE_NB\", \"READTHEDOCS\"}.intersection(os.environ)"
   ]
  },
  {
   "cell_type": "code",
   "execution_count": null,
   "metadata": {
    "hideCode": true,
    "hideOutput": true,
    "hidePrompt": true,
    "jupyter": {
     "source_hidden": true
    },
    "slideshow": {
     "slide_type": "skip"
    },
    "tags": [
     "remove-cell",
     "skip-execution"
    ]
   },
   "outputs": [],
   "source": [
    "# WARNING: advised to install a specific version, e.g. ampform==0.1.2\n",
    "%pip install -q ampform[doc,viz] IPython"
   ]
  },
  {
   "cell_type": "markdown",
   "metadata": {
    "tags": []
   },
   "source": [
    "# Spin alignment"
   ]
  },
  {
   "cell_type": "code",
   "execution_count": null,
   "metadata": {
    "jupyter": {
     "source_hidden": true
    },
    "tags": [
     "hide-cell"
    ]
   },
   "outputs": [],
   "source": [
    "import logging\n",
    "\n",
    "import graphviz\n",
    "import qrules\n",
    "import sympy as sp\n",
    "from IPython.display import Math\n",
    "\n",
    "import ampform\n",
    "from ampform.helicity import formulate_wigner_d\n",
    "\n",
    "LOGGER = logging.getLogger()\n",
    "LOGGER.setLevel(logging.ERROR)\n",
    "\n",
    "\n",
    "def show_transition(transition, **kwargs):\n",
    "    if \"size\" not in kwargs:\n",
    "        kwargs[\"size\"] = 5\n",
    "    dot = qrules.io.asdot(transition, **kwargs)\n",
    "    display(graphviz.Source(dot))"
   ]
  },
  {
   "cell_type": "markdown",
   "metadata": {
    "tags": []
   },
   "source": [
    "## Helicity formalism"
   ]
  },
  {
   "cell_type": "markdown",
   "metadata": {},
   "source": [
    "Imagine we want to formulate the amplitude for the following **single** {class}`~qrules.transition.StateTransition`:"
   ]
  },
  {
   "cell_type": "code",
   "execution_count": null,
   "metadata": {
    "jupyter": {
     "source_hidden": true
    },
    "tags": [
     "hide-input"
    ]
   },
   "outputs": [],
   "source": [
    "full_reaction = qrules.generate_transitions(\n",
    "    initial_state=\"J/psi(1S)\",\n",
    "    final_state=[\"K0\", (\"Sigma+\", [+0.5]), (\"p~\", [+0.5])],\n",
    "    allowed_intermediate_particles=[\"Sigma(1660)~-\", \"N(1650)+\"],\n",
    "    allowed_interaction_types=\"strong\",\n",
    "    formalism=\"helicity\",\n",
    ")\n",
    "graphs = full_reaction.to_graphs()\n",
    "single_transition_reaction = full_reaction.from_graphs(\n",
    "    [graphs[0]], formalism=full_reaction.formalism\n",
    ")\n",
    "show_transition(single_transition_reaction)"
   ]
  },
  {
   "cell_type": "markdown",
   "metadata": {},
   "source": [
    "The specific {attr}`~qrules.transition.State.spin_projection`s for each {attr}`~qrules.transition.State.particle` only make sense _given a specific reference frame_. AmpForm's {class}`.HelicityAmplitudeBuilder` interprets these projections as the **helicity** $\\lambda=\\vec{S}\\cdot\\vec{p}$ of each particle _in the rest frame of the initial state_ $J/\\psi$.\n",
    "\n",
    "Ignoring dynamics and coefficients, the {class}`.HelicityModel` for this single transition is rather simple:"
   ]
  },
  {
   "cell_type": "code",
   "execution_count": null,
   "metadata": {
    "jupyter": {
     "source_hidden": true
    },
    "tags": [
     "hide-input"
    ]
   },
   "outputs": [],
   "source": [
    "builder = ampform.get_builder(single_transition_reaction)\n",
    "model = builder.formulate()\n",
    "model.expression.subs(model.parameter_defaults).subs(1.0, 1)"
   ]
  },
  {
   "cell_type": "markdown",
   "metadata": {},
   "source": [
    "The two Wigner-$D$ functions come from the two **two-body decay nodes** that appear in the {class}`~qrules.transition.StateTransition` above. They were formulated with {func}`.formulate_wigner_d`:"
   ]
  },
  {
   "cell_type": "code",
   "execution_count": null,
   "metadata": {},
   "outputs": [],
   "source": [
    "transition = single_transition_reaction.transitions[0]\n",
    "formulate_wigner_d(transition, node_id=0) * formulate_wigner_d(\n",
    "    transition, node_id=1\n",
    ")"
   ]
  },
  {
   "cell_type": "markdown",
   "metadata": {},
   "source": [
    "Now, as {func}`.formulate_wigner_d` explains, the numbers that appear in the Wigner-$D$ functions here are computed from the helicities of the decay products. But there's a subtle problem with this: these helicities are _assumed to be in the rest frame of each parent particle_. For the first node, this is fine, because the parent particle rest frame matches that of the initial state in the {class}`~qrules.transition.StateTransition` above. In the second node, however, we are in a different rest frame.\n",
    "\n",
    "When summing over all amplitudes in the complete {class}`~qrules.transition.StateTransitionCollection` that contains all spin projections (helicities), the mismatch in rest frames evens out and the problem we identified here can be ignored. It again becomes a problem, however, when we are formulating an amplitude model _with different topologies_. An example would be the following reaction:"
   ]
  },
  {
   "cell_type": "code",
   "execution_count": null,
   "metadata": {
    "jupyter": {
     "source_hidden": true
    },
    "tags": [
     "hide-input"
    ]
   },
   "outputs": [],
   "source": [
    "show_transition(full_reaction, collapse_graphs=True)"
   ]
  },
  {
   "cell_type": "markdown",
   "metadata": {},
   "source": [
    "<!-- cspell:ignore mikhasenko Dalitzplot Threebody -->\n",
    "The {class}`.HelicityAmplitudeBuilder` implements the 'standard' helicity formalism as described in {cite}`richmanExperimenterGuideHelicity1984, kutschkeAngularDistributionCookbook1996, chungSpinFormalismsUpdated2014` and simply sums over the different amplitudes to get the full amplitude:"
   ]
  },
  {
   "cell_type": "code",
   "execution_count": null,
   "metadata": {
    "jupyter": {
     "source_hidden": true
    },
    "tags": [
     "hide-input",
     "full-width"
    ]
   },
   "outputs": [],
   "source": [
    "builder = ampform.get_builder(full_reaction)\n",
    "model = builder.formulate()\n",
    "latex = sp.multiline_latex(\n",
    "    sp.Symbol(\"I\"),\n",
    "    model.expression.subs(model.parameter_defaults).subs(1.0, 1),\n",
    "    environment=\"eqnarray\",\n",
    ")\n",
    "Math(latex)"
   ]
  },
  {
   "cell_type": "markdown",
   "metadata": {},
   "source": [
    "As pointed out in {cite}`marangottoHelicityAmplitudesGeneric2020, mikhasenkoDalitzplotDecompositionThreebody2020, wangNovelMethodTest2020`, this is wrong because of the mismatch in reference frames for the helicities."
   ]
  },
  {
   "cell_type": "markdown",
   "metadata": {},
   "source": [
    "## Aligning reference frames"
   ]
  },
  {
   "cell_type": "markdown",
   "metadata": {},
   "source": [
    "In what follows, we follow {cite}`marangottoHelicityAmplitudesGeneric2020` to align all amplitudes in the different topologies back to the initial state reference frame $A$, so that they can be correctly summed up. Specifically, we want to formulate a new, correctly aligned amplitude $\\mathcal{A}^{A\\to 0,1,\\dots}_{m_A,m_0,m_1,\\dots}$ from the original amplitudes $\\mathcal{A}^{A\\to R,S,i,...\\to 0,1,\\dots}_{\\lambda_A,\\lambda_0,\\lambda_1,\\dots}$ by applying Eq.(45) and Eq.(47) for generic, multi-body decays."
   ]
  }
 ],
 "metadata": {
  "kernelspec": {
   "display_name": "Python 3 (ipykernel)",
   "language": "python",
   "name": "python3"
  },
  "language_info": {
   "name": "python",
   "version": "3.8.12"
  }
 },
 "nbformat": 4,
 "nbformat_minor": 4
}
