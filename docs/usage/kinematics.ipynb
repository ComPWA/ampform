{
 "cells": [
  {
   "cell_type": "code",
   "execution_count": null,
   "metadata": {
    "hideCode": true,
    "hideOutput": true,
    "hidePrompt": true,
    "jupyter": {
     "source_hidden": true
    },
    "slideshow": {
     "slide_type": "skip"
    },
    "tags": [
     "remove-cell",
     "skip-execution"
    ]
   },
   "outputs": [],
   "source": [
    "# WARNING: advised to install a specific version, e.g. ampform==0.1.2\n",
    "%pip install -q ampform[doc,viz] IPython"
   ]
  },
  {
   "cell_type": "code",
   "execution_count": null,
   "metadata": {
    "hideCode": true,
    "hideOutput": true,
    "hidePrompt": true,
    "jupyter": {
     "source_hidden": true
    },
    "slideshow": {
     "slide_type": "skip"
    },
    "tags": [
     "remove-cell"
    ]
   },
   "outputs": [],
   "source": [
    "import os\n",
    "\n",
    "STATIC_WEB_PAGE = {\"EXECUTE_NB\", \"READTHEDOCS\"}.intersection(os.environ)"
   ]
  },
  {
   "cell_type": "markdown",
   "metadata": {},
   "source": [
    "```{autolink-concat}\n",
    "```"
   ]
  },
  {
   "cell_type": "markdown",
   "metadata": {
    "tags": []
   },
   "source": [
    "# Kinematics"
   ]
  },
  {
   "cell_type": "code",
   "execution_count": null,
   "metadata": {
    "jupyter": {
     "source_hidden": true
    },
    "tags": [
     "hide-cell"
    ]
   },
   "outputs": [],
   "source": [
    "import sympy as sp\n",
    "from IPython.display import Math\n",
    "\n",
    "from ampform.io import aslatex"
   ]
  },
  {
   "cell_type": "markdown",
   "metadata": {},
   "source": [
    "## Lorentz vectors"
   ]
  },
  {
   "cell_type": "markdown",
   "metadata": {},
   "source": [
    "AmpForm provides classes for formulating symbolic expressions for boosting and rotating Lorentz vectors. Usually, when building an amplitude model, you don't have to use these classes, but sometimes you want to boost some four-momenta yourself (for instance to boost into the center-of-mass frame of your experiment. Here, we boost a four-momentum $q$ from the lab frame of the BESIII detector into the center-of-mass frame $p$ of the $e^-e^+$&nbsp;collision. Symbolically, this looks like this:"
   ]
  },
  {
   "cell_type": "code",
   "execution_count": null,
   "metadata": {
    "tags": []
   },
   "outputs": [],
   "source": [
    "from ampform.kinematics import (\n",
    "    ArrayMultiplication,\n",
    "    ArraySize,\n",
    "    BoostZMatrix,\n",
    "    Energy,\n",
    "    FourMomentumSymbol,\n",
    "    three_momentum_norm,\n",
    ")\n",
    "\n",
    "p = FourMomentumSymbol(\"p\", shape=[])\n",
    "q = FourMomentumSymbol(\"q\", shape=[])\n",
    "beta = three_momentum_norm(p) / Energy(p)\n",
    "Bz = BoostZMatrix(beta, n_events=ArraySize(beta))\n",
    "Bz_expr = ArrayMultiplication(Bz, q)\n",
    "Bz_expr"
   ]
  },
  {
   "cell_type": "markdown",
   "metadata": {},
   "source": [
    "We now use SymPy to create a numerical function. (Of course, you can use [TensorWaves](https://tensorwaves.rtfd.io) instead to use other numerical backends.)"
   ]
  },
  {
   "cell_type": "code",
   "execution_count": null,
   "metadata": {},
   "outputs": [],
   "source": [
    "Bz_func = sp.lambdify([p, q], Bz_expr.doit(), cse=True)"
   ]
  },
  {
   "cell_type": "code",
   "execution_count": null,
   "metadata": {
    "jupyter": {
     "source_hidden": true
    },
    "mystnb": {
     "code_prompt_show": "Show generated NumPy code"
    },
    "tags": [
     "hide-cell"
    ]
   },
   "outputs": [],
   "source": [
    "import inspect\n",
    "\n",
    "from black import FileMode, format_str\n",
    "\n",
    "src = inspect.getsource(Bz_func)\n",
    "src = format_str(src, mode=FileMode())\n",
    "print(src)"
   ]
  },
  {
   "cell_type": "markdown",
   "metadata": {},
   "source": [
    "Finally, plugging in some numbers that represent data, we get the $q$ in the rest frame of $p$:"
   ]
  },
  {
   "cell_type": "code",
   "execution_count": null,
   "metadata": {
    "tags": []
   },
   "outputs": [],
   "source": [
    "import numpy as np\n",
    "\n",
    "pz_array = np.array([[3.0971, 0, 0, 30e-3]])  # J/psi in BESIII lab frame\n",
    "q_array = np.array([\n",
    "    [2.4, 0.3, -1.5, 0.02],\n",
    "    [3.4, -0.045, 0.6, 1.1],\n",
    "    # list of measured four-momenta q in lab frame\n",
    "])\n",
    "Bz_func(pz_array, q_array)"
   ]
  },
  {
   "cell_type": "markdown",
   "metadata": {},
   "source": [
    ":::{admonition} Four-vector array format\n",
    "Lambdified expressions that involve Lorentz vector computations, expect the format $p = \\left(E, p_x, p_y, p_z\\right)$. In addition, the shape of input arrays should be `(n, 4)` with `n` the number of events.\n",
    ":::\n",
    "\n",
    "As a cross-check, notice how boosting the original boost momentum into its own rest frame, results in $B_z(p) p = \\left(m_{J/\\psi}, 0, 0, 0\\right)$:"
   ]
  },
  {
   "cell_type": "code",
   "execution_count": null,
   "metadata": {
    "tags": []
   },
   "outputs": [],
   "source": [
    "Bz_func(pz_array, pz_array)"
   ]
  },
  {
   "cell_type": "markdown",
   "metadata": {},
   "source": [
    "Note that in this case, boost vector $p$ was in the $z$&nbsp;direction, so we were able to just boost with {class}`.BoostZMatrix`. In the more general case, we can use:"
   ]
  },
  {
   "cell_type": "code",
   "execution_count": null,
   "metadata": {},
   "outputs": [],
   "source": [
    "from ampform.kinematics import BoostMatrix\n",
    "\n",
    "B = BoostMatrix(p)\n",
    "B_expr = ArrayMultiplication(B, q)\n",
    "B_expr"
   ]
  },
  {
   "cell_type": "code",
   "execution_count": null,
   "metadata": {
    "tags": []
   },
   "outputs": [],
   "source": [
    "B_func = sp.lambdify([p, q], B_expr.doit(), cse=True)\n",
    "px_array = np.array([[3.0971, 30e-3, 0, 0]])  # x direction!\n",
    "B_func(px_array, q_array)"
   ]
  },
  {
   "cell_type": "markdown",
   "metadata": {},
   "source": [
    "And again,  $B(p) p = \\left(m_{J/\\psi}, 0, 0, 0\\right)$:"
   ]
  },
  {
   "cell_type": "code",
   "execution_count": null,
   "metadata": {
    "tags": []
   },
   "outputs": [],
   "source": [
    "B_func(px_array, px_array)"
   ]
  },
  {
   "cell_type": "markdown",
   "metadata": {},
   "source": [
    "## Phase space"
   ]
  },
  {
   "cell_type": "markdown",
   "metadata": {
    "tags": []
   },
   "source": [
    ":::{margin}\n",
    "This notebook originates from {doc}`compwa-org:report/017`.\n",
    ":::\n",
    "\n",
    "Kinematics for a three-body decay $0 \\to 123$ can be fully described by two **Mandelstam variables** $\\sigma_1, \\sigma_2$, because the third variable $\\sigma_3$ can be expressed in terms $\\sigma_1, \\sigma_2$, the mass $m_0$ of the initial state, and the masses $m_1, m_2, m_3$ of the final state. As can be seen, the roles of $\\sigma_1, \\sigma_2, \\sigma_3$ are interchangeable.\n",
    "\n",
    "```{margin}\n",
    "See Eq. (1.2) in {cite}`bycklingParticleKinematics1973`\n",
    "```"
   ]
  },
  {
   "cell_type": "code",
   "execution_count": null,
   "metadata": {
    "jupyter": {
     "source_hidden": true
    },
    "tags": [
     "hide-input"
    ]
   },
   "outputs": [],
   "source": [
    "from ampform.kinematics.phasespace import compute_third_mandelstam\n",
    "\n",
    "m0, m1, m2, m3 = sp.symbols(\"m:4\")\n",
    "s1, s2, s3 = sp.symbols(\"sigma1:4\")\n",
    "s3_expr = compute_third_mandelstam(s1, s2, m0, m1, m2, m3)\n",
    "\n",
    "latex = aslatex({s3: s3_expr})\n",
    "Math(latex)"
   ]
  },
  {
   "cell_type": "markdown",
   "metadata": {},
   "source": [
    "The phase space is defined by the closed area that satisfies the condition $\\phi(\\sigma_1,\\sigma_2) \\leq 0$, where $\\phi$ is a **Kibble function**:\n",
    "\n",
    "\n",
    "```{margin}\n",
    "See §V.2 in {cite}`bycklingParticleKinematics1973`\n",
    "```"
   ]
  },
  {
   "cell_type": "code",
   "execution_count": null,
   "metadata": {
    "jupyter": {
     "source_hidden": true
    },
    "tags": [
     "hide-input"
    ]
   },
   "outputs": [],
   "source": [
    "from ampform.kinematics.phasespace import Kibble\n",
    "\n",
    "kibble = Kibble(s1, s2, s3, m0, m1, m2, m3)\n",
    "\n",
    "latex = aslatex({kibble: kibble.evaluate()})\n",
    "Math(latex)"
   ]
  },
  {
   "cell_type": "markdown",
   "metadata": {
    "tags": []
   },
   "source": [
    "and $\\lambda$ is the **Källén function**:"
   ]
  },
  {
   "cell_type": "code",
   "execution_count": null,
   "metadata": {
    "jupyter": {
     "source_hidden": true
    },
    "tags": [
     "hide-input"
    ]
   },
   "outputs": [],
   "source": [
    "from ampform.kinematics.phasespace import Kallen\n",
    "\n",
    "x, y, z = sp.symbols(\"x:z\")\n",
    "kallen = Kallen(x, y, z)\n",
    "\n",
    "latex = aslatex({kallen: kallen.evaluate()})\n",
    "Math(latex)"
   ]
  },
  {
   "cell_type": "markdown",
   "metadata": {},
   "source": [
    "Any distribution over the phase space can now be defined using a two-dimensional grid over a Mandelstam pair $\\sigma_1,\\sigma_2$ of choice, with the condition $\\phi(\\sigma_1,\\sigma_2)<0$ selecting the values that are physically allowed."
   ]
  },
  {
   "cell_type": "code",
   "execution_count": null,
   "metadata": {
    "jupyter": {
     "source_hidden": true
    },
    "tags": [
     "hide-input"
    ]
   },
   "outputs": [],
   "source": [
    "from ampform.kinematics.phasespace import is_within_phasespace\n",
    "\n",
    "is_within_phasespace(s1, s2, m0, m1, m2, m3)"
   ]
  },
  {
   "cell_type": "markdown",
   "metadata": {
    "tags": []
   },
   "source": [
    "See {doc}`compwa-org:report/017` for an interactive visualization of the phase space region and an analytic expression for the phase space boundary."
   ]
  }
 ],
 "metadata": {
  "colab": {
   "toc_visible": true
  },
  "kernelspec": {
   "display_name": "Python 3 (ipykernel)",
   "language": "python",
   "name": "python3"
  },
  "language_info": {
   "codemirror_mode": {
    "name": "ipython",
    "version": 3
   },
   "file_extension": ".py",
   "mimetype": "text/x-python",
   "name": "python",
   "nbconvert_exporter": "python",
   "pygments_lexer": "ipython3",
   "version": "3.8.17"
  }
 },
 "nbformat": 4,
 "nbformat_minor": 4
}
