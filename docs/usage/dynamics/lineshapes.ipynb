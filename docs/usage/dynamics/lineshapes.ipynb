{
 "cells": [
  {
   "cell_type": "code",
   "execution_count": null,
   "metadata": {
    "jupyter": {
     "source_hidden": true
    },
    "slideshow": {
     "slide_type": "skip"
    },
    "tags": [
     "remove-cell"
    ]
   },
   "outputs": [],
   "source": [
    "%%capture\n",
    "%config Completer.use_jedi = False\n",
    "%config InlineBackend.figure_formats = ['svg']\n",
    "\n",
    "# Install on Google Colab\n",
    "import subprocess\n",
    "import sys\n",
    "\n",
    "from IPython import get_ipython\n",
    "\n",
    "install_packages = \"google.colab\" in str(get_ipython())\n",
    "if install_packages:\n",
    "    for package in [\"ampform\", \"graphviz\"]:\n",
    "        subprocess.check_call(\n",
    "            [sys.executable, \"-m\", \"pip\", \"install\", package]\n",
    "        )"
   ]
  },
  {
   "cell_type": "markdown",
   "metadata": {},
   "source": [
    "# Standard lineshapes"
   ]
  },
  {
   "cell_type": "markdown",
   "metadata": {},
   "source": [
    "AmpForm provides a few common lineshapes through the {mod}`.dynamics` module. This pages shows some of the properties of these lineshapes. It's also possible to insert {doc}`custom lineshapes </usage/dynamics/custom>` into the amplitude model."
   ]
  },
  {
   "cell_type": "code",
   "execution_count": null,
   "metadata": {
    "jupyter": {
     "source_hidden": true
    },
    "tags": [
     "hide-input"
    ]
   },
   "outputs": [],
   "source": [
    "import sympy as sp\n",
    "from IPython.display import Math"
   ]
  },
  {
   "cell_type": "code",
   "execution_count": null,
   "metadata": {
    "jupyter": {
     "source_hidden": true
    },
    "tags": [
     "hide-input"
    ]
   },
   "outputs": [],
   "source": [
    "import matplotlib.pyplot as plt\n",
    "from matplotlib.figure import Figure\n",
    "from qrules.combinatorics import arange\n",
    "\n",
    "\n",
    "def plot_real_imag(\n",
    "    expression: sp.Expr,\n",
    "    variable: sp.Symbol,\n",
    "    x_min: float,\n",
    "    x_max: float,\n",
    "    resolution: int = 100,\n",
    ") -> Figure:\n",
    "    delta = (x_max - x_min) / resolution\n",
    "    x = list(arange(x_min, x_max, delta))\n",
    "    y_real = list(map(lambda x: sp.Abs(expression).subs(variable, x), x))\n",
    "    y_imag = list(map(lambda x: sp.arg(expression).subs(variable, x), x))\n",
    "    fig, ax = plt.subplots(nrows=2, sharex=True, figsize=(8, 8))\n",
    "    for a in ax:\n",
    "        a.xaxis.set_ticks([])\n",
    "        a.yaxis.set_ticks([])\n",
    "    ax_real, ax_imag = ax\n",
    "    ax_imag.set(xlabel=f\"${variable.name}$\")\n",
    "    ax_imag.set(ylabel=f\"imag $f({variable.name})$\")\n",
    "    ax_real.set(ylabel=f\"real $f({variable.name})$\")\n",
    "    ax_real.yaxis.set_ticks([])\n",
    "    ax_imag.yaxis.set_ticks([0, float(sp.pi)])\n",
    "    ax_imag.yaxis.set_ticklabels([0, R\"$\\pi$\"])\n",
    "    ax_imag.set_ylim([0, float(sp.pi)])\n",
    "    ax_real.plot(x, y_real)\n",
    "    ax_imag.plot(x, y_imag)\n",
    "    return fig"
   ]
  },
  {
   "cell_type": "markdown",
   "metadata": {},
   "source": [
    "## Form factor"
   ]
  },
  {
   "cell_type": "markdown",
   "metadata": {},
   "source": [
    "AmpForm uses {class}`.BlattWeisskopf` functions $B_L$ as _barrier factors_ (also called _form factors_):"
   ]
  },
  {
   "cell_type": "code",
   "execution_count": null,
   "metadata": {
    "tags": []
   },
   "outputs": [],
   "source": [
    "from ampform.dynamics import BlattWeisskopf\n",
    "\n",
    "L = sp.Symbol(\"L\", integer=True)\n",
    "z = sp.Symbol(\"z\", real=True)\n",
    "ff2 = BlattWeisskopf(L, z) ** 2"
   ]
  },
  {
   "cell_type": "code",
   "execution_count": null,
   "metadata": {
    "jupyter": {
     "source_hidden": true
    },
    "tags": [
     "hide-input"
    ]
   },
   "outputs": [],
   "source": [
    "Math(f\"{sp.latex(ff2)} = {sp.latex(ff2.doit())}\")"
   ]
  },
  {
   "cell_type": "markdown",
   "metadata": {},
   "source": [
    "## Relativistic Breit-Wigner"
   ]
  },
  {
   "cell_type": "markdown",
   "metadata": {},
   "source": [
    "### _Without_ form factor"
   ]
  },
  {
   "cell_type": "markdown",
   "metadata": {},
   "source": [
    "{func}`.relativistic_breit_wigner`:"
   ]
  },
  {
   "cell_type": "code",
   "execution_count": null,
   "metadata": {
    "tags": []
   },
   "outputs": [],
   "source": [
    "from ampform.dynamics import relativistic_breit_wigner\n",
    "\n",
    "m, m0, w0 = sp.symbols(\"m, m0, Gamma0\", real=True)\n",
    "relativistic_breit_wigner(s=m ** 2, mass0=m0, gamma0=w0)"
   ]
  },
  {
   "cell_type": "code",
   "execution_count": null,
   "metadata": {
    "jupyter": {
     "source_hidden": true
    },
    "tags": [
     "hide-input"
    ]
   },
   "outputs": [],
   "source": [
    "plot_real_imag(\n",
    "    relativistic_breit_wigner(s=m ** 2, mass0=1.0, gamma0=0.3),\n",
    "    m,\n",
    "    x_min=0,\n",
    "    x_max=2,\n",
    ");"
   ]
  },
  {
   "cell_type": "markdown",
   "metadata": {},
   "source": [
    "### _With_ form factor"
   ]
  },
  {
   "cell_type": "markdown",
   "metadata": {},
   "source": [
    "{func}`.breakup_momentum_squared`:"
   ]
  },
  {
   "cell_type": "code",
   "execution_count": null,
   "metadata": {
    "tags": []
   },
   "outputs": [],
   "source": [
    "from ampform.dynamics import breakup_momentum_squared\n",
    "\n",
    "m, m_a, m_b = sp.symbols(\"m, m_a, m_b\", real=True)\n",
    "q_squared = breakup_momentum_squared(s=m ** 2, m_a=m_a, m_b=m_b)"
   ]
  },
  {
   "cell_type": "code",
   "execution_count": null,
   "metadata": {
    "jupyter": {
     "source_hidden": true
    },
    "tags": [
     "hide-input"
    ]
   },
   "outputs": [],
   "source": [
    "Math(f\"q^2(m) = {sp.latex(q_squared)}\")"
   ]
  },
  {
   "cell_type": "markdown",
   "metadata": {},
   "source": [
    "{func}`.coupled_width`:"
   ]
  },
  {
   "cell_type": "code",
   "execution_count": null,
   "metadata": {
    "tags": []
   },
   "outputs": [],
   "source": [
    "from ampform.dynamics import coupled_width\n",
    "\n",
    "L = sp.Symbol(\"L\", integer=True)\n",
    "m0, w0, d = sp.symbols(\"m0, Gamma, d\", real=True)\n",
    "s = m ** 2\n",
    "running_width = coupled_width(\n",
    "    s=s,\n",
    "    mass0=m0,\n",
    "    gamma0=w0,\n",
    "    m_a=m_a,\n",
    "    m_b=m_b,\n",
    "    angular_momentum=L,\n",
    "    meson_radius=d,\n",
    ")"
   ]
  },
  {
   "cell_type": "code",
   "execution_count": null,
   "metadata": {
    "jupyter": {
     "source_hidden": true
    },
    "tags": [
     "hide-input"
    ]
   },
   "outputs": [],
   "source": [
    "q_squared = breakup_momentum_squared(s, m_a, m_b)\n",
    "q0_squared = breakup_momentum_squared(m0 ** 2, m_a, m_b)\n",
    "q = sp.sqrt(q_squared)\n",
    "q0 = sp.sqrt(q0_squared)\n",
    "ff = BlattWeisskopf(L, z=q_squared * d ** 2)\n",
    "ff0 = BlattWeisskopf(L, z=q0_squared * d ** 2)\n",
    "running_width = running_width.subs(\n",
    "    {\n",
    "        2 * q: sp.Symbol(\"q(m)\"),\n",
    "        2 * q0: sp.Symbol(\"q(m_{0})\"),\n",
    "        ff: sp.Symbol(\"B_{L}(q)\"),\n",
    "        ff0: sp.Symbol(\"B_{L}(q_{0})\"),\n",
    "        sp.sqrt(s): m,\n",
    "    }\n",
    ")\n",
    "Math(fR\"\\Gamma(m) = {sp.latex(running_width)}\")"
   ]
  },
  {
   "cell_type": "markdown",
   "metadata": {},
   "source": [
    "{func}`.relativistic_breit_wigner_with_ff`:"
   ]
  },
  {
   "cell_type": "code",
   "execution_count": null,
   "metadata": {
    "tags": []
   },
   "outputs": [],
   "source": [
    "from ampform.dynamics import relativistic_breit_wigner_with_ff\n",
    "\n",
    "rel_bw_with_ff = relativistic_breit_wigner_with_ff(\n",
    "    s=s,\n",
    "    mass0=m0,\n",
    "    gamma0=w0,\n",
    "    m_a=m_a,\n",
    "    m_b=m_b,\n",
    "    angular_momentum=L,\n",
    "    meson_radius=d,\n",
    ")"
   ]
  },
  {
   "cell_type": "code",
   "execution_count": null,
   "metadata": {
    "jupyter": {
     "source_hidden": true
    },
    "tags": [
     "hide-input"
    ]
   },
   "outputs": [],
   "source": [
    "q_squared = breakup_momentum_squared(s, m_a, m_b)\n",
    "ff = BlattWeisskopf(L, z=q_squared * d ** 2)\n",
    "mass_dependent_width = coupled_width(s, m0, w0, m_a, m_b, L, d)\n",
    "rel_bw_with_ff.subs(\n",
    "    {\n",
    "        2 * q_squared: 2 * sp.Symbol(\"q^{2}(m)\"),\n",
    "        ff: sp.Symbol(R\"B_{L}\\left(q\\right)\"),\n",
    "        mass_dependent_width: sp.Symbol(R\"\\Gamma(m)\"),\n",
    "    }\n",
    ")"
   ]
  },
  {
   "cell_type": "code",
   "execution_count": null,
   "metadata": {
    "jupyter": {
     "source_hidden": true
    },
    "tags": [
     "hide-input"
    ]
   },
   "outputs": [],
   "source": [
    "ma = 0.2\n",
    "mb = 0.3\n",
    "complex_bw_ff = relativistic_breit_wigner_with_ff(\n",
    "    s=m ** 2,\n",
    "    mass0=1.0,\n",
    "    gamma0=0.3,\n",
    "    m_a=ma,\n",
    "    m_b=mb,\n",
    "    angular_momentum=0,\n",
    "    meson_radius=1,\n",
    ")\n",
    "plot_real_imag(complex_bw_ff.doit(), m, x_min=ma + mb, x_max=2);"
   ]
  }
 ],
 "metadata": {
  "kernelspec": {
   "display_name": "Python 3",
   "language": "python",
   "name": "python3"
  },
  "language_info": {
   "codemirror_mode": {
    "name": "ipython",
    "version": 3
   },
   "file_extension": ".py",
   "mimetype": "text/x-python",
   "name": "python",
   "nbconvert_exporter": "python",
   "pygments_lexer": "ipython3",
   "version": "3.8.8"
  }
 },
 "nbformat": 4,
 "nbformat_minor": 4
}
