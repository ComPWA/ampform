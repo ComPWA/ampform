{
 "cells": [
  {
   "cell_type": "code",
   "execution_count": null,
   "metadata": {
    "hideCode": true,
    "hideOutput": true,
    "hidePrompt": true,
    "jupyter": {
     "source_hidden": true
    },
    "slideshow": {
     "slide_type": "skip"
    },
    "tags": [
     "remove-cell",
     "skip-execution"
    ]
   },
   "outputs": [],
   "source": [
    "# WARNING: advised to install a specific version, e.g. ampform==0.1.2\n",
    "%pip install -q ampform[doc,viz] IPython"
   ]
  },
  {
   "cell_type": "code",
   "execution_count": null,
   "metadata": {
    "hideCode": true,
    "hideOutput": true,
    "hidePrompt": true,
    "jupyter": {
     "source_hidden": true
    },
    "slideshow": {
     "slide_type": "skip"
    },
    "tags": [
     "remove-cell"
    ]
   },
   "outputs": [],
   "source": [
    "%config InlineBackend.figure_formats = ['svg']\n",
    "import os\n",
    "\n",
    "from IPython.display import display  # noqa: F401\n",
    "\n",
    "STATIC_WEB_PAGE = {\"EXECUTE_NB\", \"READTHEDOCS\"}.intersection(os.environ)"
   ]
  },
  {
   "cell_type": "markdown",
   "metadata": {},
   "source": [
    "```{autolink-concat}\n",
    "```"
   ]
  },
  {
   "cell_type": "markdown",
   "metadata": {},
   "source": [
    "# Analytic continuation"
   ]
  },
  {
   "cell_type": "markdown",
   "metadata": {},
   "source": [
    ":::{note}\n",
    "\n",
    "Improvements to analytic continuation in AmpForm are currently being developed in {doc}`compwa-org:report/003` and {doc}`compwa-org:report/004`.\n",
    "\n",
    ":::"
   ]
  },
  {
   "cell_type": "markdown",
   "metadata": {},
   "source": [
    "Analytic continuation allows one to handle resonances just below threshold ($m_0 < m_a + m_b$  in Eq. {eq}`relativistic_breit_wigner_with_ff`). In practice, this entails using a specific function for $\\rho$ in Eq. {eq}`EnergyDependentWidth`."
   ]
  },
  {
   "cell_type": "markdown",
   "metadata": {},
   "source": [
    "## Definitions"
   ]
  },
  {
   "cell_type": "markdown",
   "metadata": {},
   "source": [
    "Three usual choices for $\\rho$ are the following:"
   ]
  },
  {
   "cell_type": "code",
   "execution_count": null,
   "metadata": {
    "jupyter": {
     "source_hidden": true
    },
    "tags": [
     "hide-input"
    ]
   },
   "outputs": [],
   "source": [
    "import sympy as sp\n",
    "from IPython.display import Math"
   ]
  },
  {
   "cell_type": "markdown",
   "metadata": {},
   "source": [
    "### 1) Break-up momentum"
   ]
  },
  {
   "cell_type": "markdown",
   "metadata": {},
   "source": [
    "The {func}`~sympy.functions.elementary.miscellaneous.sqrt` or {class}`.ComplexSqrt` of {class}`.BreakupMomentumSquared`:"
   ]
  },
  {
   "cell_type": "code",
   "execution_count": null,
   "metadata": {
    "tags": []
   },
   "outputs": [],
   "source": [
    "from ampform.dynamics import BreakupMomentumSquared\n",
    "\n",
    "s, m_a, m_b = sp.symbols(\"s, m_a, m_b\", real=True)\n",
    "q_squared = BreakupMomentumSquared(s, m_a, m_b)\n",
    "Math(sp.multiline_latex(q_squared, q_squared.doit(), environment=\"eqnarray\"))"
   ]
  },
  {
   "cell_type": "markdown",
   "metadata": {},
   "source": [
    "### 2) 'Normal' phase space factor"
   ]
  },
  {
   "cell_type": "markdown",
   "metadata": {},
   "source": [
    "The 'normal' {class}`.PhaseSpaceFactor` (the denominator makes the difference to {eq}`EnergyDependentWidth`!):"
   ]
  },
  {
   "cell_type": "code",
   "execution_count": null,
   "metadata": {},
   "outputs": [],
   "source": [
    "from ampform.dynamics import PhaseSpaceFactor\n",
    "\n",
    "rho = PhaseSpaceFactor(s, m_a, m_b)\n",
    "Math(sp.multiline_latex(rho, rho.evaluate(), environment=\"eqnarray\"))"
   ]
  },
  {
   "cell_type": "markdown",
   "metadata": {},
   "source": [
    "### 3) 'Complex' phase space factor"
   ]
  },
  {
   "cell_type": "markdown",
   "metadata": {},
   "source": [
    "A {class}`.PhaseSpaceFactorComplex` that uses {class}`.ComplexSqrt`:"
   ]
  },
  {
   "cell_type": "code",
   "execution_count": null,
   "metadata": {},
   "outputs": [],
   "source": [
    "from ampform.dynamics import PhaseSpaceFactorComplex\n",
    "\n",
    "rho_c = PhaseSpaceFactorComplex(s, m_a, m_b)\n",
    "Math(sp.multiline_latex(rho_c, rho_c.evaluate(), environment=\"eqnarray\"))"
   ]
  },
  {
   "cell_type": "markdown",
   "metadata": {},
   "source": [
    "### 4) 'Analytic continuation' of the phase space factor"
   ]
  },
  {
   "cell_type": "markdown",
   "metadata": {},
   "source": [
    "The following 'case-by-case' **analytic continuation**, {class}`.PhaseSpaceFactorAnalytic`:"
   ]
  },
  {
   "cell_type": "code",
   "execution_count": null,
   "metadata": {
    "tags": []
   },
   "outputs": [],
   "source": [
    "from ampform.dynamics import PhaseSpaceFactorAnalytic\n",
    "\n",
    "rho_ac = PhaseSpaceFactorAnalytic(s, m_a, m_b)\n",
    "Math(sp.multiline_latex(rho_ac, rho_ac.evaluate(), environment=\"eqnarray\"))"
   ]
  },
  {
   "cell_type": "markdown",
   "metadata": {},
   "source": [
    "with"
   ]
  },
  {
   "cell_type": "code",
   "execution_count": null,
   "metadata": {
    "jupyter": {
     "source_hidden": true
    },
    "tags": [
     "hide-input"
    ]
   },
   "outputs": [],
   "source": [
    "from ampform.dynamics import PhaseSpaceFactorAbs\n",
    "\n",
    "rho_hat = PhaseSpaceFactorAbs(s, m_a, m_b)\n",
    "Math(sp.multiline_latex(rho_hat, rho_hat.evaluate(), environment=\"eqnarray\"))"
   ]
  },
  {
   "cell_type": "markdown",
   "metadata": {},
   "source": [
    "(Mind the absolute value.)"
   ]
  },
  {
   "cell_type": "markdown",
   "metadata": {
    "tags": []
   },
   "source": [
    "## Visualization"
   ]
  },
  {
   "cell_type": "code",
   "execution_count": null,
   "metadata": {
    "jupyter": {
     "source_hidden": true
    },
    "tags": [
     "hide-input"
    ]
   },
   "outputs": [],
   "source": [
    "%matplotlib widget\n",
    "import matplotlib.pyplot as plt\n",
    "import mpl_interactions.ipyplot as iplt\n",
    "import numpy as np\n",
    "\n",
    "import symplot"
   ]
  },
  {
   "cell_type": "code",
   "execution_count": null,
   "metadata": {
    "tags": []
   },
   "outputs": [],
   "source": [
    "from ampform.dynamics import ComplexSqrt\n",
    "\n",
    "m = sp.Symbol(\"m\", real=True)\n",
    "rho_c = PhaseSpaceFactorComplex(m**2, m_a, m_b)\n",
    "rho_ac = PhaseSpaceFactorAnalytic(m**2, m_a, m_b)\n",
    "np_rho_c, sliders = symplot.prepare_sliders(\n",
    "    plot_symbol=m, expression=rho_c.doit()\n",
    ")\n",
    "np_rho_ac = sp.lambdify((m, m_a, m_b), rho_ac.doit())\n",
    "np_breakup_momentum = sp.lambdify(\n",
    "    (m, m_a, m_b), ComplexSqrt(q_squared.subs(s, m**2).doit())\n",
    ")"
   ]
  },
  {
   "cell_type": "markdown",
   "metadata": {},
   "source": [
    "{{ run_interactive }}"
   ]
  },
  {
   "cell_type": "code",
   "execution_count": null,
   "metadata": {
    "tags": []
   },
   "outputs": [],
   "source": [
    "plot_domain = np.linspace(0, 3, 500)\n",
    "sliders.set_ranges(\n",
    "    m_a=(0, 2, 200),\n",
    "    m_b=(0, 2, 200),\n",
    ")\n",
    "sliders.set_values(\n",
    "    m_a=0.6,\n",
    "    m_b=1.25,\n",
    ")"
   ]
  },
  {
   "cell_type": "code",
   "execution_count": null,
   "metadata": {
    "jupyter": {
     "source_hidden": true
    },
    "tags": [
     "remove-output",
     "hide-input"
    ]
   },
   "outputs": [],
   "source": [
    "fig, axes = plt.subplots(1, 3, figsize=[10, 4], tight_layout=True)\n",
    "fig.canvas.toolbar_visible = False\n",
    "\n",
    "ax_q, ax_rho, ax_rho_ac = axes\n",
    "for ax in axes:\n",
    "    ax.set_xlabel(\"$m$\")\n",
    "\n",
    "ylim_q = (-0.04, 1.0)\n",
    "ylim_rho = (-0.002, 0.05)\n",
    "\n",
    "\n",
    "def func_imag(func, *args, **kwargs):\n",
    "    return lambda *args, **kwargs: func(*args, **kwargs).imag\n",
    "\n",
    "\n",
    "def func_real(func, *args, **kwargs):\n",
    "    return lambda *args, **kwargs: func(*args, **kwargs).real\n",
    "\n",
    "\n",
    "q_math = ComplexSqrt(sp.Symbol(\"q^2\"))\n",
    "ax_q.set_title(f\"${sp.latex(q_math)}$\")\n",
    "controls = iplt.plot(\n",
    "    plot_domain,\n",
    "    func_real(np_breakup_momentum),\n",
    "    label=\"real\",\n",
    "    **sliders,\n",
    "    ylim=ylim_q,\n",
    "    ax=ax_q,\n",
    "    alpha=0.7,\n",
    ")\n",
    "iplt.plot(\n",
    "    plot_domain,\n",
    "    func_imag(np_breakup_momentum),\n",
    "    label=\"imaginary\",\n",
    "    controls=controls,\n",
    "    ylim=ylim_q,\n",
    "    ax=ax_q,\n",
    "    alpha=0.7,\n",
    ")\n",
    "\n",
    "ax_rho.set_title(f\"${sp.latex(rho_c)}$\")\n",
    "iplt.plot(\n",
    "    plot_domain,\n",
    "    func_real(np_rho_c),\n",
    "    label=\"real\",\n",
    "    controls=controls,\n",
    "    ylim=ylim_rho,\n",
    "    ax=ax_rho,\n",
    "    alpha=0.7,\n",
    ")\n",
    "iplt.plot(\n",
    "    plot_domain,\n",
    "    func_imag(np_rho_c),\n",
    "    label=\"imaginary\",\n",
    "    controls=controls,\n",
    "    ylim=ylim_rho,\n",
    "    ax=ax_rho,\n",
    "    alpha=0.7,\n",
    ")\n",
    "\n",
    "ax_rho_ac.set_title(\"analytic\")\n",
    "iplt.plot(\n",
    "    plot_domain,\n",
    "    func_real(np_rho_ac),\n",
    "    label=\"real\",\n",
    "    controls=controls,\n",
    "    ylim=ylim_rho,\n",
    "    ax=ax_rho_ac,\n",
    "    alpha=0.7,\n",
    ")\n",
    "iplt.plot(\n",
    "    plot_domain,\n",
    "    func_imag(np_rho_ac),\n",
    "    label=\"imaginary\",\n",
    "    controls=controls,\n",
    "    ylim=ylim_rho,\n",
    "    ax=ax_rho_ac,\n",
    "    alpha=0.7,\n",
    ")\n",
    "plt.legend(loc=\"upper right\")\n",
    "\n",
    "plt.show()"
   ]
  },
  {
   "cell_type": "code",
   "execution_count": null,
   "metadata": {
    "jupyter": {
     "source_hidden": true
    },
    "tags": [
     "remove-input",
     "full-width"
    ]
   },
   "outputs": [],
   "source": [
    "if STATIC_WEB_PAGE:\n",
    "    from IPython.display import SVG\n",
    "\n",
    "    output_file = \"analytic-continuation.svg\"\n",
    "    plt.savefig(output_file)\n",
    "    display(SVG(output_file))"
   ]
  }
 ],
 "metadata": {
  "kernelspec": {
   "display_name": "Python 3 (ipykernel)",
   "language": "python",
   "name": "python3"
  }
 },
 "nbformat": 4,
 "nbformat_minor": 4
}
