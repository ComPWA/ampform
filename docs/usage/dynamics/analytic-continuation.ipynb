{
 "cells": [
  {
   "cell_type": "code",
   "execution_count": null,
   "metadata": {
    "jupyter": {
     "source_hidden": true
    },
    "slideshow": {
     "slide_type": "skip"
    },
    "tags": [
     "remove-cell"
    ]
   },
   "outputs": [],
   "source": [
    "%%capture\n",
    "%config Completer.use_jedi = False\n",
    "%config InlineBackend.figure_formats = ['svg']\n",
    "import os\n",
    "\n",
    "STATIC_WEB_PAGE = {\"EXECUTE_NB\", \"READTHEDOCS\"}.intersection(os.environ)\n",
    "\n",
    "# Install on Google Colab\n",
    "import subprocess\n",
    "import sys\n",
    "\n",
    "from IPython import get_ipython\n",
    "\n",
    "install_packages = \"google.colab\" in str(get_ipython())\n",
    "if install_packages:\n",
    "    for package in [\"ampform[doc]\", \"graphviz\"]:\n",
    "        subprocess.check_call(\n",
    "            [sys.executable, \"-m\", \"pip\", \"install\", package]\n",
    "        )"
   ]
  },
  {
   "cell_type": "code",
   "execution_count": null,
   "metadata": {
    "jupyter": {
     "source_hidden": true
    },
    "tags": [
     "remove-cell"
    ]
   },
   "outputs": [],
   "source": [
    "import logging\n",
    "import warnings\n",
    "\n",
    "logging.basicConfig()\n",
    "logging.getLogger().setLevel(logging.ERROR)\n",
    "\n",
    "warnings.filterwarnings(\"ignore\")"
   ]
  },
  {
   "cell_type": "markdown",
   "metadata": {},
   "source": [
    "# Analytic continuation"
   ]
  },
  {
   "cell_type": "markdown",
   "metadata": {},
   "source": [
    "Analytic continuation allows one to handle resonances just below threshold ($m_0 < m_a + m_b$  in Eq. {eq}`relativistic_breit_wigner_with_ff`). In practice, this entails using a specific function for $\\rho$ in Eq. {eq}`coupled_width`."
   ]
  },
  {
   "cell_type": "markdown",
   "metadata": {},
   "source": [
    "## Definitions"
   ]
  },
  {
   "cell_type": "markdown",
   "metadata": {},
   "source": [
    "Three usual choices for $\\rho$ are the following:"
   ]
  },
  {
   "cell_type": "code",
   "execution_count": null,
   "metadata": {
    "jupyter": {
     "source_hidden": true
    },
    "tags": [
     "hide-input"
    ]
   },
   "outputs": [],
   "source": [
    "import sympy as sp\n",
    "from IPython.display import Math"
   ]
  },
  {
   "cell_type": "markdown",
   "metadata": {},
   "source": [
    "1. The {func}`~sympy.functions.elementary.miscellaneous.sqrt` or `.ComplexSqrt` of {func}`.breakup_momentum_squared`:"
   ]
  },
  {
   "cell_type": "code",
   "execution_count": null,
   "metadata": {
    "tags": []
   },
   "outputs": [],
   "source": [
    "from ampform.dynamics import breakup_momentum_squared\n",
    "\n",
    "s, m_a, m_b = sp.symbols(\"s, m_a, m_b\", real=True)\n",
    "q_squared = breakup_momentum_squared(s, m_a, m_b)"
   ]
  },
  {
   "cell_type": "code",
   "execution_count": null,
   "metadata": {
    "jupyter": {
     "source_hidden": true
    },
    "tags": [
     "hide-input"
    ]
   },
   "outputs": [],
   "source": [
    "q_squared_symbol = sp.Symbol(\"q^{2}(s)\")\n",
    "Math(f\"{sp.latex(q_squared_symbol)} = {sp.latex(q_squared)}\")"
   ]
  },
  {
   "cell_type": "markdown",
   "metadata": {},
   "source": [
    "2. The 'normal' {func}`.phase_space_factor` (the denominator makes the difference to {eq}`coupled_width`!):"
   ]
  },
  {
   "cell_type": "code",
   "execution_count": null,
   "metadata": {},
   "outputs": [],
   "source": [
    "from ampform.dynamics import phase_space_factor\n",
    "\n",
    "rho = phase_space_factor(s, m_a, m_b)"
   ]
  },
  {
   "cell_type": "code",
   "execution_count": null,
   "metadata": {
    "jupyter": {
     "source_hidden": true
    },
    "tags": [
     "hide-input"
    ]
   },
   "outputs": [],
   "source": [
    "rho_subs = rho.subs(4 * q_squared, 4 * q_squared_symbol)\n",
    "Math(fR\"\\hat{{\\rho}}(s) = {sp.latex(rho_subs)}\")"
   ]
  },
  {
   "cell_type": "markdown",
   "metadata": {},
   "source": [
    "3. The following 'case-by-case' **analytic continuation**, {func}`.phase_space_factor_ac`:"
   ]
  },
  {
   "cell_type": "code",
   "execution_count": null,
   "metadata": {
    "tags": []
   },
   "outputs": [],
   "source": [
    "from ampform.dynamics import phase_space_factor_ac\n",
    "\n",
    "rho_analytic = phase_space_factor_ac(s, m_a, m_b)"
   ]
  },
  {
   "cell_type": "code",
   "execution_count": null,
   "metadata": {
    "jupyter": {
     "source_hidden": true
    },
    "tags": [
     "remove-input"
    ]
   },
   "outputs": [],
   "source": [
    "from ampform.dynamics import _analytic_continuation\n",
    "\n",
    "rho_hat_symbol = sp.Symbol(R\"\\hat{\\rho}\")\n",
    "_analytic_continuation(rho_hat_symbol, s, s_threshold=(m_a + m_b) ** 2)"
   ]
  },
  {
   "cell_type": "markdown",
   "metadata": {},
   "source": [
    "with"
   ]
  },
  {
   "cell_type": "markdown",
   "metadata": {},
   "source": [
    ":::{margin}\n",
    "\n",
    "Mind the absolute value!\n",
    "\n",
    ":::"
   ]
  },
  {
   "cell_type": "code",
   "execution_count": null,
   "metadata": {
    "jupyter": {
     "source_hidden": true
    },
    "tags": [
     "remove-input"
    ]
   },
   "outputs": [],
   "source": [
    "from ampform.dynamics import _phase_space_factor_hat\n",
    "\n",
    "rho_hat = _phase_space_factor_hat(s, m_a, m_b)\n",
    "rho_hat_subs = rho_hat.subs(4 * q_squared, 4 * q_squared_symbol)\n",
    "Math(f\"{sp.latex(rho_hat_symbol)} = {sp.latex(rho_hat_subs)}\")"
   ]
  },
  {
   "cell_type": "markdown",
   "metadata": {
    "tags": []
   },
   "source": [
    "## Visualization"
   ]
  },
  {
   "cell_type": "code",
   "execution_count": null,
   "metadata": {
    "jupyter": {
     "source_hidden": true
    },
    "tags": [
     "hide-input"
    ]
   },
   "outputs": [],
   "source": [
    "%matplotlib widget\n",
    "import matplotlib.pyplot as plt\n",
    "import mpl_interactions.ipyplot as iplt\n",
    "import numpy as np\n",
    "\n",
    "import symplot"
   ]
  },
  {
   "cell_type": "code",
   "execution_count": null,
   "metadata": {
    "tags": []
   },
   "outputs": [],
   "source": [
    "m = sp.Symbol(\"m\", real=True)\n",
    "rho = phase_space_factor(m ** 2, m_a, m_b)\n",
    "rho_ac = phase_space_factor_ac(m ** 2, m_a, m_b)\n",
    "np_rho, sliders = symplot.prepare_sliders(plot_symbol=m, expression=rho)\n",
    "np_rho_ac = sp.lambdify((m, m_a, m_b), rho_ac, \"numpy\")"
   ]
  },
  {
   "cell_type": "code",
   "execution_count": null,
   "metadata": {
    "tags": []
   },
   "outputs": [],
   "source": [
    "plot_domain = np.linspace(0, 3, 1_000)\n",
    "sliders.set_ranges(\n",
    "    m_a=(0, 2, 200),\n",
    "    m_b=(0, 2, 200),\n",
    ")\n",
    "sliders.set_values(\n",
    "    m_a=0.8,\n",
    "    m_b=1.25,\n",
    ")"
   ]
  },
  {
   "cell_type": "code",
   "execution_count": null,
   "metadata": {
    "jupyter": {
     "source_hidden": true
    },
    "tags": [
     "remove-output",
     "hide-input"
    ]
   },
   "outputs": [],
   "source": [
    "from ampform.dynamics import ComplexSqrt\n",
    "\n",
    "np_rho, sliders = symplot.prepare_sliders(plot_symbol=m, expression=rho)\n",
    "np_rho_ac = sp.lambdify((m, m_a, m_b), rho_ac, \"numpy\")\n",
    "np_breakup_momentum = sp.lambdify(\n",
    "    (m, m_a, m_b), ComplexSqrt(q_squared.subs(s, m ** 2)), \"numpy\"\n",
    ")\n",
    "\n",
    "plot_domain = np.linspace(0, 3, 500)\n",
    "sliders.set_ranges(\n",
    "    m_a=(0, 2, 200),\n",
    "    m_b=(0, 2, 200),\n",
    ")\n",
    "sliders.set_values(\n",
    "    m_a=0.6,\n",
    "    m_b=1.25,\n",
    ")\n",
    "\n",
    "fig, axes = plt.subplots(1, 3, figsize=[10, 4], tight_layout=True)\n",
    "fig.canvas.toolbar_visible = False\n",
    "\n",
    "ax_q, ax_rho, ax_rho_ac = axes\n",
    "for ax in axes:\n",
    "    ax.set_xlabel(\"$m$\")\n",
    "\n",
    "ylim_q = (-0.04, 1.0)\n",
    "ylim_rho = (-0.002, 0.05)\n",
    "\n",
    "\n",
    "def func_imag(func, *args, **kwargs):\n",
    "    return lambda *args, **kwargs: func(*args, **kwargs).imag\n",
    "\n",
    "\n",
    "def func_real(func, *args, **kwargs):\n",
    "    return lambda *args, **kwargs: func(*args, **kwargs).real\n",
    "\n",
    "\n",
    "q_math = ComplexSqrt(q_squared_symbol)\n",
    "ax_q.set_title(f\"${sp.latex(q_math)}$\")\n",
    "controls = iplt.plot(\n",
    "    plot_domain,\n",
    "    func_real(np_breakup_momentum),\n",
    "    label=\"real\",\n",
    "    **sliders,\n",
    "    ylim=ylim_q,\n",
    "    ax=ax_q,\n",
    "    alpha=0.7,\n",
    ")\n",
    "iplt.plot(\n",
    "    plot_domain,\n",
    "    func_imag(np_breakup_momentum),\n",
    "    label=\"imaginary\",\n",
    "    controls=controls,\n",
    "    ylim=ylim_q,\n",
    "    ax=ax_q,\n",
    "    alpha=0.7,\n",
    ")\n",
    "\n",
    "ax_rho.set_title(f\"${sp.latex(rho_subs)}$\")\n",
    "iplt.plot(\n",
    "    plot_domain,\n",
    "    func_real(np_rho),\n",
    "    label=\"real\",\n",
    "    controls=controls,\n",
    "    ylim=ylim_rho,\n",
    "    ax=ax_rho,\n",
    "    alpha=0.7,\n",
    ")\n",
    "iplt.plot(\n",
    "    plot_domain,\n",
    "    func_imag(np_rho),\n",
    "    label=\"imaginary\",\n",
    "    controls=controls,\n",
    "    ylim=ylim_rho,\n",
    "    ax=ax_rho,\n",
    "    alpha=0.7,\n",
    ")\n",
    "\n",
    "ax_rho_ac.set_title(\"analytic\")\n",
    "iplt.plot(\n",
    "    plot_domain,\n",
    "    func_real(np_rho_ac),\n",
    "    label=\"real\",\n",
    "    controls=controls,\n",
    "    ylim=ylim_rho,\n",
    "    ax=ax_rho_ac,\n",
    "    alpha=0.7,\n",
    ")\n",
    "iplt.plot(\n",
    "    plot_domain,\n",
    "    func_imag(np_rho_ac),\n",
    "    label=\"imaginary\",\n",
    "    controls=controls,\n",
    "    ylim=ylim_rho,\n",
    "    ax=ax_rho_ac,\n",
    "    alpha=0.7,\n",
    ")\n",
    "plt.legend(loc=\"upper right\")\n",
    "\n",
    "plt.show()"
   ]
  },
  {
   "cell_type": "markdown",
   "metadata": {},
   "source": [
    "{{ run_interactive }}"
   ]
  },
  {
   "cell_type": "code",
   "execution_count": null,
   "metadata": {
    "jupyter": {
     "source_hidden": true
    },
    "tags": [
     "remove-input"
    ]
   },
   "outputs": [],
   "source": [
    "if STATIC_WEB_PAGE:\n",
    "    from IPython.display import SVG\n",
    "\n",
    "    output_file = \"analytic-continuation.svg\"\n",
    "    plt.savefig(output_file)\n",
    "    display(SVG(output_file))"
   ]
  }
 ],
 "metadata": {
  "kernelspec": {
   "display_name": "Python 3",
   "language": "python",
   "name": "python3"
  },
  "language_info": {
   "codemirror_mode": {
    "name": "ipython",
    "version": 3
   },
   "file_extension": ".py",
   "mimetype": "text/x-python",
   "name": "python",
   "nbconvert_exporter": "python",
   "pygments_lexer": "ipython3",
   "version": "3.8.10"
  }
 },
 "nbformat": 4,
 "nbformat_minor": 4
}
