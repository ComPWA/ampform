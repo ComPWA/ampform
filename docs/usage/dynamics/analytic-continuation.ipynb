{
 "cells": [
  {
   "cell_type": "code",
   "execution_count": null,
   "metadata": {
    "jupyter": {
     "source_hidden": true
    },
    "slideshow": {
     "slide_type": "skip"
    },
    "tags": [
     "remove-cell"
    ]
   },
   "outputs": [],
   "source": [
    "%%capture\n",
    "%config Completer.use_jedi = False\n",
    "%config InlineBackend.figure_formats = ['svg']\n",
    "import os\n",
    "\n",
    "STATIC_WEB_PAGE = {\"EXECUTE_NB\", \"READTHEDOCS\"}.intersection(os.environ)\n",
    "\n",
    "# Install on Google Colab\n",
    "import subprocess\n",
    "import sys\n",
    "\n",
    "from IPython import get_ipython\n",
    "\n",
    "install_packages = \"google.colab\" in str(get_ipython())\n",
    "if install_packages:\n",
    "    for package in [\"ampform\", \"graphviz\"]:\n",
    "        subprocess.check_call(\n",
    "            [sys.executable, \"-m\", \"pip\", \"install\", package]\n",
    "        )"
   ]
  },
  {
   "cell_type": "code",
   "execution_count": null,
   "metadata": {
    "jupyter": {
     "source_hidden": true
    },
    "tags": [
     "remove-cell"
    ]
   },
   "outputs": [],
   "source": [
    "import logging\n",
    "import warnings\n",
    "\n",
    "logging.basicConfig()\n",
    "logging.getLogger().setLevel(logging.ERROR)\n",
    "\n",
    "warnings.filterwarnings(\"ignore\")"
   ]
  },
  {
   "cell_type": "markdown",
   "metadata": {},
   "source": [
    "# Analytic continuation"
   ]
  },
  {
   "cell_type": "markdown",
   "metadata": {},
   "source": [
    "## Definitions"
   ]
  },
  {
   "cell_type": "code",
   "execution_count": null,
   "metadata": {
    "jupyter": {
     "source_hidden": true
    },
    "tags": [
     "hide-input"
    ]
   },
   "outputs": [],
   "source": [
    "import sympy as sp\n",
    "from IPython.display import Math"
   ]
  },
  {
   "cell_type": "markdown",
   "metadata": {},
   "source": [
    "{func}`.breakup_momentum_squared`:"
   ]
  },
  {
   "cell_type": "code",
   "execution_count": null,
   "metadata": {
    "tags": []
   },
   "outputs": [],
   "source": [
    "from ampform.dynamics import breakup_momentum_squared\n",
    "\n",
    "s, m_a, m_b = sp.symbols(\"s, m_a, m_b\")\n",
    "q_squared = breakup_momentum_squared(s, m_a, m_b)"
   ]
  },
  {
   "cell_type": "code",
   "execution_count": null,
   "metadata": {
    "jupyter": {
     "source_hidden": true
    },
    "tags": [
     "hide-input"
    ]
   },
   "outputs": [],
   "source": [
    "Math(f\"q^2(s) = {sp.latex(q_squared)}\")"
   ]
  },
  {
   "cell_type": "markdown",
   "metadata": {},
   "source": [
    "{func}`.phase_space_factor`:"
   ]
  },
  {
   "cell_type": "code",
   "execution_count": null,
   "metadata": {},
   "outputs": [],
   "source": [
    "from ampform.dynamics import phase_space_factor\n",
    "\n",
    "rho = phase_space_factor(s, m_a, m_b)"
   ]
  },
  {
   "cell_type": "code",
   "execution_count": null,
   "metadata": {
    "jupyter": {
     "source_hidden": true
    },
    "tags": [
     "hide-input"
    ]
   },
   "outputs": [],
   "source": [
    "rho_subs = rho.subs(4 * q_squared, 4 * sp.Symbol(\"q^{2}(s)\"))\n",
    "Math(fR\"\\hat{{\\rho}}(s) = {sp.latex(rho_subs)}\")"
   ]
  },
  {
   "cell_type": "markdown",
   "metadata": {},
   "source": [
    "{func}`.phase_space_factor_ac` (analytic continuation):"
   ]
  },
  {
   "cell_type": "code",
   "execution_count": null,
   "metadata": {},
   "outputs": [],
   "source": [
    "from ampform.dynamics import phase_space_factor_ac\n",
    "\n",
    "rho_analytic = phase_space_factor_ac(s, m_a, m_b)"
   ]
  },
  {
   "cell_type": "code",
   "execution_count": null,
   "metadata": {
    "jupyter": {
     "source_hidden": true
    },
    "tags": [
     "hide-input"
    ]
   },
   "outputs": [],
   "source": [
    "from ampform.dynamics import _analytic_continuation\n",
    "\n",
    "_analytic_continuation(\n",
    "    sp.Symbol(R\"\\hat{\\rho}\"), s, s_threshold=(m_a + m_b) ** 2\n",
    ")"
   ]
  },
  {
   "cell_type": "markdown",
   "metadata": {
    "tags": []
   },
   "source": [
    "## Interactive plot"
   ]
  },
  {
   "cell_type": "code",
   "execution_count": null,
   "metadata": {
    "jupyter": {
     "source_hidden": true
    },
    "tags": [
     "hide-input"
    ]
   },
   "outputs": [],
   "source": [
    "%matplotlib widget\n",
    "import matplotlib.pyplot as plt\n",
    "import mpl_interactions.ipyplot as iplt\n",
    "import numpy as np\n",
    "\n",
    "import symplot"
   ]
  },
  {
   "cell_type": "code",
   "execution_count": null,
   "metadata": {
    "tags": []
   },
   "outputs": [],
   "source": [
    "m = sp.Symbol(\"m\", real=True)\n",
    "rho = phase_space_factor(m ** 2, m_a, m_b)\n",
    "rho_ac = phase_space_factor_ac(m ** 2, m_a, m_b)\n",
    "np_rho, sliders = symplot.prepare_sliders(plot_symbol=m, expression=rho)\n",
    "np_rho_ac = sp.lambdify((m, m_a, m_b), rho_ac, \"numpy\")"
   ]
  },
  {
   "cell_type": "code",
   "execution_count": null,
   "metadata": {
    "tags": []
   },
   "outputs": [],
   "source": [
    "plot_domain = np.linspace(0, 3, 1_000)\n",
    "sliders.set_ranges(\n",
    "    m_a=(0, 2, 200),\n",
    "    m_b=(0, 2, 200),\n",
    ")\n",
    "sliders.set_values(\n",
    "    m_a=0.45,\n",
    "    m_b=1.4,\n",
    ")"
   ]
  },
  {
   "cell_type": "code",
   "execution_count": null,
   "metadata": {
    "jupyter": {
     "source_hidden": true
    },
    "tags": [
     "remove-output",
     "hide-input"
    ]
   },
   "outputs": [],
   "source": [
    "fig, axes = plt.subplots(1, 3, figsize=(10, 4), tight_layout=True, sharey=True)\n",
    "ax_abs, ax_real, ax_imag = axes\n",
    "for ax in axes:\n",
    "    ax.set_xlabel(\"$m$\")\n",
    "ylim = (0, 0.05)\n",
    "\n",
    "ax_abs.set_title(R\"$\\left|\\rho\\right|$\")\n",
    "controls = iplt.plot(\n",
    "    plot_domain,\n",
    "    lambda *args, **kwargs: np.abs(np_rho(*args, **kwargs)),\n",
    "    label=\"normal\",\n",
    "    **sliders,\n",
    "    ylim=ylim,\n",
    "    ax=ax_abs,\n",
    "    linestyle=\"dotted\",\n",
    ")\n",
    "iplt.plot(\n",
    "    plot_domain,\n",
    "    lambda *args, **kwargs: np.abs(np_rho_ac(*args, **kwargs)),\n",
    "    label=\"analytic\",\n",
    "    controls=controls,\n",
    "    ylim=ylim,\n",
    "    ax=ax_abs,\n",
    "    linestyle=\"dashed\",\n",
    ")\n",
    "plt.legend(loc=\"upper right\")\n",
    "\n",
    "ax_real.set_title(R\"Re($\\rho$)\")\n",
    "iplt.plot(\n",
    "    plot_domain,\n",
    "    lambda *args, **kwargs: np_rho(*args, **kwargs).real,\n",
    "    label=\"normal\",\n",
    "    controls=controls,\n",
    "    ylim=ylim,\n",
    "    ax=ax_real,\n",
    "    linestyle=\"dotted\",\n",
    ")\n",
    "iplt.plot(\n",
    "    plot_domain,\n",
    "    lambda *args, **kwargs: np_rho_ac(*args, **kwargs).real,\n",
    "    label=\"analytic\",\n",
    "    controls=controls,\n",
    "    ylim=ylim,\n",
    "    ax=ax_real,\n",
    "    linestyle=\"dashed\",\n",
    ")\n",
    "plt.legend(loc=\"upper right\")\n",
    "\n",
    "ax_imag.set_title(R\"Im($\\rho$)\")\n",
    "iplt.plot(\n",
    "    plot_domain,\n",
    "    lambda *args, **kwargs: np_rho(*args, **kwargs).imag,\n",
    "    label=\"normal\",\n",
    "    controls=controls,\n",
    "    ylim=ylim,\n",
    "    linestyle=\"dotted\",\n",
    "    ax=ax_imag,\n",
    ")\n",
    "iplt.plot(\n",
    "    plot_domain,\n",
    "    lambda *args, **kwargs: np_rho_ac(*args, **kwargs).imag,\n",
    "    label=\"analytic\",\n",
    "    controls=controls,\n",
    "    ylim=ylim,\n",
    "    ax=ax_imag,\n",
    "    linestyle=\"dashed\",\n",
    ")\n",
    "plt.legend(loc=\"upper right\")\n",
    "\n",
    "plt.show()"
   ]
  },
  {
   "cell_type": "markdown",
   "metadata": {},
   "source": [
    "{{ run_interactive }}"
   ]
  },
  {
   "cell_type": "code",
   "execution_count": null,
   "metadata": {
    "jupyter": {
     "source_hidden": true
    },
    "tags": [
     "remove-input"
    ]
   },
   "outputs": [],
   "source": [
    "if STATIC_WEB_PAGE:\n",
    "    from IPython.display import SVG\n",
    "\n",
    "    output_file = \"analytic-continuation.svg\"\n",
    "    plt.savefig(output_file)\n",
    "    display(SVG(output_file))"
   ]
  }
 ],
 "metadata": {
  "kernelspec": {
   "display_name": "Python 3",
   "language": "python",
   "name": "python3"
  },
  "language_info": {
   "codemirror_mode": {
    "name": "ipython",
    "version": 3
   },
   "file_extension": ".py",
   "mimetype": "text/x-python",
   "name": "python",
   "nbconvert_exporter": "python",
   "pygments_lexer": "ipython3",
   "version": "3.8.8"
  }
 },
 "nbformat": 4,
 "nbformat_minor": 4
}
