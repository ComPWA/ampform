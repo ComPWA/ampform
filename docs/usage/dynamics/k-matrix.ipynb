{
 "cells": [
  {
   "cell_type": "code",
   "execution_count": null,
   "metadata": {
    "hideCode": true,
    "hideOutput": true,
    "hidePrompt": true,
    "jupyter": {
     "source_hidden": true
    },
    "slideshow": {
     "slide_type": "skip"
    },
    "tags": [
     "remove-cell"
    ]
   },
   "outputs": [],
   "source": [
    "%%capture\n",
    "%config Completer.use_jedi = False\n",
    "%config InlineBackend.figure_formats = ['svg']\n",
    "import os\n",
    "\n",
    "STATIC_WEB_PAGE = {\"EXECUTE_NB\", \"READTHEDOCS\"}.intersection(os.environ)\n",
    "\n",
    "# Install on Google Colab\n",
    "import subprocess\n",
    "import sys\n",
    "\n",
    "from IPython import get_ipython\n",
    "\n",
    "install_packages = \"google.colab\" in str(get_ipython())\n",
    "if install_packages:\n",
    "    for package in [\"ampform[doc]\", \"graphviz\"]:\n",
    "        subprocess.check_call(\n",
    "            [sys.executable, \"-m\", \"pip\", \"install\", package]\n",
    "        )"
   ]
  },
  {
   "cell_type": "code",
   "execution_count": null,
   "metadata": {
    "jupyter": {
     "source_hidden": true
    },
    "tags": [
     "remove-cell"
    ]
   },
   "outputs": [],
   "source": [
    "import logging\n",
    "import warnings\n",
    "\n",
    "logging.basicConfig()\n",
    "logging.getLogger().setLevel(logging.ERROR)\n",
    "\n",
    "warnings.filterwarnings(\"ignore\")"
   ]
  },
  {
   "cell_type": "markdown",
   "metadata": {},
   "source": [
    "# K-matrix"
   ]
  },
  {
   "cell_type": "markdown",
   "metadata": {},
   "source": [
    "While {mod}`ampform` does not yet provide a generic way to produce an amplitude model with $K$-matrix dynamics, it is fairly simple to produce an expression for the $K$-matrix and play around with it interactively.\n",
    "\n",
    "This notebook shows how a $K$-matrix for **one channel with two poles** compares to using a sum of two Breit-Wigner functions. For more info on the $K$-matrix, see this instructive presentation {cite}`meyerMatrixTutorial2008`, or the classic paper {cite}`chungPartialWaveAnalysis1995`."
   ]
  },
  {
   "cell_type": "markdown",
   "metadata": {},
   "source": [
    "## Amplitude definition"
   ]
  },
  {
   "cell_type": "markdown",
   "metadata": {},
   "source": [
    "A $K$-matrix for two poles and one channel can be parametrized as follows:"
   ]
  },
  {
   "cell_type": "code",
   "execution_count": null,
   "metadata": {},
   "outputs": [],
   "source": [
    "import sympy as sp\n",
    "\n",
    "L = sp.Symbol(\"L\", integer=True)\n",
    "m_a, m_b, d = sp.symbols(\"m_a m_b d\")"
   ]
  },
  {
   "cell_type": "markdown",
   "metadata": {},
   "source": [
    "```{margin}\n",
    "{cite}`meyerMatrixTutorial2008`, slide 14\n",
    "```"
   ]
  },
  {
   "cell_type": "code",
   "execution_count": null,
   "metadata": {},
   "outputs": [],
   "source": [
    "from ampform.dynamics import coupled_width\n",
    "\n",
    "\n",
    "def kmatrix_term(m, m1, gamma1, m2, gamma2):\n",
    "    running_gamma1 = coupled_width(m ** 2, m1, gamma1, m_a, m_b, L, d)\n",
    "    running_gamma2 = coupled_width(m ** 2, m2, gamma2, m_a, m_b, L, d)\n",
    "    return (m1 * running_gamma1) / (\n",
    "        (m1 ** 2 - m ** 2)\n",
    "        - sp.I * m1 * running_gamma1\n",
    "        - sp.I * (m1 ** 2 - m ** 2) / (m2 ** 2 - m ** 2) * m2 * running_gamma2\n",
    "    )\n",
    "\n",
    "\n",
    "c1, c2, phi1, phi2 = sp.symbols(\"c1, c2, phi1, phi2\")\n",
    "a1 = c1 * sp.exp(sp.I * phi1)\n",
    "a2 = c2 * sp.exp(sp.I * phi2)\n",
    "m, m1, m2, gamma1, gamma2 = sp.symbols(\"m, m1, m2, Gamma1, Gamma2\")\n",
    "term1 = kmatrix_term(m, m1, gamma1, m2, gamma2)\n",
    "term2 = kmatrix_term(m, m2, gamma2, m1, gamma1)\n",
    "kmatrix = a1 * term1 + a2 * term2"
   ]
  },
  {
   "cell_type": "code",
   "execution_count": null,
   "metadata": {
    "jupyter": {
     "source_hidden": true
    },
    "tags": [
     "hide-input"
    ]
   },
   "outputs": [],
   "source": [
    "running_gamma1 = coupled_width(m ** 2, m1, gamma1, m_a, m_b, L, d)\n",
    "running_gamma2 = coupled_width(m ** 2, m2, gamma2, m_a, m_b, L, d)\n",
    "kmatrix.subs(\n",
    "    {\n",
    "        running_gamma1: sp.Symbol(R\"\\Gamma_{1}(m)\"),\n",
    "        running_gamma2: sp.Symbol(R\"\\Gamma_{2}(m)\"),\n",
    "    },\n",
    ")"
   ]
  },
  {
   "cell_type": "markdown",
   "metadata": {},
   "source": [
    "where $\\Gamma(m)$ is the {func}`.coupled_width`."
   ]
  },
  {
   "cell_type": "markdown",
   "metadata": {},
   "source": [
    "Two Breit-Wigner 'poles' with the same parameters would look like this (making use of {func}`.relativistic_breit_wigner_with_ff`):"
   ]
  },
  {
   "cell_type": "code",
   "execution_count": null,
   "metadata": {},
   "outputs": [],
   "source": [
    "from ampform.dynamics import relativistic_breit_wigner_with_ff\n",
    "\n",
    "term1 = relativistic_breit_wigner_with_ff(m ** 2, m1, gamma1, m_a, m_b, L, d)\n",
    "term2 = relativistic_breit_wigner_with_ff(m ** 2, m2, gamma2, m_a, m_b, L, d)\n",
    "bw = a1 * term1 + a2 * term2"
   ]
  },
  {
   "cell_type": "code",
   "execution_count": null,
   "metadata": {
    "jupyter": {
     "source_hidden": true
    },
    "tags": [
     "hide-input"
    ]
   },
   "outputs": [],
   "source": [
    "from ampform.dynamics import BlattWeisskopfSquared, breakup_momentum_squared\n",
    "\n",
    "q_squared = breakup_momentum_squared(m ** 2, m_a, m_b)\n",
    "ff2 = BlattWeisskopfSquared(L, z=q_squared * d ** 2)\n",
    "bw.subs(\n",
    "    {\n",
    "        running_gamma1: sp.Symbol(R\"\\Gamma_{1}(m)\"),\n",
    "        running_gamma2: sp.Symbol(R\"\\Gamma_{2}(m)\"),\n",
    "        sp.sqrt(ff2): sp.Symbol(\"B_{L}(q)\"),\n",
    "    },\n",
    ")"
   ]
  },
  {
   "cell_type": "markdown",
   "metadata": {},
   "source": [
    "with $B_L(q)$ a Blatt-Weisskopf barrier factor (see {class}`.BlattWeisskopfSquared`) and $q(m)$ the {func}`.breakup_momentum_squared`."
   ]
  },
  {
   "cell_type": "markdown",
   "metadata": {},
   "source": [
    "## Prepare sliders"
   ]
  },
  {
   "cell_type": "markdown",
   "metadata": {},
   "source": [
    "Just like in {doc}`/usage/interactive`, we use {mod}`symplot` to generate sliders for the {class}`~sympy.core.symbol.Symbol`s in both expressions:"
   ]
  },
  {
   "cell_type": "code",
   "execution_count": null,
   "metadata": {},
   "outputs": [],
   "source": [
    "from symplot import prepare_sliders\n",
    "\n",
    "np_kmatrix, sliders = prepare_sliders(kmatrix.doit(), m)\n",
    "set(sliders)"
   ]
  },
  {
   "cell_type": "markdown",
   "metadata": {},
   "source": [
    "Luckily, the dummy variables for the lambdified argument should be the same (the symbol names are valid identifiers), so as long as we use the same order of the positional arguments, we can {func}`~sympy.utilities.lambdify.lambdify` the sum of Breit-Wigners in the same way:"
   ]
  },
  {
   "cell_type": "code",
   "execution_count": null,
   "metadata": {},
   "outputs": [],
   "source": [
    "np_bw = sp.lambdify(\n",
    "    (m, gamma1, gamma2, L, c1, c2, d, m1, m2, m_a, m_b, phi1, phi2),\n",
    "    bw.doit(),\n",
    "    \"numpy\",\n",
    ")"
   ]
  },
  {
   "cell_type": "markdown",
   "metadata": {},
   "source": [
    "Again, we need to identify how we want to plot these (complex) amplitudes:"
   ]
  },
  {
   "cell_type": "code",
   "execution_count": null,
   "metadata": {},
   "outputs": [],
   "source": [
    "def abs_amplitude_bw(plot_variable, **kwargs):\n",
    "    values = np_bw(plot_variable, **kwargs)\n",
    "    return np.abs(values)\n",
    "\n",
    "\n",
    "def argand_bw(**kwargs):\n",
    "    values = np_bw(plot_domain, **kwargs)\n",
    "    argand = np.array([values.real, values.imag])\n",
    "    return argand.T\n",
    "\n",
    "\n",
    "def abs_amplitude_kmatrix(plot_variable, **kwargs):\n",
    "    values = np_kmatrix(plot_variable, **kwargs)\n",
    "    return np.abs(values)\n",
    "\n",
    "\n",
    "def argand_kmatrix(**kwargs):\n",
    "    values = np_kmatrix(plot_domain, **kwargs)\n",
    "    argand = np.array([values.real, values.imag])\n",
    "    return argand.T"
   ]
  },
  {
   "cell_type": "markdown",
   "metadata": {},
   "source": [
    "We also need to define a domain over which to plot the invariant mass:"
   ]
  },
  {
   "cell_type": "code",
   "execution_count": null,
   "metadata": {},
   "outputs": [],
   "source": [
    "import numpy as np\n",
    "\n",
    "plot_domain = np.linspace(0, 4, 1_000)"
   ]
  },
  {
   "cell_type": "markdown",
   "metadata": {},
   "source": [
    "...as well as ranges and (optionally) initial values for the sliders:"
   ]
  },
  {
   "cell_type": "code",
   "execution_count": null,
   "metadata": {},
   "outputs": [],
   "source": [
    "sliders.set_ranges(\n",
    "    c1=(0, 5),\n",
    "    c2=(0, 5),\n",
    "    phi1=(0, 2 * sp.pi, 40),\n",
    "    phi2=(0, 2 * sp.pi, 40),\n",
    "    m1=(0, 3, 100),\n",
    "    m2=(0, 3, 100),\n",
    "    Gamma1=(0, 2, 100),\n",
    "    Gamma2=(0, 2, 100),\n",
    "    m_a=(0, 1),\n",
    "    m_b=(0, 1),\n",
    "    L=(0, 8),\n",
    "    d=(0, 5),\n",
    ")\n",
    "sliders.set_values(\n",
    "    c1=3,\n",
    "    c2=3,\n",
    "    phi1=0,\n",
    "    phi2=0,\n",
    "    m1=1.2,\n",
    "    m2=1.8,\n",
    "    Gamma1=0.3,\n",
    "    Gamma2=0.4,\n",
    "    L=0,\n",
    "    d=1,\n",
    ")"
   ]
  },
  {
   "cell_type": "code",
   "execution_count": null,
   "metadata": {
    "jupyter": {
     "source_hidden": true
    },
    "tags": [
     "remove-cell",
     "hide-input"
    ]
   },
   "outputs": [],
   "source": [
    "if STATIC_WEB_PAGE:\n",
    "    # Concatenate flipped domain for reverse animation\n",
    "    domain = np.linspace(0.5, 3.0, 50)\n",
    "    domain = np.concatenate((domain, np.flip(domain[1:])))\n",
    "    sliders._SliderKwargs__sliders[\"m1\"] = domain"
   ]
  },
  {
   "cell_type": "markdown",
   "metadata": {},
   "source": [
    "## Compare Breit-Wigner and K-matrix"
   ]
  },
  {
   "cell_type": "markdown",
   "metadata": {},
   "source": [
    "That's it. Now, we do the same as in {doc}`/usage/interactive`, but with some slight adaptations to combine the $K$-matrix and Breit-Wigner formulations of both amplitudes in one plot. Notice in the Argand plot how the $K$-matrix preserves unitarity, while the Breit-Wigners do not!"
   ]
  },
  {
   "cell_type": "code",
   "execution_count": null,
   "metadata": {
    "jupyter": {
     "source_hidden": true
    },
    "tags": [
     "remove-output",
     "hide-input"
    ]
   },
   "outputs": [],
   "source": [
    "%matplotlib widget\n",
    "import matplotlib.pyplot as plt\n",
    "import mpl_interactions.ipyplot as iplt\n",
    "\n",
    "# Create figure\n",
    "fig, axes = plt.subplots(\n",
    "    1, 2, figsize=1.2 * np.array((8, 3.8)), tight_layout=True\n",
    ")\n",
    "# fig.suptitle(R\"$J/\\psi \\to \\gamma f_0, f_0 \\to \\pi^0\\pi^0$\")\n",
    "ax_intensity, ax_argand = axes\n",
    "m_label = \"$m_{a+b}$\"\n",
    "ax_intensity.set_xlabel(m_label)\n",
    "ax_intensity.set_ylabel(\"$|A|$\")\n",
    "ax_argand.set_xlabel(\"Re($A$)\")\n",
    "ax_argand.set_ylabel(\"Im($A$)\")\n",
    "\n",
    "# Intensity\n",
    "controls = iplt.plot(\n",
    "    plot_domain,\n",
    "    abs_amplitude_kmatrix,\n",
    "    label=\"$K$-matrix\",\n",
    "    **sliders,\n",
    "    ylim=\"auto\",\n",
    "    ax=ax_intensity,\n",
    ")\n",
    "iplt.plot(\n",
    "    plot_domain,\n",
    "    abs_amplitude_bw,\n",
    "    label=\"Breit-Wigner\",\n",
    "    controls=controls,\n",
    "    ylim=\"auto\",\n",
    "    ax=ax_intensity,\n",
    ")\n",
    "plt.legend(loc=\"upper right\")\n",
    "iplt.axvline(controls[\"m1\"], c=\"gray\", linestyle=\"dotted\")\n",
    "iplt.axvline(controls[\"m2\"], c=\"gray\", linestyle=\"dotted\")\n",
    "\n",
    "# Argand plots\n",
    "iplt.scatter(\n",
    "    argand_kmatrix,\n",
    "    label=\"$K$-matrix\",\n",
    "    controls=controls,\n",
    "    parametric=True,\n",
    "    s=1,\n",
    "    ax=ax_argand,\n",
    ")\n",
    "iplt.scatter(\n",
    "    argand_bw,\n",
    "    label=\"Breit-Wigner\",\n",
    "    controls=controls,\n",
    "    parametric=True,\n",
    "    s=1,\n",
    "    ax=ax_argand,\n",
    ")\n",
    "plt.legend(loc=\"upper right\");"
   ]
  },
  {
   "cell_type": "markdown",
   "metadata": {},
   "source": [
    "{{ run_interactive }}"
   ]
  },
  {
   "cell_type": "code",
   "execution_count": null,
   "metadata": {
    "jupyter": {
     "source_hidden": true
    },
    "tags": [
     "remove-input"
    ]
   },
   "outputs": [],
   "source": [
    "if STATIC_WEB_PAGE:\n",
    "    from IPython.display import Image\n",
    "\n",
    "    output_path = \"k-matrix.gif\"\n",
    "    ax_intensity.set_ylim([0, 4])\n",
    "    ax_argand.set_xlim([-3, +3])\n",
    "    ax_argand.set_ylim([0, 6])\n",
    "    controls.save_animation(output_path, fig, \"m1\", fps=20)\n",
    "    with open(output_path, \"rb\") as f:\n",
    "        display(Image(data=f.read(), format=\"png\"))"
   ]
  }
 ],
 "metadata": {
  "kernelspec": {
   "display_name": "Python 3",
   "language": "python",
   "name": "python3"
  },
  "language_info": {
   "codemirror_mode": {
    "name": "ipython",
    "version": 3
   },
   "file_extension": ".py",
   "mimetype": "text/x-python",
   "name": "python",
   "nbconvert_exporter": "python",
   "pygments_lexer": "ipython3",
   "version": "3.8.10"
  }
 },
 "nbformat": 4,
 "nbformat_minor": 4
}
