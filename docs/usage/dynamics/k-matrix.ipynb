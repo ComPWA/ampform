{
 "cells": [
  {
   "cell_type": "code",
   "execution_count": null,
   "metadata": {
    "hideCode": true,
    "hideOutput": true,
    "hidePrompt": true,
    "jupyter": {
     "source_hidden": true
    },
    "slideshow": {
     "slide_type": "skip"
    },
    "tags": [
     "remove-cell",
     "skip-execution"
    ]
   },
   "outputs": [],
   "source": [
    "# WARNING: advised to install a specific version, e.g. ampform==0.1.2\n",
    "%pip install -q ampform[doc,viz] IPython"
   ]
  },
  {
   "cell_type": "code",
   "execution_count": null,
   "metadata": {
    "hideCode": true,
    "hideOutput": true,
    "hidePrompt": true,
    "jupyter": {
     "source_hidden": true
    },
    "slideshow": {
     "slide_type": "skip"
    },
    "tags": [
     "remove-cell"
    ]
   },
   "outputs": [],
   "source": [
    "%config InlineBackend.figure_formats = ['svg']\n",
    "import os\n",
    "\n",
    "from IPython.display import display  # noqa: F401\n",
    "\n",
    "STATIC_WEB_PAGE = {\"EXECUTE_NB\", \"READTHEDOCS\"}.intersection(os.environ)"
   ]
  },
  {
   "cell_type": "markdown",
   "metadata": {},
   "source": [
    "```{autolink-concat}\n",
    "```"
   ]
  },
  {
   "cell_type": "markdown",
   "metadata": {},
   "source": [
    "# K-matrix"
   ]
  },
  {
   "cell_type": "markdown",
   "metadata": {},
   "source": [
    "<!-- cspell:ignore amma -->"
   ]
  },
  {
   "cell_type": "markdown",
   "metadata": {},
   "source": [
    "While {mod}`ampform` does not yet provide a generic way to formulate an amplitude model with $\\boldsymbol{K}$-matrix dynamics, the (experimental) {mod}`.kmatrix` module makes it fairly simple to produce a symbolic expression for a parameterized $\\boldsymbol{K}$-matrix with an arbitrary number of poles and channels and play around with it interactively. For more info on the $\\boldsymbol{K}$-matrix, see the classic paper by Chung {cite}`chungPartialWaveAnalysis1995`, {pdg-review}`Resonances`, or this instructive presentation {cite}`meyerMatrixTutorial2008`.\n",
    "\n",
    "Section {ref}`usage/dynamics/k-matrix:Physics` summarizes {cite}`chungPartialWaveAnalysis1995`, so that the {mod}`.kmatrix` module can reference to the equations. It also points out some subtleties and deviations.\n",
    "\n",
    ":::{note}\n",
    "\n",
    "The $\\boldsymbol{K}$-matrix approach was originally worked worked out in {doc}`compwa-org:report/005`, {doc}`compwa-org:report/009`, and {doc}`compwa-org:report/010`. Those reports contained a few mistakes, which have been addressed here.\n",
    "\n",
    ":::"
   ]
  },
  {
   "cell_type": "code",
   "execution_count": null,
   "metadata": {
    "jupyter": {
     "source_hidden": true
    },
    "tags": [
     "hide-cell"
    ]
   },
   "outputs": [],
   "source": [
    "%matplotlib widget\n",
    "import logging\n",
    "import re\n",
    "import warnings\n",
    "\n",
    "import graphviz\n",
    "import ipywidgets\n",
    "import matplotlib.pyplot as plt\n",
    "import mpl_interactions.ipyplot as iplt\n",
    "import numpy as np\n",
    "import sympy as sp\n",
    "from IPython.display import Image\n",
    "from matplotlib import cm\n",
    "from mpl_interactions.controller import Controls\n",
    "\n",
    "import symplot\n",
    "from ampform.dynamics import (\n",
    "    BlattWeisskopfSquared,\n",
    "    PhaseSpaceFactor,\n",
    "    kmatrix,\n",
    "    relativistic_breit_wigner,\n",
    ")\n",
    "\n",
    "logging.basicConfig()\n",
    "logging.getLogger().setLevel(logging.ERROR)\n",
    "\n",
    "warnings.filterwarnings(\"ignore\")\n",
    "\n",
    "BlattWeisskopfSquared.max_angular_momentum = 3"
   ]
  },
  {
   "cell_type": "markdown",
   "metadata": {},
   "source": [
    "## Physics"
   ]
  },
  {
   "cell_type": "markdown",
   "metadata": {
    "tags": [
     "scroll-input"
    ]
   },
   "source": [
    "The $\\boldsymbol{K}$-matrix formalism is used to describe coupled, two-body **formation processes** of the form $c_j d_j \\to R \\to a_i b_i$, with $i,j$ representing each separate channel and $R$ an intermediate state by which these channels are coupled."
   ]
  },
  {
   "cell_type": "code",
   "execution_count": null,
   "metadata": {
    "jupyter": {
     "source_hidden": true
    },
    "tags": [
     "hide-input"
    ]
   },
   "outputs": [],
   "source": [
    "dot = \"\"\"\n",
    "digraph {\n",
    "    rankdir=LR;\n",
    "    node [shape=point, width=0];\n",
    "    edge [arrowhead=none];\n",
    "    \"Na\" [shape=none, label=\"aᵢ\"];\n",
    "    \"Nb\" [shape=none, label=\"bᵢ\"];\n",
    "    \"Nc\" [shape=none, label=\"cⱼ\"];\n",
    "    \"Nd\" [shape=none, label=\"dⱼ\"];\n",
    "    { rank=same \"Nc\", \"Nd\" };\n",
    "    { rank=same \"Na\", \"Nb\" };\n",
    "    \"Nc\" -> \"N0\";\n",
    "    \"Nd\" -> \"N0\";\n",
    "    \"N1\" -> \"Na\";\n",
    "    \"N1\" -> \"Nb\";\n",
    "    \"N0\" -> \"N1\" [label=\"R\"];\n",
    "    \"N0\" [shape=none, label=\"\"];\n",
    "    \"N1\" [shape=none, label=\"\"];\n",
    "}\n",
    "\"\"\"\n",
    "graphviz.Source(dot)"
   ]
  },
  {
   "cell_type": "markdown",
   "metadata": {},
   "source": [
    "A small adaptation allows us to describe a coupled, two-body **production process** of the form $R \\to a_ib_i$ (see {ref}`usage/dynamics/k-matrix:Production processes`).\n",
    "\n",
    "In the following, $n$ denotes the number of channels and $n_R$ the number of poles. In the {mod}`.kmatrix` module, we use $0 \\leq i,j < n$ and $1 \\leq R \\leq n_R$."
   ]
  },
  {
   "cell_type": "markdown",
   "metadata": {},
   "source": [
    "### Partial wave expansion"
   ]
  },
  {
   "cell_type": "markdown",
   "metadata": {},
   "source": [
    "In amplitude analysis, the main aim is to express the differential cross section $\\frac{d\\sigma}{d\\Omega}$, that is, the intensity distribution in each spherical direction $\\Omega=(\\phi,\\theta)$ as we can observe in experiments. This differential cross section can be expressed in terms of the **scattering amplitude** $A$:\n",
    "\n",
    "```{margin}\n",
    "{cite}`chungPartialWaveAnalysis1995` Eq. (1)\n",
    "```\n",
    "\n",
    "$$\n",
    "\\frac{d\\sigma}{d\\Omega} = \\left|A(\\Omega)\\right|^2.\n",
    "$$ (differential cross section)\n",
    "\n",
    "We can now further express $A$ in terms of **partial wave amplitudes** by expanding it in terms of its angular momentum components:[^spin-formalisms]\n",
    "\n",
    "```{margin}\n",
    "{cite}`chungPartialWaveAnalysis1995` Eq. (2)\n",
    "```\n",
    "\n",
    "$$\n",
    "A(\\Omega) = \\frac{1}{q_i}\\sum_L\\left(2L+1\\right) T_L(s) {D^{*L}_{\\lambda\\mu}}\\left(\\phi,\\theta,0\\right)\n",
    "$$ (partial wave expansion)\n",
    "\n",
    "with $L$ the total angular momentum of the decay product pair, $\\lambda=\\lambda_a-\\lambda_b$ and $\\mu=\\lambda_c-\\lambda_d$ the helicity differences of the final and initial states, $D$ a [Wigner-$D$ function](https://en.wikipedia.org/wiki/Wigner_D-matrix), and $T_J$ an operator representing the partial wave amplitude.\n",
    "\n",
    "[^spin-formalisms]: Further subtleties arise when taking spin into account, especially for sequential decays. This is where {doc}`spin formalisms </usage/formalism>` come in.\n",
    "\n",
    "The above sketch is just with one channel in mind. The same holds true though for a number of channels $n$, with the only difference being that the $T$ operator becomes an $n\\times n$ $\\boldsymbol{T}$-matrix."
   ]
  },
  {
   "cell_type": "markdown",
   "metadata": {},
   "source": [
    "### Transition operator"
   ]
  },
  {
   "cell_type": "markdown",
   "metadata": {},
   "source": [
    "The important point is that we have now expressed $A$ in terms of an angular part (depending on $\\Omega$) and a dynamical part $\\boldsymbol{T}$ that depends on the {ref}`Mandelstam variable <pwa:introduction:Mandelstam variables>` $s$.\n",
    "\n",
    "\n",
    "The dynamical part $\\boldsymbol{T}$ is usually called the **transition operator**. It describes the interacting part of the more general **scattering operator** $\\boldsymbol{S}$, which describes the (complex) amplitude $\\langle f|\\boldsymbol{S}|i\\rangle$  of an initial state $|i\\rangle$ transitioning to a final state $|f\\rangle$. The scattering operator describes both the non-interacting amplitude and the transition amplitude, so it relates to the transition operator as:\n",
    "\n",
    "```{margin}\n",
    "{cite}`chungPartialWaveAnalysis1995` Eq. (10)\n",
    "```\n",
    "\n",
    "$$\n",
    "\\boldsymbol{S} = \\boldsymbol{I} + 2i\\boldsymbol{T}\n",
    "$$ (S in terms of T)\n",
    "\n",
    "with $\\boldsymbol{I}$ the identity operator. Just like in {cite}`chungPartialWaveAnalysis1995`, we use a factor 2, while other authors choose $\\boldsymbol{S} = \\boldsymbol{I} + i\\boldsymbol{T}$. In that case, one would have to multiply Eq. {eq}`partial wave expansion` by a factor $\\frac{1}{2}$."
   ]
  },
  {
   "cell_type": "markdown",
   "metadata": {},
   "source": [
    "### Ensuring unitarity"
   ]
  },
  {
   "cell_type": "markdown",
   "metadata": {},
   "source": [
    "Knowing the origin of the $\\boldsymbol{T}$-matrix, there is an important restriction that we need to comply with when we further formulate a {ref}`parametrization <usage/dynamics/k-matrix:Pole parametrization>`: **unitarity**. This means that $\\boldsymbol{S}$ should conserve probability, namely $\\boldsymbol{S}^\\dagger\\boldsymbol{S} = \\boldsymbol{I}$. Luckily, there is a trick that makes this easier. If we express $\\boldsymbol{S}$ in terms of an operator $\\boldsymbol{K}$ by applying a [Cayley transformation](https://en.wikipedia.org/wiki/Cayley_transform):\n",
    "\n",
    "```{margin}\n",
    "{cite}`chungPartialWaveAnalysis1995` Eq. (20)\n",
    "```\n",
    "\n",
    "$$\n",
    "\\boldsymbol{S} = (\\boldsymbol{I} + i\\boldsymbol{K})(I - i\\boldsymbol{K})^{-1},\n",
    "$$ (Cayley transformation)\n",
    "\n",
    "_unitarity is conserved if $\\boldsymbol{K}$ is real_. With some matrix jumbling, we can derive that the $\\boldsymbol{T}$-matrix can be expressed in terms of $\\boldsymbol{K}$ as follows:\n",
    "\n",
    "```{margin}\n",
    "{cite}`chungPartialWaveAnalysis1995` Eq. (19);\n",
    "compare with {eq}`T-hat in terms of K-hat`\n",
    "```\n",
    "\n",
    "$$\n",
    "\\boldsymbol{T}\n",
    "= \\boldsymbol{K} \\left(\\boldsymbol{I} - i\\boldsymbol{K}\\right)^{-1}\n",
    "= \\left(\\boldsymbol{I} - i\\boldsymbol{K}\\right)^{-1} \\boldsymbol{K}.\n",
    "$$ (T in terms of K)"
   ]
  },
  {
   "cell_type": "markdown",
   "metadata": {
    "tags": []
   },
   "source": [
    "### Lorentz-invariance"
   ]
  },
  {
   "cell_type": "markdown",
   "metadata": {
    "tags": []
   },
   "source": [
    "The description so far did not take Lorentz-invariance into account. For this, we first need to define a **two-body phase space matrix** $\\boldsymbol{\\rho}$:\n",
    "\n",
    "```{margin}\n",
    "{cite}`chungPartialWaveAnalysis1995` Eq. (36)\n",
    "```\n",
    "\n",
    "$$\n",
    "\\boldsymbol{\\rho} = \\begin{pmatrix}\n",
    "\\rho_0 & \\cdots & 0      \\\\\n",
    "\\vdots & \\ddots & \\vdots \\\\\n",
    "0      & \\cdots & \\rho_{n-1}\n",
    "\\end{pmatrix}.\n",
    "$$ (rho matrix)\n",
    "\n",
    "with $\\rho_i$ given by {eq}`PhaseSpaceFactor` in {class}`.PhaseSpaceFactor` for the final state masses $m_{a,i}, m_{b,i}$. The **Lorentz-invariant amplitude $\\boldsymbol{\\hat{T}}$** and corresponding Lorentz-invariant $\\boldsymbol{\\hat{K}}$-matrix can then be computed from $\\boldsymbol{T}$ and $\\boldsymbol{K}$ with:[^rho-dagger]\n",
    "\n",
    "```{margin}\n",
    "{cite}`chungPartialWaveAnalysis1995` Eqs. (34) and (47)\n",
    "```\n",
    "\n",
    "$$\n",
    "\\begin{eqnarray}\n",
    "\\boldsymbol{T} & = & \\sqrt{\\boldsymbol{\\rho}} \\; \\boldsymbol{\\hat{T}} \\sqrt{\\boldsymbol{\\rho}} \\\\\n",
    "\\boldsymbol{K} & = & \\sqrt{\\boldsymbol{\\rho}} \\; \\boldsymbol{\\hat{K}} \\sqrt{\\boldsymbol{\\rho}}.\n",
    "\\end{eqnarray}\n",
    "$$ (K-hat and T-hat)\n",
    "\n",
    "[^rho-dagger]: An unpublished primer on the $\\boldsymbol{K}$-matrix by Chung {cite}`chungPrimerKmatrixFormalism1995` uses a conjugate transpose of $\\boldsymbol{\\rho}$, e.g. $\\boldsymbol{T} = \\sqrt{\\boldsymbol{\\rho^\\dagger}} \\; \\boldsymbol{\\hat{T}} \\sqrt{\\boldsymbol{\\rho}}$. This should not matter above threshold, where the phase space factor is real, but could have effects below threshold. This is where things become tricky: on the one hand, we need to ensure that $\\boldsymbol{K}$ remains real (unitarity) and on the other, we need to take keep track of which imaginary square root we choose (**Riemann sheet**). The latter is often called the requirement of **analyticity**. This is currently being explored in {doc}`compwa-org:report/003` and {doc}`compwa-org:report/004`.\n",
    "\n",
    "With these definitions, we can deduce that:\n",
    "\n",
    "```{margin}\n",
    "{cite}`chungPartialWaveAnalysis1995` Eq. (51);\n",
    "compare with {eq}`T in terms of K`\n",
    "```\n",
    "\n",
    "$$\n",
    "\\boldsymbol{\\hat{T}}\n",
    "= \\boldsymbol{\\hat{K}} (\\boldsymbol{I} - i\\boldsymbol{\\rho}\\boldsymbol{\\hat{K}})^{-1}\n",
    "= (\\boldsymbol{I} - i\\boldsymbol{\\hat{K}}\\boldsymbol{\\rho})^{-1} \\boldsymbol{\\hat{K}}.\n",
    "$$ (T-hat in terms of K-hat)"
   ]
  },
  {
   "cell_type": "markdown",
   "metadata": {
    "tags": []
   },
   "source": [
    "### Production processes\n",
    "\n",
    "{ref}`As noted in the intro <usage/dynamics/k-matrix:Physics>`, the $\\boldsymbol{K}$-matrix describes scattering processes of type $cd \\to ab$. It can however be generalized to describe **production processes** of type $R \\to ab$. Here, the amplitude is described by a **final state $F$-vector** of size $n$, so the question is how to express $F$ in terms of transition matrix $\\boldsymbol{T}$."
   ]
  },
  {
   "cell_type": "code",
   "execution_count": null,
   "metadata": {
    "jupyter": {
     "source_hidden": true
    },
    "tags": [
     "hide-input"
    ]
   },
   "outputs": [],
   "source": [
    "dot = \"\"\"\n",
    "digraph {\n",
    "    rankdir=LR;\n",
    "    node [shape=point, width=0];\n",
    "    edge [arrowhead=none];\n",
    "    \"a\" [shape=none, label=\"aᵢ\"];\n",
    "    \"b\" [shape=none, label=\"bᵢ\"];\n",
    "    \"R\" [shape=none, label=\"R\"];\n",
    "    \"N\" [shape=none, label=\"\"];\n",
    "    \"R\" -> \"N\";\n",
    "    \"N\" -> \"a\";\n",
    "    \"N\" -> \"b\";\n",
    "    { rank=same \"Na\", \"Nb\" };\n",
    "}\n",
    "\"\"\"\n",
    "graphviz.Source(dot)"
   ]
  },
  {
   "cell_type": "markdown",
   "metadata": {
    "tags": [
     "scroll-input"
    ]
   },
   "source": [
    "One approach by {cite}`aitchisonMatrixFormalismOverlapping1972` is to transform $\\boldsymbol{T}$ into $F$ (and its relativistic form $\\hat{F}$) through the **production amplitude $P$-vector**:\n",
    "\n",
    "```{margin}\n",
    "{cite}`chungPartialWaveAnalysis1995` Eqs. (114) and (115)\n",
    "```\n",
    "\n",
    "$$\n",
    "\\begin{eqnarray}\n",
    "F & = & \\left(\\boldsymbol{I}-i\\boldsymbol{K}\\right)^{-1}P \\\\\n",
    "\\hat{F} & = & \\left(\\boldsymbol{I}-i\\boldsymbol{\\hat{K}\\boldsymbol{\\rho}}\\right)^{-1}\\hat{P},\n",
    "\\end{eqnarray}\n",
    "$$ (F in terms of P)\n",
    "\n",
    "where we can compute $\\boldsymbol{\\hat{K}}$ from {eq}`K-hat and T-hat`:\n",
    "\n",
    "$$\n",
    "\\hat{\\boldsymbol{K}} = \\sqrt{\\boldsymbol{\\rho}^{-1}} \\boldsymbol{K} \\sqrt{\\boldsymbol{\\rho}^{-1}}.\n",
    "$$ (K-hat in terms of K)\n",
    "\n",
    "Another approach by {cite}`cahnMystery9801986` further approximates this by defining a **$Q$-vector**:\n",
    "\n",
    "```{margin}\n",
    "{cite}`chungPartialWaveAnalysis1995` Eq. (124)\n",
    "```\n",
    "\n",
    "$$\n",
    "Q = \\boldsymbol{K}^{-1}P \\quad \\mathrm{and} \\quad\n",
    "\\hat{Q} = \\boldsymbol{\\hat{K}}^{-1}\\hat{P}\n",
    "$$ (Q-vector)\n",
    "\n",
    "that _is taken to be constant_ (just some 'fitting' parameters). The $F$-vector can then be expressed as:\n",
    "\n",
    "```{margin}\n",
    "{cite}`chungPartialWaveAnalysis1995` Eq. (125)\n",
    "```\n",
    "\n",
    "$$\n",
    "F = \\boldsymbol{T}Q\n",
    "\\quad \\mathrm{and} \\quad\n",
    "\\hat{F} = \\boldsymbol{\\hat{T}}\\hat{Q}\n",
    "$$ (F in terms of Q)\n",
    "\n",
    "Note that for all these vectors, we have:\n",
    "\n",
    "```{margin}\n",
    "{cite}`chungPartialWaveAnalysis1995` Eqs. (116) and (124)\n",
    "```\n",
    "\n",
    "$$\n",
    "F=\\sqrt{\\boldsymbol{\\rho}}\\hat{F},\\quad\n",
    "P=\\sqrt{\\boldsymbol{\\rho}}\\hat{P},\\quad\\mathrm{and}\\quad\n",
    "Q=\\sqrt{\\boldsymbol{\\rho}^{-1}}\\hat{Q}.\n",
    "$$ (invariant vectors)"
   ]
  },
  {
   "cell_type": "markdown",
   "metadata": {
    "tags": []
   },
   "source": [
    "### Pole parametrization"
   ]
  },
  {
   "cell_type": "markdown",
   "metadata": {},
   "source": [
    "After all these matrix definitions, the final challenge is to choose a correct parametrization for the elements of $\\boldsymbol{K}$ and $P$ that accurately describes the resonances we observe.[^pole-vs-resonance] There are several choices, but a common one is the following summation over the **poles** $R$:[^complex-conjugate-parametrization]\n",
    "\n",
    "[^complex-conjugate-parametrization]: Eqs. (51) and (52) in {cite}`chungPrimerKmatrixFormalism1995` take a complex conjugate of one of the residue functions and one of the phase space factors.\n",
    "\n",
    "```{margin}\n",
    "{cite}`chungPartialWaveAnalysis1995` Eqs. (73) and (74)\n",
    "```\n",
    "\n",
    "$$\n",
    "\\begin{eqnarray}\n",
    "K_{ij} &=& \\sum_R\\frac{g_{R,i}g_{R,j}}{m_R^2-s} + c_{ij} \\\\\n",
    "\\hat{K}_{ij} &=& \\sum_R \\frac{g_{R,i}(s)g_{R,j}(s)}{\\left(m_R^2-s\\right)\\sqrt{\\rho_i\\rho_j}} + \\hat{c}_{ij}\n",
    "\\end{eqnarray}\n",
    "$$ (K-matrix parametrization)\n",
    "\n",
    "with $c_{ij}, \\hat{c}_{ij}$ some optional background characterization and $g_{R,i}$ the **residue functions**. The residue functions are often further expressed as:\n",
    "\n",
    "```{margin}\n",
    "{cite}`chungPartialWaveAnalysis1995` Eqs. (75-78)\n",
    "```\n",
    "\n",
    "$$\n",
    "\\begin{eqnarray}\n",
    "g_{R,i} &=& \\gamma_{R,i}\\sqrt{m_R\\Gamma^0_{R,i}} \\\\\n",
    "g_{R,i}(s) &=& \\gamma_{R,i}\\sqrt{m_R\\Gamma_{R,i}(s)}\n",
    "\\end{eqnarray}\n",
    "$$ (residue function)\n",
    "\n",
    "with $\\gamma_{R,i}$ some _real_ constants and $\\Gamma^0_{R,i}$ the **partial width** of each pole. In the Lorentz-invariant form, the fixed width $\\Gamma^0$ is replaced by an \"energy dependent\" {class}`.EnergyDependentWidth` $\\Gamma(s)$.[^phase-space-factor-normalization] The **width** for each pole can be computed as $\\Gamma^0_R = \\sum_i\\Gamma^0_{R,i}$.\n",
    "\n",
    "[^phase-space-factor-normalization]: Unlike Eq. (77) in {cite}`chungPartialWaveAnalysis1995`, AmpForm defines {class}`.EnergyDependentWidth` as in {pdg-review}`2020; Resonances; p.6`, Eq. (49.21). The difference is that the phase space factor denoted by $\\rho_i$ in Eq. (77) in {cite}`chungPartialWaveAnalysis1995` is divided by the phase space factor at the pole position $m_R$. So in AmpForm, the choice is $\\rho_i \\to \\frac{\\rho_i(s)}{\\rho_i(m_R)}$."
   ]
  },
  {
   "cell_type": "markdown",
   "metadata": {},
   "source": [
    "The production vector $P$ is commonly parameterized as:[^damping-factor-P-parametrization]\n",
    "\n",
    "```{margin}\n",
    "{cite}`chungPartialWaveAnalysis1995` Eqs. (118-119) and (122)\n",
    "```\n",
    "\n",
    "$$\n",
    "\\begin{eqnarray}\n",
    "P_i &=& \\sum_R \\frac{\\beta^0_R\\,g_{R,i}(s)}{m_R^2-s} \\\\\n",
    "\\hat{P}_i\n",
    "&=& \\sum_R \\frac{\\beta^0_R\\,g_{R,i}(s)}{\\left(m_R^2-s\\right)\\sqrt{\\rho_i}} \\\\\n",
    "&=& \\sum_R \\frac{\n",
    "    \\beta^0_R\\gamma_{R,i}m_R\\Gamma^0_R B_{R,i}(q(s))\n",
    "}{m_R^2-s}\n",
    "\\end{eqnarray}\n",
    "$$ (P-vector parametrization)\n",
    "\n",
    "with $B_{R,i}(q(s))$ the **centrifugal damping factor** (see {class}`.BlattWeisskopfSquared`) for channel $i$ and $\\beta_R^0$ some (generally complex) constants that describe the production information of the decaying state $R$. Usually, these constants are rescaled just like the residue functions in {eq}`residue function`:\n",
    "\n",
    "[^damping-factor-P-parametrization]: Just as with [^phase-space-factor-normalization], we have smuggled a bit in the last equation in order to be able to reproduce Eq. (49.19) in {pdg-review}`2020; Resonances; p.6` in the case $n=1,n_R=1$, on which {func}`.relativistic_breit_wigner_with_ff` is based.\n",
    "\n",
    "```{margin}\n",
    "{cite}`chungPartialWaveAnalysis1995` Eq. (121)\n",
    "```\n",
    "\n",
    "$$\n",
    "\\beta^0_R = \\beta_R\\sqrt{m_R\\Gamma^0_R}.\n",
    "$$ (beta functions)"
   ]
  },
  {
   "cell_type": "markdown",
   "metadata": {},
   "source": [
    "## Implementation"
   ]
  },
  {
   "cell_type": "markdown",
   "metadata": {},
   "source": [
    "### Non-relativistic K-matrix"
   ]
  },
  {
   "cell_type": "markdown",
   "metadata": {},
   "source": [
    "A non-relativistic $\\boldsymbol{K}$-matrix for an arbitrary number of channels and an arbitrary number of poles can be formulated with the {meth}`.NonRelativisticKMatrix.formulate` method:"
   ]
  },
  {
   "cell_type": "code",
   "execution_count": null,
   "metadata": {},
   "outputs": [],
   "source": [
    "n_poles = sp.Symbol(\"n_R\", integer=True, positive=True)\n",
    "k_matrix_nr = kmatrix.NonRelativisticKMatrix.formulate(\n",
    "    n_poles=n_poles, n_channels=1\n",
    ")\n",
    "k_matrix_nr[0, 0]"
   ]
  },
  {
   "cell_type": "markdown",
   "metadata": {},
   "source": [
    "Notice how the $\\boldsymbol{K}$-matrix reduces to a {func}`.relativistic_breit_wigner` in the case of one channel and one pole (but for a residue constant $\\gamma$):"
   ]
  },
  {
   "cell_type": "code",
   "execution_count": null,
   "metadata": {},
   "outputs": [],
   "source": [
    "k_matrix_1r = kmatrix.NonRelativisticKMatrix.formulate(n_poles=1, n_channels=1)\n",
    "k_matrix_1r[0, 0].doit().simplify()"
   ]
  },
  {
   "cell_type": "markdown",
   "metadata": {},
   "source": [
    "Now let's investigate the effect of using a $\\boldsymbol{K}$-matrix to describe **two poles** in one channel and see how it compares with the sum of two Breit-Wigner functions (two 'resonances'). Two Breit-Wigner 'poles' with the same parameters would look like this:"
   ]
  },
  {
   "cell_type": "code",
   "execution_count": null,
   "metadata": {},
   "outputs": [],
   "source": [
    "s, m1, m2, Gamma1, Gamma2 = sp.symbols(\"s, m1, m2, Gamma1, Gamma2\")\n",
    "bw1 = relativistic_breit_wigner(s, m1, Gamma1)\n",
    "bw2 = relativistic_breit_wigner(s, m2, Gamma2)\n",
    "bw = bw1 + bw2\n",
    "bw"
   ]
  },
  {
   "cell_type": "markdown",
   "metadata": {},
   "source": [
    "while a $\\boldsymbol{K}$-matrix parametrizes the two poles as:"
   ]
  },
  {
   "cell_type": "code",
   "execution_count": null,
   "metadata": {},
   "outputs": [],
   "source": [
    "k_matrix_2r = kmatrix.NonRelativisticKMatrix.formulate(n_poles=2, n_channels=1)\n",
    "k_matrix = k_matrix_2r[0, 0].doit()"
   ]
  },
  {
   "cell_type": "code",
   "execution_count": null,
   "metadata": {
    "jupyter": {
     "source_hidden": true
    },
    "tags": [
     "hide-input"
    ]
   },
   "outputs": [],
   "source": [
    "# reformulate terms\n",
    "denominator, nominator = k_matrix.args\n",
    "term1 = nominator.args[0] * denominator\n",
    "term2 = nominator.args[1] * denominator\n",
    "k_matrix = term1 + term2\n",
    "k_matrix"
   ]
  },
  {
   "cell_type": "markdown",
   "metadata": {},
   "source": [
    "To simplify things, we can set the residue constants $\\gamma$ to one. Notice how the $\\boldsymbol{K}$-matrix has introduced some coupling ('interference') between the two terms."
   ]
  },
  {
   "cell_type": "code",
   "execution_count": null,
   "metadata": {
    "jupyter": {
     "source_hidden": true
    },
    "tags": [
     "hide-input"
    ]
   },
   "outputs": [],
   "source": [
    "def remove_residue_constants(expression):\n",
    "    expression = symplot.substitute_indexed_symbols(expression)\n",
    "    residue_constants = filter(\n",
    "        lambda s: re.match(r\"^\\\\?gamma\", s.name),\n",
    "        expression.free_symbols,\n",
    "    )\n",
    "    return expression.xreplace({gamma: 1 for gamma in residue_constants})\n",
    "\n",
    "\n",
    "display(\n",
    "    remove_residue_constants(bw),\n",
    "    remove_residue_constants(k_matrix),\n",
    ")"
   ]
  },
  {
   "cell_type": "markdown",
   "metadata": {},
   "source": [
    "Now, just like in {doc}`/usage/interactive`, we use {mod}`symplot` to visualize the difference between the two expressions. The important thing is that the Argand plot on the right shows that **the $\\boldsymbol{K}$-matrix conserves unitarity**.\n",
    "\n",
    "Note that we have to call {func}`symplot.substitute_indexed_symbols` to turn the {class}`~sympy.tensor.indexed.Indexed` instances in this {obj}`~sympy.matrices.dense.Matrix` expression into {class}`~sympy.core.symbol.Symbol`s before calling this function. We also call {func}`symplot.rename_symbols` so that the residue $\\gamma$'s get a name that does not have to be dummified by {func}`~sympy.utilities.lambdify.lambdify`."
   ]
  },
  {
   "cell_type": "code",
   "execution_count": null,
   "metadata": {
    "jupyter": {
     "source_hidden": true
    },
    "tags": [
     "hide-input",
     "remove-output",
     "scroll-input"
    ]
   },
   "outputs": [],
   "source": [
    "# Prepare expressions\n",
    "m = sp.Symbol(\"m\")\n",
    "k_matrix = symplot.substitute_indexed_symbols(k_matrix)\n",
    "rename_gammas = lambda s: re.sub(  # noqa: E731\n",
    "    r\"\\\\([Gg])amma_{([0-9]),0}\", r\"\\1amma\\2\", s\n",
    ")\n",
    "gamma1, gamma2 = sp.symbols(\"gamma1 gamma2\")\n",
    "bw = symplot.rename_symbols(bw, rename_gammas)\n",
    "k_matrix = symplot.rename_symbols(k_matrix, rename_gammas)\n",
    "bw = bw.xreplace({s: m**2})\n",
    "k_matrix = k_matrix.xreplace({s: m**2})\n",
    "\n",
    "# Prepare sliders and domain\n",
    "np_kmatrix, sliders = symplot.prepare_sliders(k_matrix, m)\n",
    "np_bw = sp.lambdify((m, Gamma1, Gamma2, gamma1, gamma2, m1, m2), bw.doit())\n",
    "\n",
    "m_min, m_max = 0, 3\n",
    "domain_1d = np.linspace(m_min, m_max, 200)\n",
    "domain_argand = np.linspace(m_min - 2, m_max + 2, 1_000)\n",
    "sliders.set_ranges(\n",
    "    m1=(0, 3, 100),\n",
    "    m2=(0, 3, 100),\n",
    "    Gamma1=(0, 2, 100),\n",
    "    Gamma2=(0, 2, 100),\n",
    "    gamma1=(0, 2),\n",
    "    gamma2=(0, 2),\n",
    ")\n",
    "sliders.set_values(\n",
    "    m1=1.1,\n",
    "    m2=1.9,\n",
    "    Gamma1=0.2,\n",
    "    Gamma2=0.3,\n",
    "    gamma1=1,\n",
    "    gamma2=1,\n",
    ")\n",
    "if STATIC_WEB_PAGE:\n",
    "    # Concatenate flipped domain for reverse animation\n",
    "    domain = np.linspace(1.0, 2.7, 50)\n",
    "    domain = np.concatenate((domain, np.flip(domain[1:])))\n",
    "    sliders._sliders[\"m1\"] = domain\n",
    "\n",
    "\n",
    "def create_argand(func):\n",
    "    def wrapped(**kwargs):\n",
    "        values = func(domain_argand, **kwargs)\n",
    "        argand = np.array([values.real, values.imag])\n",
    "        return argand.T\n",
    "\n",
    "    return wrapped\n",
    "\n",
    "\n",
    "# Create figure\n",
    "fig, axes = plt.subplots(\n",
    "    ncols=2,\n",
    "    figsize=1.2 * np.array((8, 3.8)),\n",
    "    tight_layout=True,\n",
    ")\n",
    "ax_intensity, ax_argand = axes\n",
    "m_label = \"$m_{a+b}$\"\n",
    "ax_intensity.set_xlabel(m_label)\n",
    "ax_intensity.set_ylabel(\"$|A|^2$\")\n",
    "ax_argand.set_xlabel(\"Re($A$)\")\n",
    "ax_argand.set_ylabel(\"Im($A$)\")\n",
    "\n",
    "# Plot intensity\n",
    "controls = iplt.plot(\n",
    "    domain_1d,\n",
    "    lambda *args, **kwargs: np.abs(np_kmatrix(*args, **kwargs) ** 2),\n",
    "    label=\"$K$-matrix\",\n",
    "    **sliders,\n",
    "    ylim=\"auto\",\n",
    "    ax=ax_intensity,\n",
    ")\n",
    "iplt.plot(\n",
    "    domain_1d,\n",
    "    lambda *args, **kwargs: np.abs(np_bw(*args, **kwargs) ** 2),\n",
    "    label=\"Breit-Wigner\",\n",
    "    controls=controls,\n",
    "    ylim=\"auto\",\n",
    "    ax=ax_intensity,\n",
    ")\n",
    "plt.legend(loc=\"upper right\")\n",
    "iplt.axvline(controls[\"m1\"], c=\"gray\", linestyle=\"dotted\")\n",
    "iplt.axvline(controls[\"m2\"], c=\"gray\", linestyle=\"dotted\")\n",
    "\n",
    "# Argand plots\n",
    "iplt.scatter(\n",
    "    create_argand(np_kmatrix),\n",
    "    label=\"$K$-matrix\",\n",
    "    controls=controls,\n",
    "    parametric=True,\n",
    "    s=1,\n",
    "    ax=ax_argand,\n",
    ")\n",
    "iplt.scatter(\n",
    "    create_argand(np_bw),\n",
    "    label=\"Breit-Wigner\",\n",
    "    controls=controls,\n",
    "    parametric=True,\n",
    "    s=1,\n",
    "    ax=ax_argand,\n",
    ")\n",
    "plt.legend(loc=\"upper right\");"
   ]
  },
  {
   "cell_type": "markdown",
   "metadata": {},
   "source": [
    "{{ run_interactive }}"
   ]
  },
  {
   "cell_type": "code",
   "execution_count": null,
   "metadata": {
    "jupyter": {
     "source_hidden": true
    },
    "tags": [
     "remove-input"
    ]
   },
   "outputs": [],
   "source": [
    "if STATIC_WEB_PAGE:\n",
    "    output_path = \"non-relativistic-k-matrix.gif\"\n",
    "    ax_intensity.set_ylim([0, 2])\n",
    "    ax_argand.set_xlim([-1, +1])\n",
    "    ax_argand.set_ylim([0, 2])\n",
    "    controls.save_animation(output_path, fig, \"m1\", fps=20)\n",
    "    with open(output_path, \"rb\") as f:\n",
    "        display(Image(data=f.read(), format=\"png\"))"
   ]
  },
  {
   "cell_type": "markdown",
   "metadata": {},
   "source": [
    "### Relativistic K-matrix"
   ]
  },
  {
   "cell_type": "markdown",
   "metadata": {},
   "source": [
    "Relativistic $\\boldsymbol{K}$-matrices for an arbitrary number of channels and an arbitrary number of poles can be formulated with the {meth}`.RelativisticKMatrix.formulate` method:"
   ]
  },
  {
   "cell_type": "code",
   "execution_count": null,
   "metadata": {},
   "outputs": [],
   "source": [
    "L = sp.Symbol(\"L\", integer=True, negative=False)\n",
    "n_poles = sp.Symbol(\"n_R\", integer=True, positive=True)\n",
    "rel_k_matrix_nr = kmatrix.RelativisticKMatrix.formulate(\n",
    "    n_poles=n_poles, n_channels=1, angular_momentum=L\n",
    ")\n",
    "rel_k_matrix_nr[0, 0]"
   ]
  },
  {
   "cell_type": "markdown",
   "metadata": {},
   "source": [
    "Again, as in {ref}`usage/dynamics/k-matrix:Non-relativistic K-matrix`, the $\\boldsymbol{K}$-matrix reduces to something of a {func}`.relativistic_breit_wigner`. This time, the width has been replaced by a {class}`.EnergyDependentWidth` and some {class}`.PhaseSpaceFactor`s have been inserted that take care of the decay into two decay products:"
   ]
  },
  {
   "cell_type": "code",
   "execution_count": null,
   "metadata": {},
   "outputs": [],
   "source": [
    "rel_k_matrix_1r = kmatrix.RelativisticKMatrix.formulate(\n",
    "    n_poles=1, n_channels=1, angular_momentum=L\n",
    ")\n",
    "symplot.partial_doit(rel_k_matrix_1r[0, 0], sp.Sum).simplify(doit=False)"
   ]
  },
  {
   "cell_type": "markdown",
   "metadata": {},
   "source": [
    "Note that another difference with {func}`.relativistic_breit_wigner_with_ff` is an additional phase space factor in the denominator. That one disappears in {ref}`usage/dynamics/k-matrix:P-vector`.\n",
    "\n",
    "The $\\boldsymbol{K}$-matrix with two poles becomes (neglecting the $\\sqrt{\\rho_0(s)}$):"
   ]
  },
  {
   "cell_type": "code",
   "execution_count": null,
   "metadata": {
    "tags": []
   },
   "outputs": [],
   "source": [
    "rel_k_matrix_2r = kmatrix.RelativisticKMatrix.formulate(\n",
    "    n_poles=2, n_channels=1, angular_momentum=L\n",
    ")\n",
    "rel_k_matrix_2r = symplot.partial_doit(rel_k_matrix_2r[0, 0], sp.Sum)"
   ]
  },
  {
   "cell_type": "code",
   "execution_count": null,
   "metadata": {
    "jupyter": {
     "source_hidden": true
    },
    "tags": [
     "hide-input",
     "full-width"
    ]
   },
   "outputs": [],
   "source": [
    "rel_k_matrix_2r = symplot.substitute_indexed_symbols(rel_k_matrix_2r)\n",
    "s, m_a, m_b = sp.symbols(\"s, m_a0, m_b0\")\n",
    "rho = PhaseSpaceFactor(s, m_a, m_b)\n",
    "rel_k_matrix_2r = rel_k_matrix_2r.xreplace(\n",
    "    {\n",
    "        sp.sqrt(rho): 1,\n",
    "        sp.conjugate(sp.sqrt(rho)): 1,\n",
    "    }\n",
    ")\n",
    "denominator, nominator = rel_k_matrix_2r.args\n",
    "term1 = nominator.args[0] * denominator\n",
    "term2 = nominator.args[1] * denominator\n",
    "rel_k_matrix_2r = term1 + term2\n",
    "rel_k_matrix_2r"
   ]
  },
  {
   "cell_type": "markdown",
   "metadata": {},
   "source": [
    "This again shows the interference introduced by the $\\boldsymbol{K}$-matrix, when compared with a sum of two Breit-Wigner functions."
   ]
  },
  {
   "cell_type": "markdown",
   "metadata": {},
   "source": [
    "### P-vector"
   ]
  },
  {
   "cell_type": "markdown",
   "metadata": {},
   "source": [
    "For one channel and an arbitrary number of poles $n_R$, the $F$-vector gets the following form:"
   ]
  },
  {
   "cell_type": "code",
   "execution_count": null,
   "metadata": {},
   "outputs": [],
   "source": [
    "n_poles = sp.Symbol(\"n_R\", integer=True, positive=True)\n",
    "kmatrix.NonRelativisticPVector.formulate(n_poles=n_poles, n_channels=1)[0]"
   ]
  },
  {
   "cell_type": "markdown",
   "metadata": {},
   "source": [
    "The {class}`.RelativisticPVector` looks like:"
   ]
  },
  {
   "cell_type": "code",
   "execution_count": null,
   "metadata": {},
   "outputs": [],
   "source": [
    "kmatrix.RelativisticPVector.formulate(\n",
    "    n_poles=n_poles, n_channels=1, angular_momentum=L\n",
    ")[0]"
   ]
  },
  {
   "cell_type": "markdown",
   "metadata": {},
   "source": [
    "As in {ref}`usage/dynamics/k-matrix:Non-relativistic K-matrix`, if we take $n_R=1$, the $F$-vector reduces to a Breit-Wigner function, but now with an additional factor $\\beta$."
   ]
  },
  {
   "cell_type": "code",
   "execution_count": null,
   "metadata": {},
   "outputs": [],
   "source": [
    "f_vector_1r = kmatrix.NonRelativisticPVector.formulate(n_poles=1, n_channels=1)\n",
    "symplot.partial_doit(f_vector_1r[0], sp.Sum)"
   ]
  },
  {
   "cell_type": "markdown",
   "metadata": {},
   "source": [
    "And when we neglect the phase space factors $\\sqrt{\\rho_0(s)}$, the {class}`.RelativisticPVector` reduces to a {func}`.relativistic_breit_wigner_with_ff`!"
   ]
  },
  {
   "cell_type": "code",
   "execution_count": null,
   "metadata": {},
   "outputs": [],
   "source": [
    "rel_f_vector_1r = kmatrix.RelativisticPVector.formulate(\n",
    "    n_poles=1, n_channels=1, angular_momentum=L\n",
    ")\n",
    "rel_f_vector_1r = symplot.partial_doit(rel_f_vector_1r[0], sp.Sum)"
   ]
  },
  {
   "cell_type": "code",
   "execution_count": null,
   "metadata": {
    "jupyter": {
     "source_hidden": true
    },
    "tags": [
     "hide-input",
     "full-width"
    ]
   },
   "outputs": [],
   "source": [
    "rel_f_vector_1r = symplot.substitute_indexed_symbols(rel_f_vector_1r)\n",
    "s, m_a, m_b = sp.symbols(\"s, m_a0, m_b0\")\n",
    "rho = PhaseSpaceFactor(s, m_a, m_b)\n",
    "rel_f_vector_1r.xreplace(\n",
    "    {\n",
    "        sp.sqrt(rho): 1,\n",
    "        sp.conjugate(sp.sqrt(rho)): 1,\n",
    "    }\n",
    ").simplify(doit=False)"
   ]
  },
  {
   "cell_type": "markdown",
   "metadata": {},
   "source": [
    "Note that the $F$-vector approach introduces additional $\\beta$-coefficients. These can constants can be complex and can introduce phase differences form the production process."
   ]
  },
  {
   "cell_type": "code",
   "execution_count": null,
   "metadata": {
    "tags": []
   },
   "outputs": [],
   "source": [
    "f_vector_2r = kmatrix.NonRelativisticPVector.formulate(n_poles=2, n_channels=1)\n",
    "f_vector = f_vector_2r[0].doit()"
   ]
  },
  {
   "cell_type": "code",
   "execution_count": null,
   "metadata": {
    "jupyter": {
     "source_hidden": true
    },
    "tags": [
     "hide-input"
    ]
   },
   "outputs": [],
   "source": [
    "denominator, nominator = f_vector.args\n",
    "term1 = nominator.args[0] * denominator\n",
    "term2 = nominator.args[1] * denominator\n",
    "f_vector = term1 + term2\n",
    "f_vector"
   ]
  },
  {
   "cell_type": "markdown",
   "metadata": {},
   "source": [
    "Now again let's compare the compare this with a sum of two {func}`.relativistic_breit_wigner`s, now with the two additional $\\beta$-constants."
   ]
  },
  {
   "cell_type": "code",
   "execution_count": null,
   "metadata": {
    "jupyter": {
     "source_hidden": true
    },
    "tags": []
   },
   "outputs": [],
   "source": [
    "beta1, beta2 = sp.symbols(\"beta1 beta2\")\n",
    "bw_with_phases = beta1 * bw1 + beta2 * bw2\n",
    "display(\n",
    "    bw_with_phases,\n",
    "    remove_residue_constants(f_vector),\n",
    ")"
   ]
  },
  {
   "cell_type": "markdown",
   "metadata": {},
   "source": [
    "{{ run_interactive }}"
   ]
  },
  {
   "cell_type": "code",
   "execution_count": null,
   "metadata": {
    "jupyter": {
     "source_hidden": true
    },
    "tags": [
     "hide-input",
     "scroll-input"
    ]
   },
   "outputs": [],
   "source": [
    "# Prepare expressions\n",
    "f_vector = symplot.substitute_indexed_symbols(f_vector)\n",
    "rename_gammas = lambda s: re.sub(  # noqa: E731\n",
    "    r\"\\\\([Gg])amma_{([0-9]),0}\", r\"\\1amma\\2\", s\n",
    ")\n",
    "c1, c2, phi1, phi2 = sp.symbols(\"c1 c2 phi1 phi2\", real=True)\n",
    "bw_with_phases = symplot.rename_symbols(bw_with_phases, rename_gammas)\n",
    "f_vector = symplot.rename_symbols(f_vector, rename_gammas)\n",
    "substitutions = {\n",
    "    s: m**2,\n",
    "    beta1: c1 * sp.exp(sp.I * phi1),\n",
    "    beta2: c2 * sp.exp(sp.I * phi2),\n",
    "}\n",
    "bw_with_phases = bw_with_phases.xreplace(substitutions)\n",
    "f_vector = f_vector.xreplace(substitutions)\n",
    "\n",
    "# Prepare sliders and domain\n",
    "np_f_vector, sliders = symplot.prepare_sliders(f_vector, m)\n",
    "np_bw = sp.lambdify(\n",
    "    (m, Gamma1, Gamma2, c1, c2, gamma1, gamma2, m1, m2, phi1, phi2),\n",
    "    bw_with_phases.doit(),\n",
    ")\n",
    "\n",
    "# Set plot domain\n",
    "x_min, x_max = 0, 3\n",
    "y_min, y_max = -0.5, +0.5\n",
    "plot_domain = np.linspace(x_min, x_max, num=150)\n",
    "plot_domain_argand = np.linspace(x_min - 2, x_max + 2, num=400)\n",
    "x_values = np.linspace(x_min, x_max, num=160)\n",
    "y_values = np.linspace(y_min, y_max, num=80)\n",
    "X, Y = np.meshgrid(x_values, y_values)\n",
    "plot_domain_complex = X + Y * 1j\n",
    "\n",
    "# Set slider values and ranges\n",
    "sliders.set_ranges(\n",
    "    c1=(0, 2, 100),\n",
    "    c2=(0, 2, 100),\n",
    "    phi1=(0, np.pi, np.pi / 20),\n",
    "    phi2=(0, np.pi, np.pi / 20),\n",
    "    m1=(0, 3, 300),\n",
    "    m2=(0, 3, 300),\n",
    "    Gamma1=(-2, 2, 100),\n",
    "    Gamma2=(-2, 2, 100),\n",
    "    gamma1=(0, 2),\n",
    "    gamma2=(0, 2),\n",
    ")\n",
    "sliders.set_values(\n",
    "    c1=1,\n",
    "    c2=1,\n",
    "    m1=1.4,\n",
    "    m2=1.7,\n",
    "    Gamma1=0.2,\n",
    "    Gamma2=0.3,\n",
    "    gamma1=1,\n",
    "    gamma2=1,\n",
    ")\n",
    "\n",
    "\n",
    "def create_argand(func):\n",
    "    def wrapped(**kwargs):\n",
    "        values = func(plot_domain_argand, **kwargs)\n",
    "        argand = np.array([values.real, values.imag])\n",
    "        return argand.T\n",
    "\n",
    "    return wrapped\n",
    "\n",
    "\n",
    "# Create figure\n",
    "fig, axes = plt.subplots(\n",
    "    nrows=3,\n",
    "    ncols=2,\n",
    "    figsize=(10, 9),\n",
    "    gridspec_kw=dict(\n",
    "        width_ratios=[2.5, 1],\n",
    "        wspace=0.08,\n",
    "        left=0.05,\n",
    "        right=0.99,\n",
    "        top=0.99,\n",
    "        bottom=0.05,\n",
    "    ),\n",
    ")\n",
    "fig.canvas.toolbar_visible = False\n",
    "fig.canvas.header_visible = False\n",
    "fig.canvas.footer_visible = False\n",
    "(ax_1d, ax_argand), (ax_2d, ax_empty1), (ax_2d_bw, ax_empty2) = axes\n",
    "ax_empty1.axis(\"off\")\n",
    "ax_empty2.axis(\"off\")\n",
    "for ax in axes.flatten():\n",
    "    ax.set_yticks([])\n",
    "ax_argand.set_xticks([])\n",
    "ax_1d.axes.get_xaxis().set_visible(False)\n",
    "ax_2d.axes.get_xaxis().set_visible(False)\n",
    "ax_1d.sharex(ax_2d_bw)\n",
    "ax_2d.sharex(ax_2d_bw)\n",
    "ax_2d_bw.set_xlabel(\"Re $m$\")\n",
    "for ax in (ax_2d, ax_2d_bw):\n",
    "    ax.set_ylabel(\"Im $m$\")\n",
    "ax_1d.set_ylabel(\"$|A|^2$\")\n",
    "ax_argand.set_xlabel(\"Re($A$)\")\n",
    "ax_argand.set_ylabel(\"Im($A$)\")\n",
    "\n",
    "for ax in (ax_2d, ax_2d_bw):\n",
    "    ax.axhline(0, linewidth=0.5, c=\"black\", linestyle=\"dotted\")\n",
    "\n",
    "# 1D intensity plot\n",
    "controls = Controls(**sliders)\n",
    "controls = iplt.plot(\n",
    "    plot_domain,\n",
    "    lambda *args, **kwargs: np.abs(np_f_vector(*args, **kwargs) ** 2),\n",
    "    label=\"$P$-vector\",\n",
    "    controls=controls,\n",
    "    ylim=\"auto\",\n",
    "    ax=ax_1d,\n",
    ")\n",
    "iplt.plot(\n",
    "    plot_domain,\n",
    "    lambda *args, **kwargs: np.abs(np_bw(*args, **kwargs) ** 2),\n",
    "    label=\"Breit-Wigner\",\n",
    "    controls=controls,\n",
    "    ylim=\"auto\",\n",
    "    ax=ax_1d,\n",
    ")\n",
    "ax_1d.legend(loc=\"upper right\")\n",
    "mass_line_style = dict(\n",
    "    c=\"red\",\n",
    "    alpha=0.3,\n",
    ")\n",
    "for name in controls.params:\n",
    "    if not re.match(r\"^m[0-9]+$\", name):\n",
    "        continue\n",
    "    iplt.axvline(controls[name], ax=ax_1d, **mass_line_style)\n",
    "\n",
    "# Argand plot\n",
    "iplt.scatter(\n",
    "    create_argand(np_f_vector),\n",
    "    label=\"$P$-vector\",\n",
    "    controls=controls,\n",
    "    parametric=True,\n",
    "    s=1,\n",
    "    ax=ax_argand,\n",
    "    xlim=\"auto\",\n",
    "    ylim=\"auto\",\n",
    ")\n",
    "iplt.scatter(\n",
    "    create_argand(np_bw),\n",
    "    label=\"Breit-Wigner\",\n",
    "    controls=controls,\n",
    "    parametric=True,\n",
    "    s=1,\n",
    "    ax=ax_argand,\n",
    "    xlim=\"auto\",\n",
    "    ylim=\"auto\",\n",
    ")\n",
    "\n",
    "# 3D plot\n",
    "color_mesh = None\n",
    "color_mesh_bw = None\n",
    "pole_indicators = []\n",
    "pole_indicators_bw = []\n",
    "\n",
    "\n",
    "def plot3(*, z_cutoff, complex_rendering, **kwargs):\n",
    "    global color_mesh, color_mesh_bw\n",
    "    Z = np_f_vector(plot_domain_complex, **kwargs)\n",
    "    Z_bw = np_bw(plot_domain_complex, **kwargs)\n",
    "    if complex_rendering == \"imag\":\n",
    "        projection = np.imag\n",
    "        ax_title = \"Im $A$\"\n",
    "    elif complex_rendering == \"real\":\n",
    "        projection = np.real\n",
    "        ax_title = \"Re $A$\"\n",
    "    elif complex_rendering == \"abs\":\n",
    "        projection = np.vectorize(lambda z: np.abs(z) ** 2)\n",
    "        ax_title = \"$|A|$\"\n",
    "    else:\n",
    "        raise NotImplementedError\n",
    "    ax_2d.set_title(ax_title + \" ($P$-vector)\")\n",
    "    ax_2d_bw.set_title(ax_title + \" (Breit-Wigner)\")\n",
    "\n",
    "    if color_mesh is None:\n",
    "        color_mesh = ax_2d.pcolormesh(X, Y, projection(Z), cmap=cm.coolwarm)\n",
    "    else:\n",
    "        color_mesh.set_array(projection(Z)[:-1, :-1])\n",
    "    color_mesh.set_clim(vmin=-z_cutoff, vmax=+z_cutoff)\n",
    "\n",
    "    if color_mesh_bw is None:\n",
    "        color_mesh_bw = ax_2d_bw.pcolormesh(\n",
    "            X, Y, projection(Z_bw), cmap=cm.coolwarm\n",
    "        )\n",
    "    else:\n",
    "        color_mesh_bw.set_array(projection(Z_bw)[:-1, :-1])\n",
    "    color_mesh_bw.set_clim(vmin=-z_cutoff, vmax=+z_cutoff)\n",
    "\n",
    "    if pole_indicators:\n",
    "        for R, (line, text) in enumerate(pole_indicators, 1):\n",
    "            mass = kwargs[f\"m{R}\"]\n",
    "            line.set_xdata(mass)\n",
    "            text.set_x(mass + (x_max - x_min) * 0.008)\n",
    "    else:\n",
    "        for R in range(1, 2 + 1):\n",
    "            mass = kwargs[f\"m{R}\"]\n",
    "            line = ax_2d.axvline(mass, **mass_line_style)\n",
    "            text = ax_2d.text(\n",
    "                x=mass + (x_max - x_min) * 0.008,\n",
    "                y=0.95 * y_min,\n",
    "                s=f\"$m_{R}$\",\n",
    "                c=\"red\",\n",
    "            )\n",
    "            pole_indicators.append((line, text))\n",
    "\n",
    "    if pole_indicators_bw:\n",
    "        for R, (line, text) in enumerate(pole_indicators_bw, 1):\n",
    "            mass = kwargs[f\"m{R}\"]\n",
    "            line.set_xdata(mass)\n",
    "            text.set_x(mass + (x_max - x_min) * 0.008)\n",
    "    else:\n",
    "        for R in range(1, 2 + 1):\n",
    "            mass = kwargs[f\"m{R}\"]\n",
    "            line = ax_2d_bw.axvline(mass, **mass_line_style)\n",
    "            text = ax_2d_bw.text(\n",
    "                x=mass + (x_max - x_min) * 0.008,\n",
    "                y=0.95 * y_min,\n",
    "                s=f\"$m_{R}$\",\n",
    "                c=\"red\",\n",
    "            )\n",
    "            pole_indicators_bw.append((line, text))\n",
    "\n",
    "\n",
    "# Create switch for imag/real/abs\n",
    "name = \"complex_rendering\"\n",
    "sliders._sliders[name] = ipywidgets.RadioButtons(\n",
    "    options=[\"imag\", \"real\", \"abs\"],\n",
    "    description=R\"\\(s\\)-plane plot\",\n",
    ")\n",
    "sliders._arg_to_symbol[name] = name\n",
    "\n",
    "# Create cut-off slider for z-direction\n",
    "name = \"z_cutoff\"\n",
    "sliders._sliders[name] = ipywidgets.FloatSlider(\n",
    "    value=2,\n",
    "    min=0,\n",
    "    max=+5,\n",
    "    step=0.1,\n",
    "    description=R\"\\(z\\)-cutoff\",\n",
    ")\n",
    "sliders._arg_to_symbol[name] = name\n",
    "\n",
    "# Create GUI\n",
    "sliders_copy = dict(sliders)\n",
    "slider_groups = []\n",
    "for R in range(1, 2 + 1):\n",
    "    vertical_slider_group = [\n",
    "        sliders_copy.pop(f\"c{R}\"),\n",
    "        sliders_copy.pop(f\"phi{R}\"),\n",
    "        sliders_copy.pop(f\"m{R}\"),\n",
    "        sliders_copy.pop(f\"Gamma{R}\"),\n",
    "        sliders_copy.pop(f\"gamma{R}\"),\n",
    "    ]\n",
    "    slider_groups.append(vertical_slider_group)\n",
    "slider_pairs = np.array(slider_groups).T\n",
    "h_boxes = [ipywidgets.HBox(tuple(pair)) for pair in slider_pairs]\n",
    "remaining_sliders = sorted(\n",
    "    sliders_copy.values(),\n",
    "    key=lambda s: (str(type(s)), s.description),\n",
    ")\n",
    "ui = ipywidgets.VBox(h_boxes + remaining_sliders)\n",
    "output = ipywidgets.interactive_output(plot3, controls=sliders)\n",
    "display(ui, output)"
   ]
  },
  {
   "cell_type": "code",
   "execution_count": null,
   "metadata": {
    "jupyter": {
     "source_hidden": true
    },
    "tags": [
     "remove-input",
     "full-width"
    ]
   },
   "outputs": [],
   "source": [
    "if STATIC_WEB_PAGE:\n",
    "    output_path = \"p-vector-comparison.png\"\n",
    "    plt.savefig(output_path, dpi=150)\n",
    "    display(Image(output_path))"
   ]
  },
  {
   "cell_type": "markdown",
   "metadata": {},
   "source": [
    "## Interactive visualization"
   ]
  },
  {
   "cell_type": "markdown",
   "metadata": {},
   "source": [
    "All $\\boldsymbol{K}$-matrices can be inspected interactively for arbitrary poles and channels with the following applet:"
   ]
  },
  {
   "cell_type": "markdown",
   "metadata": {},
   "source": [
    "[^pole-vs-resonance]: See {pdg-review}`2020; Resonances; p.5` and Section 49.1 for a discussion about what poles and resonances are. See also the intro to Section 5 in {cite}`chungPartialWaveAnalysis1995`."
   ]
  },
  {
   "cell_type": "code",
   "execution_count": null,
   "metadata": {
    "jupyter": {
     "source_hidden": true
    },
    "tags": [
     "hide-cell",
     "scroll-input"
    ]
   },
   "outputs": [],
   "source": [
    "if STATIC_WEB_PAGE:\n",
    "    L = 0\n",
    "\n",
    "\n",
    "def plot(\n",
    "    kmatrix_type: kmatrix.TMatrix,\n",
    "    n_channels: int,\n",
    "    n_poles: int,\n",
    "    angular_momentum: sp.Symbol = 0,\n",
    "    phsp_factor=PhaseSpaceFactor,\n",
    "    substitute_sqrt_rho: bool = False,\n",
    ") -> None:\n",
    "    # Convert to Symbol: symplot cannot handle IndexedBase\n",
    "    i, j = sp.symbols(\"i, j\", integer=True, negative=False)\n",
    "    j = i\n",
    "    expr = kmatrix_type.formulate(\n",
    "        n_poles=n_poles,\n",
    "        n_channels=n_channels,\n",
    "        angular_momentum=angular_momentum,\n",
    "        phsp_factor=phsp_factor,\n",
    "    ).doit()[i, j]\n",
    "    expr = symplot.substitute_indexed_symbols(expr)\n",
    "    if substitute_sqrt_rho:\n",
    "        rho_i = lambda i: phsp_factor(  # noqa\n",
    "            *sp.symbols(f\"s m_a{i} m_b{i}\")\n",
    "        ).doit()\n",
    "        expr = expr.xreplace(\n",
    "            {sp.sqrt(rho_i(i)): 1 for i in range(n_channels)}\n",
    "        ).xreplace(\n",
    "            {sp.conjugate(sp.sqrt(rho_i(i))): 1 for i in range(n_channels)}\n",
    "        )\n",
    "    expr = expr.xreplace({s: m**2})\n",
    "    expr = symplot.substitute_indexed_symbols(expr)\n",
    "    np_expr, sliders = symplot.prepare_sliders(expr, m)\n",
    "\n",
    "    # Set plot domain\n",
    "    x_min, x_max = 1e-3, 3\n",
    "    y_min, y_max = -0.5, +0.5\n",
    "\n",
    "    plot_domain = np.linspace(x_min, x_max, num=500, dtype=np.complex)\n",
    "    x_values = np.linspace(x_min, x_max, num=160)\n",
    "    y_values = np.linspace(y_min, y_max, num=80)\n",
    "    X, Y = np.meshgrid(x_values, y_values)\n",
    "    plot_domain_complex = X + Y * 1j\n",
    "\n",
    "    # Set slider values and ranges\n",
    "    m0_values = np.linspace(x_min, x_max, num=n_poles + 2)\n",
    "    m0_values = m0_values[1:-1]\n",
    "    max_angular_momentum = BlattWeisskopfSquared.max_angular_momentum\n",
    "    if max_angular_momentum is None:\n",
    "        max_angular_momentum = 8\n",
    "    if \"L\" in sliders:\n",
    "        sliders.set_ranges(L=(0, max_angular_momentum))\n",
    "    sliders.set_ranges(i=(0, n_channels - 1))\n",
    "    for R in range(1, n_poles + 1):\n",
    "        for i in range(n_channels):\n",
    "            if kmatrix_type in {\n",
    "                kmatrix.RelativisticKMatrix,\n",
    "                kmatrix.RelativisticPVector,\n",
    "            }:\n",
    "                sliders.set_ranges(\n",
    "                    {\n",
    "                        f\"m{R}\": (0, 3, 100),\n",
    "                        Rf\"\\Gamma_{{{R},{i}}}\": (-2, +2, 100),\n",
    "                        Rf\"\\gamma_{{{R},{i}}}\": (0, 10, 100),\n",
    "                        f\"m_a{i}\": (0, 1, 0.01),\n",
    "                        f\"m_b{i}\": (0, 1, 0.01),\n",
    "                    }\n",
    "                )\n",
    "                sliders.set_values(\n",
    "                    {\n",
    "                        f\"m{R}\": m0_values[R - 1],\n",
    "                        Rf\"\\Gamma_{{{R},{i}}}\": 2.0\n",
    "                        * (0.4 + R * 0.2 - i * 0.3),\n",
    "                        Rf\"\\gamma_{{{R},{i}}}\": 0.25 * (10 - R + i),\n",
    "                        f\"m_a{i}\": (i + 1) * 0.25,\n",
    "                        f\"m_b{i}\": (i + 1) * 0.25,\n",
    "                    }\n",
    "                )\n",
    "            if kmatrix_type in {\n",
    "                kmatrix.NonRelativisticPVector,\n",
    "                kmatrix.NonRelativisticKMatrix,\n",
    "            }:\n",
    "                sliders.set_ranges(\n",
    "                    {\n",
    "                        f\"m{R}\": (0, 3, 100),\n",
    "                        Rf\"\\Gamma_{{{R},{i}}}\": (-1, 1, 100),\n",
    "                        Rf\"\\gamma_{{{R},{i}}}\": (0, 2, 100),\n",
    "                    }\n",
    "                )\n",
    "                sliders.set_values(\n",
    "                    {\n",
    "                        f\"m{R}\": m0_values[R - 1],\n",
    "                        Rf\"\\Gamma_{{{R},{i}}}\": (R + 1) * 0.1,\n",
    "                        Rf\"\\gamma_{{{R},{i}}}\": 1 - 0.1 * R + 0.1 * i,\n",
    "                    }\n",
    "                )\n",
    "            if kmatrix_type in {\n",
    "                kmatrix.NonRelativisticPVector,\n",
    "                kmatrix.RelativisticPVector,\n",
    "            }:\n",
    "                sliders.set_ranges({f\"beta{R}\": (-1, 1, 100)})\n",
    "                sliders.set_values({f\"beta{R}\": 1})\n",
    "\n",
    "    # Create interactive plots\n",
    "    fig, axes = plt.subplots(\n",
    "        nrows=2,\n",
    "        figsize=(8, 6),\n",
    "        sharex=True,\n",
    "        tight_layout=True,\n",
    "    )\n",
    "    fig.canvas.toolbar_visible = False\n",
    "    fig.canvas.header_visible = False\n",
    "    fig.canvas.footer_visible = False\n",
    "    if kmatrix_type in {\n",
    "        kmatrix.NonRelativisticKMatrix,\n",
    "        kmatrix.RelativisticKMatrix,\n",
    "    }:\n",
    "        fig.suptitle(\n",
    "            Rf\"${n_channels} \\times {n_channels}$ $K$-matrix\"\n",
    "            f\" with {n_poles} resonances\"\n",
    "        )\n",
    "    elif kmatrix_type in {\n",
    "        kmatrix.NonRelativisticPVector,\n",
    "        kmatrix.RelativisticPVector,\n",
    "    }:\n",
    "        fig.suptitle(\n",
    "            f\"$P$-vector for {n_channels} channels and {n_poles} resonances\"\n",
    "        )\n",
    "\n",
    "    for ax in axes:\n",
    "        ax.set_xlim(x_min, x_max)\n",
    "    ax_2d, ax_3d = axes\n",
    "    ax_2d.set_ylabel(\"$|T|^{2}$\")\n",
    "    ax_2d.set_yticks([])\n",
    "    ax_3d.set_xlabel(\"Re $m$\")\n",
    "    ax_3d.set_ylabel(\"Im $m$\")\n",
    "    ax_3d.set_xticks([])\n",
    "    ax_3d.set_yticks([])\n",
    "\n",
    "    ax_3d.axhline(0, linewidth=0.5, c=\"black\", linestyle=\"dotted\")\n",
    "\n",
    "    # 2D plot\n",
    "    def plot(channel: int):\n",
    "        def wrapped(*args, **kwargs) -> sp.Expr:\n",
    "            kwargs[\"i\"] = channel\n",
    "            return np.abs(np_expr(*args, **kwargs)) ** 2\n",
    "\n",
    "        return wrapped\n",
    "\n",
    "    controls = Controls(**sliders)\n",
    "    for i in range(n_channels):\n",
    "        iplt.plot(\n",
    "            plot_domain,\n",
    "            plot(i),\n",
    "            ax=axes[0],\n",
    "            controls=controls,\n",
    "            ylim=\"auto\",\n",
    "            label=f\"channel {i}\",\n",
    "        )\n",
    "    if n_channels > 1:\n",
    "        axes[0].legend(loc=\"upper right\")\n",
    "    mass_line_style = dict(\n",
    "        c=\"red\",\n",
    "        alpha=0.3,\n",
    "    )\n",
    "    for name in controls.params:\n",
    "        if not re.match(r\"^m[0-9]+$\", name):\n",
    "            continue\n",
    "        iplt.axvline(controls[name], ax=axes[0], **mass_line_style)\n",
    "\n",
    "    # 3D plot\n",
    "    color_mesh = None\n",
    "    pole_indicators = []\n",
    "    threshold_indicators = []\n",
    "\n",
    "    def plot3(*, z_cutoff, complex_rendering, **kwargs):\n",
    "        nonlocal color_mesh\n",
    "        Z = np_expr(plot_domain_complex, **kwargs)\n",
    "        if complex_rendering == \"imag\":\n",
    "            Z_values = Z.imag\n",
    "            ax_title = \"Im $T$\"\n",
    "        elif complex_rendering == \"real\":\n",
    "            Z_values = Z.real\n",
    "            ax_title = \"Re $T$\"\n",
    "        elif complex_rendering == \"abs\":\n",
    "            Z_values = np.abs(Z)\n",
    "            ax_title = \"$|T|$\"\n",
    "        else:\n",
    "            raise NotImplementedError\n",
    "\n",
    "        if n_channels == 1:\n",
    "            axes[-1].set_title(ax_title)\n",
    "        else:\n",
    "            i = kwargs[\"i\"]\n",
    "            axes[-1].set_title(f\"{ax_title}, channel {i}\")\n",
    "\n",
    "        if color_mesh is None:\n",
    "            color_mesh = ax_3d.pcolormesh(X, Y, Z_values, cmap=cm.coolwarm)\n",
    "        else:\n",
    "            color_mesh.set_array(Z_values[:-1, :-1])\n",
    "        color_mesh.set_clim(vmin=-z_cutoff, vmax=+z_cutoff)\n",
    "\n",
    "        if pole_indicators:\n",
    "            for R, (line, text) in enumerate(pole_indicators, 1):\n",
    "                mass = kwargs[f\"m{R}\"]\n",
    "                line.set_xdata(mass)\n",
    "                text.set_x(mass + (x_max - x_min) * 0.008)\n",
    "        else:\n",
    "            for R in range(1, n_poles + 1):\n",
    "                mass = kwargs[f\"m{R}\"]\n",
    "                line = ax_3d.axvline(mass, **mass_line_style)\n",
    "                text = ax_3d.text(\n",
    "                    x=mass + (x_max - x_min) * 0.008,\n",
    "                    y=0.95 * y_min,\n",
    "                    s=f\"$m_{R}$\",\n",
    "                    c=\"red\",\n",
    "                )\n",
    "                pole_indicators.append((line, text))\n",
    "\n",
    "        if kmatrix_type is kmatrix.RelativisticKMatrix:\n",
    "            x_offset = (x_max - x_min) * 0.015\n",
    "            if threshold_indicators:\n",
    "                for i, (line_thr, line_diff, text_thr, text_diff) in enumerate(\n",
    "                    threshold_indicators\n",
    "                ):\n",
    "                    m_a = kwargs[f\"m_a{i}\"]\n",
    "                    m_b = kwargs[f\"m_b{i}\"]\n",
    "                    s_thr = m_a + m_b\n",
    "                    m_diff = abs(m_a - m_b)\n",
    "                    line_thr.set_xdata(s_thr)\n",
    "                    line_diff.set_xdata(m_diff)\n",
    "                    text_thr.set_x(s_thr)\n",
    "                    text_diff.set_x(m_diff - x_offset)\n",
    "            else:\n",
    "                colors = cm.plasma(np.linspace(0, 1, n_channels))\n",
    "                for i, color in enumerate(colors):\n",
    "                    m_a = kwargs[f\"m_a{i}\"]\n",
    "                    m_b = kwargs[f\"m_b{i}\"]\n",
    "                    s_thr = m_a + m_b\n",
    "                    m_diff = abs(m_a - m_b)\n",
    "                    line_thr = ax.axvline(s_thr, c=color, linestyle=\"dotted\")\n",
    "                    line_diff = ax.axvline(m_diff, c=color, linestyle=\"dashed\")\n",
    "                    text_thr = ax.text(\n",
    "                        x=s_thr,\n",
    "                        y=0.95 * y_min,\n",
    "                        s=f\"$m_{{a{i}}}+m_{{b{i}}}$\",\n",
    "                        c=color,\n",
    "                        rotation=-90,\n",
    "                    )\n",
    "                    text_diff = ax.text(\n",
    "                        x=m_diff - x_offset,\n",
    "                        y=0.95 * y_min,\n",
    "                        s=f\"$m_{{a{i}}}-m_{{b{i}}}$\",\n",
    "                        c=color,\n",
    "                        rotation=+90,\n",
    "                    )\n",
    "                    threshold_indicators.append(\n",
    "                        (line_thr, line_diff, text_thr, text_diff)\n",
    "                    )\n",
    "            for i, (_, line_diff, _, text_diff) in enumerate(\n",
    "                threshold_indicators\n",
    "            ):\n",
    "                m_a = kwargs[f\"m_a{i}\"]\n",
    "                m_b = kwargs[f\"m_b{i}\"]\n",
    "                s_thr = m_a + m_b\n",
    "                m_diff = abs(m_a - m_b)\n",
    "                if m_diff > x_offset + 0.01 and s_thr - abs(m_diff) > x_offset:\n",
    "                    line_diff.set_alpha(0.5)\n",
    "                    text_diff.set_alpha(0.5)\n",
    "                else:\n",
    "                    line_diff.set_alpha(0)\n",
    "                    text_diff.set_alpha(0)\n",
    "\n",
    "    # Create switch for imag/real/abs\n",
    "    name = \"complex_rendering\"\n",
    "    sliders._sliders[name] = ipywidgets.RadioButtons(\n",
    "        options=[\"imag\", \"real\", \"abs\"],\n",
    "        description=R\"\\(s\\)-plane plot\",\n",
    "    )\n",
    "    sliders._arg_to_symbol[name] = name\n",
    "\n",
    "    # Create cut-off slider for z-direction\n",
    "    name = \"z_cutoff\"\n",
    "    sliders._sliders[name] = ipywidgets.FloatSlider(\n",
    "        value=1,\n",
    "        min=+0.01,\n",
    "        max=+5,\n",
    "        step=0.01,\n",
    "        description=R\"\\(z\\)-cutoff\",\n",
    "    )\n",
    "    sliders._arg_to_symbol[name] = name\n",
    "\n",
    "    # Link sliders\n",
    "    if kmatrix_type is kmatrix.RelativisticKMatrix:\n",
    "        for i in range(n_channels):\n",
    "            ipywidgets.dlink(\n",
    "                (sliders[f\"m_a{i}\"], \"value\"),\n",
    "                (sliders[f\"m_b{i}\"], \"value\"),\n",
    "            )\n",
    "\n",
    "    # Create GUI\n",
    "    sliders_copy = dict(sliders)\n",
    "    h_boxes = []\n",
    "    for R in range(1, n_poles + 1):\n",
    "        buttons = [sliders_copy.pop(f\"m{R}\")]\n",
    "        if n_channels == 1:\n",
    "            buttons += [\n",
    "                sliders_copy.pop(sliders.symbol_to_arg[Rf\"\\Gamma_{{{R},0}}\"]),\n",
    "                sliders_copy.pop(sliders.symbol_to_arg[Rf\"\\gamma_{{{R},0}}\"]),\n",
    "            ]\n",
    "        h_box = ipywidgets.HBox(buttons)\n",
    "        h_boxes.append(h_box)\n",
    "    remaining_sliders = sorted(\n",
    "        sliders_copy.values(), key=lambda s: (str(type(s)), s.description)\n",
    "    )\n",
    "    if n_channels == 1:\n",
    "        remaining_sliders.remove(sliders[\"i\"])\n",
    "    ui = ipywidgets.VBox(h_boxes + remaining_sliders)\n",
    "    output = ipywidgets.interactive_output(plot3, controls=sliders)\n",
    "    display(ui, output)"
   ]
  },
  {
   "cell_type": "markdown",
   "metadata": {},
   "source": [
    "{{ run_interactive }}"
   ]
  },
  {
   "cell_type": "code",
   "execution_count": null,
   "metadata": {
    "tags": []
   },
   "outputs": [],
   "source": [
    "plot(\n",
    "    kmatrix.RelativisticKMatrix,\n",
    "    n_poles=2,\n",
    "    n_channels=1,\n",
    "    angular_momentum=L,\n",
    "    phsp_factor=PhaseSpaceFactor,\n",
    "    substitute_sqrt_rho=False,\n",
    ")"
   ]
  },
  {
   "cell_type": "code",
   "execution_count": null,
   "metadata": {
    "jupyter": {
     "source_hidden": true
    },
    "tags": [
     "remove-input"
    ]
   },
   "outputs": [],
   "source": [
    "if STATIC_WEB_PAGE:\n",
    "    output_path = \"k-matrix.png\"\n",
    "    plt.savefig(output_path, dpi=150)\n",
    "    display(Image(output_path))"
   ]
  }
 ],
 "metadata": {
  "kernelspec": {
   "display_name": "Python 3 (ipykernel)",
   "language": "python",
   "name": "python3"
  }
 },
 "nbformat": 4,
 "nbformat_minor": 4
}
