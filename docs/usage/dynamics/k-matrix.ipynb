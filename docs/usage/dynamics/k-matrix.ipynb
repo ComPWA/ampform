{
 "cells": [
  {
   "cell_type": "code",
   "execution_count": null,
   "metadata": {
    "hideCode": true,
    "hideOutput": true,
    "hidePrompt": true,
    "jupyter": {
     "source_hidden": true
    },
    "slideshow": {
     "slide_type": "skip"
    },
    "tags": [
     "remove-cell"
    ]
   },
   "outputs": [],
   "source": [
    "%%capture\n",
    "%config Completer.use_jedi = False\n",
    "%config InlineBackend.figure_formats = ['svg']\n",
    "import os\n",
    "\n",
    "STATIC_WEB_PAGE = {\"EXECUTE_NB\", \"READTHEDOCS\"}.intersection(os.environ)\n",
    "\n",
    "# Install on Google Colab\n",
    "import subprocess\n",
    "import sys\n",
    "\n",
    "from IPython import get_ipython\n",
    "\n",
    "install_packages = \"google.colab\" in str(get_ipython())\n",
    "if install_packages:\n",
    "    for package in [\"ampform[doc]\", \"graphviz\"]:\n",
    "        subprocess.check_call(\n",
    "            [sys.executable, \"-m\", \"pip\", \"install\", package]\n",
    "        )"
   ]
  },
  {
   "cell_type": "markdown",
   "metadata": {},
   "source": [
    "# K-matrix"
   ]
  },
  {
   "cell_type": "markdown",
   "metadata": {},
   "source": [
    "While {mod}`ampform` does not yet provide a generic way to produce an amplitude model with $\\boldsymbol{K}$-matrix dynamics, the (experimental) {mod}`.kmatrix` module makes fairly simple to produce an expression for the $\\boldsymbol{K}$-matrix and play around with it interactively. For more info on the $\\boldsymbol{K}$-matrix, see this instructive presentation {cite}`meyerMatrixTutorial2008`, or the classic paper {cite}`chungPartialWaveAnalysis1995`."
   ]
  },
  {
   "cell_type": "code",
   "execution_count": null,
   "metadata": {
    "jupyter": {
     "source_hidden": true
    },
    "tags": [
     "hide-cell"
    ]
   },
   "outputs": [],
   "source": [
    "%matplotlib widget\n",
    "import logging\n",
    "import re\n",
    "import warnings\n",
    "\n",
    "import matplotlib.pyplot as plt\n",
    "import mpl_interactions.ipyplot as iplt\n",
    "import numpy as np\n",
    "import sympy as sp\n",
    "\n",
    "import symplot\n",
    "\n",
    "logging.basicConfig()\n",
    "logging.getLogger().setLevel(logging.ERROR)\n",
    "\n",
    "warnings.filterwarnings(\"ignore\")"
   ]
  },
  {
   "cell_type": "markdown",
   "metadata": {},
   "source": [
    "## Non-relativistic"
   ]
  },
  {
   "cell_type": "markdown",
   "metadata": {},
   "source": [
    "::::{margin}\n",
    ":::{seealso} {doc}`compwa-org:report/005`\n",
    ":::\n",
    "::::\n",
    "\n",
    "This section shows how a $\\boldsymbol{K}$-matrix for **one channel with two poles** compares to using a sum of two Breit-Wigner functions.\n",
    "\n",
    "A non-relativistic $\\boldsymbol{K}$-matrix for an arbitrary number of channels and an arbitrary number of resonances can be formulated with the {meth}`.NonRelativisticKMatrix.formulate` method:"
   ]
  },
  {
   "cell_type": "code",
   "execution_count": null,
   "metadata": {},
   "outputs": [],
   "source": [
    "from ampform.dynamics.kmatrix import NonRelativisticKMatrix\n",
    "\n",
    "n_resonances = sp.Symbol(\"n_R\", integer=True, positive=True)\n",
    "k_matrix_nr = NonRelativisticKMatrix.formulate(\n",
    "    n_resonances=n_resonances, n_channels=1\n",
    ")\n",
    "k_matrix_nr[0, 0]"
   ]
  },
  {
   "cell_type": "markdown",
   "metadata": {},
   "source": [
    "Notice how the $\\boldsymbol{K}$-matrix reduces to a {func}`.relativistic_breit_wigner` when there is one channel and one resonance (but for a residue constant $\\gamma$):"
   ]
  },
  {
   "cell_type": "code",
   "execution_count": null,
   "metadata": {},
   "outputs": [],
   "source": [
    "k_matrix_1r = NonRelativisticKMatrix.formulate(n_resonances=1, n_channels=1)\n",
    "k_matrix_1r[0, 0].doit().simplify()"
   ]
  },
  {
   "cell_type": "markdown",
   "metadata": {},
   "source": [
    "Now let's investigate the effect of using a $\\boldsymbol{K}$-matrix to describe **two resonances** in one channel and see how it compares with the sum of two Breit-Wigner functions. Two Breit-Wigner 'poles' with the same parameters would look like this:"
   ]
  },
  {
   "cell_type": "code",
   "execution_count": null,
   "metadata": {},
   "outputs": [],
   "source": [
    "from ampform.dynamics import relativistic_breit_wigner\n",
    "\n",
    "s, m1, m2, Gamma1, Gamma2, gamma1, gamma2 = sp.symbols(\n",
    "    \"s, m1, m2, Gamma1, Gamma2, gamma1, gamma2\"\n",
    ")\n",
    "term1 = relativistic_breit_wigner(s, m1, Gamma1)\n",
    "term2 = relativistic_breit_wigner(s, m2, Gamma2)\n",
    "bw = gamma1 * term1 + gamma2 * term2\n",
    "bw"
   ]
  },
  {
   "cell_type": "markdown",
   "metadata": {},
   "source": [
    "while a $\\boldsymbol{K}$-matrix parametrizes the two resonances as:"
   ]
  },
  {
   "cell_type": "code",
   "execution_count": null,
   "metadata": {},
   "outputs": [],
   "source": [
    "k_matrix_2r = NonRelativisticKMatrix.formulate(n_resonances=2, n_channels=1)\n",
    "k_matrix = k_matrix_2r[0, 0].doit()"
   ]
  },
  {
   "cell_type": "code",
   "execution_count": null,
   "metadata": {
    "jupyter": {
     "source_hidden": true
    },
    "tags": [
     "hide-input"
    ]
   },
   "outputs": [],
   "source": [
    "# reformulate terms\n",
    "denominator, nominator = k_matrix.args\n",
    "term1 = nominator.args[0] * denominator\n",
    "term2 = nominator.args[1] * denominator\n",
    "k_matrix = term1 + term2\n",
    "k_matrix"
   ]
  },
  {
   "cell_type": "markdown",
   "metadata": {},
   "source": [
    "To simplify things, we can set the residue constants $\\gamma$ to one. Notice how the $\\boldsymbol{K}$-matrix has introduced some coupling ('interference') between the two terms."
   ]
  },
  {
   "cell_type": "code",
   "execution_count": null,
   "metadata": {
    "jupyter": {
     "source_hidden": true
    },
    "tags": [
     "hide-input"
    ]
   },
   "outputs": [],
   "source": [
    "def remove_residue_constants(expression):\n",
    "    expression = symplot.substitute_indexed_symbols(expression)\n",
    "    residue_constants = filter(\n",
    "        lambda s: re.match(r\"^\\\\?gamma\", s.name),\n",
    "        expression.free_symbols,\n",
    "    )\n",
    "    return expression.xreplace({gamma: 1 for gamma in residue_constants})\n",
    "\n",
    "\n",
    "display(\n",
    "    remove_residue_constants(bw),\n",
    "    remove_residue_constants(k_matrix),\n",
    ")"
   ]
  },
  {
   "cell_type": "markdown",
   "metadata": {},
   "source": [
    "Now, just like in {doc}`/usage/interactive`, we use {mod}`symplot` to visualize the difference between the two expressions. The important thing is that the Argand plot on the right shows that **the $\\boldsymbol{K}$-matrix conserves unitarity**.\n",
    "\n",
    "Note that we have to call {func}`symplot.substitute_indexed_symbols` to turn the {class}`~sympy.tensor.indexed.Indexed` instances in this {obj}`~sympy.matrices.dense.Matrix` expression into {class}`~sympy.core.symbol.Symbol`s before calling this function. We also call {func}`symplot.rename_symbols` so that the residue $\\gamma$'s get a name that does not have to be dummified by {func}`~sympy.utilities.lambdify.lambdify`."
   ]
  },
  {
   "cell_type": "code",
   "execution_count": null,
   "metadata": {
    "jupyter": {
     "source_hidden": true
    },
    "tags": [
     "hide-input",
     "remove-output",
     "scroll-input"
    ]
   },
   "outputs": [],
   "source": [
    "# Prepare expressions\n",
    "m = sp.Symbol(\"m\")\n",
    "kmatrix = symplot.substitute_indexed_symbols(k_matrix)\n",
    "rename_gamma = lambda s: re.sub(  # noqa: E731\n",
    "    r\"\\\\gamma_{([0-9]),0}\", r\"gamma\\1\", s\n",
    ")\n",
    "bw = symplot.rename_symbols(bw, rename_gamma)\n",
    "kmatrix = symplot.rename_symbols(kmatrix, rename_gamma)\n",
    "bw = bw.xreplace({s: m ** 2})\n",
    "kmatrix = kmatrix.xreplace({s: m ** 2})\n",
    "\n",
    "# Prepare sliders and domain\n",
    "np_kmatrix, sliders = symplot.prepare_sliders(kmatrix, m)\n",
    "np_bw = sp.lambdify((m, Gamma1, Gamma2, gamma1, gamma2, m1, m2), bw.doit())\n",
    "\n",
    "m_min, m_max = 0, 3\n",
    "domain_1d = np.linspace(m_min, m_max, 200)\n",
    "domain_argand = np.linspace(m_min - 2, m_max + 2, 1_000)\n",
    "sliders.set_ranges(\n",
    "    m1=(0, 3, 100),\n",
    "    m2=(0, 3, 100),\n",
    "    Gamma1=(0, 2, 100),\n",
    "    Gamma2=(0, 2, 100),\n",
    "    gamma1=(0, 2),\n",
    "    gamma2=(0, 2),\n",
    ")\n",
    "sliders.set_values(\n",
    "    m1=1.1,\n",
    "    m2=1.9,\n",
    "    Gamma1=0.2,\n",
    "    Gamma2=0.3,\n",
    "    gamma1=1,\n",
    "    gamma2=1,\n",
    ")\n",
    "if STATIC_WEB_PAGE:\n",
    "    # Concatenate flipped domain for reverse animation\n",
    "    domain = np.linspace(1.0, 2.7, 50)\n",
    "    domain = np.concatenate((domain, np.flip(domain[1:])))\n",
    "    sliders._sliders[\"m1\"] = domain\n",
    "\n",
    "\n",
    "def create_argand(func):\n",
    "    def wrapped(**kwargs):\n",
    "        values = func(domain_argand, **kwargs)\n",
    "        argand = np.array([values.real, values.imag])\n",
    "        return argand.T\n",
    "\n",
    "    return wrapped\n",
    "\n",
    "\n",
    "# Create figure\n",
    "fig, axes = plt.subplots(\n",
    "    ncols=2,\n",
    "    figsize=1.2 * np.array((8, 3.8)),\n",
    "    tight_layout=True,\n",
    ")\n",
    "ax_intensity, ax_argand = axes\n",
    "m_label = \"$m_{a+b}$\"\n",
    "ax_intensity.set_xlabel(m_label)\n",
    "ax_intensity.set_ylabel(\"$|A|^2$\")\n",
    "ax_argand.set_xlabel(\"Re($A$)\")\n",
    "ax_argand.set_ylabel(\"Im($A$)\")\n",
    "\n",
    "# Plot intensity\n",
    "controls = iplt.plot(\n",
    "    domain_1d,\n",
    "    lambda *args, **kwargs: np.abs(np_kmatrix(*args, **kwargs) ** 2),\n",
    "    label=\"$K$-matrix\",\n",
    "    **sliders,\n",
    "    ylim=\"auto\",\n",
    "    ax=ax_intensity,\n",
    ")\n",
    "iplt.plot(\n",
    "    domain_1d,\n",
    "    lambda *args, **kwargs: np.abs(np_bw(*args, **kwargs) ** 2),\n",
    "    label=\"Breit-Wigner\",\n",
    "    controls=controls,\n",
    "    ylim=\"auto\",\n",
    "    ax=ax_intensity,\n",
    ")\n",
    "plt.legend(loc=\"upper right\")\n",
    "iplt.axvline(controls[\"m1\"], c=\"gray\", linestyle=\"dotted\")\n",
    "iplt.axvline(controls[\"m2\"], c=\"gray\", linestyle=\"dotted\")\n",
    "\n",
    "# Argand plots\n",
    "iplt.scatter(\n",
    "    create_argand(np_kmatrix),\n",
    "    label=\"$K$-matrix\",\n",
    "    controls=controls,\n",
    "    parametric=True,\n",
    "    s=1,\n",
    "    ax=ax_argand,\n",
    ")\n",
    "iplt.scatter(\n",
    "    create_argand(np_bw),\n",
    "    label=\"Breit-Wigner\",\n",
    "    controls=controls,\n",
    "    parametric=True,\n",
    "    s=1,\n",
    "    ax=ax_argand,\n",
    ")\n",
    "plt.legend(loc=\"upper right\");"
   ]
  },
  {
   "cell_type": "markdown",
   "metadata": {},
   "source": [
    "{{ run_interactive }}"
   ]
  },
  {
   "cell_type": "code",
   "execution_count": null,
   "metadata": {
    "jupyter": {
     "source_hidden": true
    },
    "tags": [
     "remove-input"
    ]
   },
   "outputs": [],
   "source": [
    "if STATIC_WEB_PAGE:\n",
    "    from IPython.display import Image\n",
    "\n",
    "    output_path = \"k-matrix.gif\"\n",
    "    ax_intensity.set_ylim([0, 2])\n",
    "    ax_argand.set_xlim([-1, +1])\n",
    "    ax_argand.set_ylim([0, 2])\n",
    "    controls.save_animation(output_path, fig, \"m1\", fps=20)\n",
    "    with open(output_path, \"rb\") as f:\n",
    "        display(Image(data=f.read(), format=\"png\"))"
   ]
  },
  {
   "cell_type": "markdown",
   "metadata": {},
   "source": [
    "## Relativistic"
   ]
  },
  {
   "cell_type": "markdown",
   "metadata": {},
   "source": [
    "::::{margin}\n",
    ":::{seealso} {doc}`compwa-org:report/009`\n",
    ":::\n",
    "::::\n",
    "\n",
    "Relativistic $\\boldsymbol{K}$-matrices for an arbitrary number of channels and an arbitrary number of resonances can be formulated with the {meth}`.RelativisticKMatrix.formulate` method:"
   ]
  },
  {
   "cell_type": "code",
   "execution_count": null,
   "metadata": {},
   "outputs": [],
   "source": [
    "from ampform.dynamics.kmatrix import RelativisticKMatrix\n",
    "\n",
    "n_resonances = sp.Symbol(\"n_R\", integer=True, positive=True)\n",
    "rel_k_matrix_nr = RelativisticKMatrix.formulate(\n",
    "    n_resonances=n_resonances, n_channels=1\n",
    ")\n",
    "rel_k_matrix_nr[0, 0]"
   ]
  },
  {
   "cell_type": "markdown",
   "metadata": {},
   "source": [
    "Again, as in {ref}`usage/dynamics/k-matrix:Non-relativistic`, the $\\boldsymbol{K}$-matrix reduces to something of a {func}`.relativistic_breit_wigner`. This time, the width has been replaced by a {class}`.CoupledWidth` and some {class}`.PhaseSpaceFactor`s have been inserted that take case of the decay into two decay products:[^1]\n",
    "\n",
    "[^1]: The two {class}`.PhaseSpaceFactor`s $\\sqrt{\\rho_0(s)}$ cancel out within phase space, where they are real."
   ]
  },
  {
   "cell_type": "code",
   "execution_count": null,
   "metadata": {},
   "outputs": [],
   "source": [
    "rel_k_matrix_1r = RelativisticKMatrix.formulate(n_resonances=1, n_channels=1)\n",
    "symplot.partial_doit(rel_k_matrix_1r[0, 0], sp.Sum).simplify(doit=False)"
   ]
  },
  {
   "cell_type": "markdown",
   "metadata": {},
   "source": [
    "Similarly, the $\\boldsymbol{K}$-matrix with two resonances becomes (neglecting the $\\sqrt{\\rho_0(s)}$):"
   ]
  },
  {
   "cell_type": "code",
   "execution_count": null,
   "metadata": {},
   "outputs": [],
   "source": [
    "rel_k_matrix_2r = RelativisticKMatrix.formulate(n_resonances=2, n_channels=1)\n",
    "rel_k_matrix_2r = symplot.partial_doit(rel_k_matrix_2r[0, 0], sp.Sum)"
   ]
  },
  {
   "cell_type": "code",
   "execution_count": null,
   "metadata": {
    "jupyter": {
     "source_hidden": true
    },
    "tags": [
     "hide-input"
    ]
   },
   "outputs": [],
   "source": [
    "from ampform.dynamics import PhaseSpaceFactor\n",
    "\n",
    "rel_k_matrix_2r = symplot.substitute_indexed_symbols(rel_k_matrix_2r)\n",
    "s, m_a, m_b = sp.symbols(\"s, m_a0, m_b0\")\n",
    "rho = PhaseSpaceFactor(s, m_a, m_b)\n",
    "rel_k_matrix_2r = rel_k_matrix_2r.xreplace(\n",
    "    {\n",
    "        sp.sqrt(rho): 1,\n",
    "        sp.conjugate(sp.sqrt(rho)): 1,\n",
    "    }\n",
    ")\n",
    "denominator, nominator = rel_k_matrix_2r.args\n",
    "term1 = nominator.args[0] * denominator\n",
    "term2 = nominator.args[1] * denominator\n",
    "rel_k_matrix_2r = term1 + term2\n",
    "rel_k_matrix_2r"
   ]
  }
 ],
 "metadata": {
  "kernelspec": {
   "display_name": "Python 3 (ipykernel)",
   "language": "python",
   "name": "python3"
  },
  "language_info": {
   "codemirror_mode": {
    "name": "ipython",
    "version": 3
   },
   "file_extension": ".py",
   "mimetype": "text/x-python",
   "name": "python",
   "nbconvert_exporter": "python",
   "pygments_lexer": "ipython3",
   "version": "3.8.10"
  }
 },
 "nbformat": 4,
 "nbformat_minor": 4
}
