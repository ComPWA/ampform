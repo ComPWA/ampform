{
 "cells": [
  {
   "cell_type": "code",
   "execution_count": null,
   "metadata": {
    "hideCode": true,
    "hideOutput": true,
    "hidePrompt": true,
    "jupyter": {
     "source_hidden": true
    },
    "slideshow": {
     "slide_type": "skip"
    },
    "tags": [
     "remove-cell",
     "skip-execution"
    ]
   },
   "outputs": [],
   "source": [
    "# WARNING: advised to install a specific version, e.g. ampform==0.1.2\n",
    "%pip install -q ampform[doc,viz] IPython"
   ]
  },
  {
   "cell_type": "code",
   "execution_count": null,
   "metadata": {
    "hideCode": true,
    "hideOutput": true,
    "hidePrompt": true,
    "jupyter": {
     "source_hidden": true
    },
    "slideshow": {
     "slide_type": "skip"
    },
    "tags": [
     "remove-cell"
    ]
   },
   "outputs": [],
   "source": [
    "%config InlineBackend.figure_formats = ['svg']\n",
    "import os\n",
    "\n",
    "from IPython.display import display  # noqa: F401\n",
    "\n",
    "STATIC_WEB_PAGE = {\"EXECUTE_NB\", \"READTHEDOCS\"}.intersection(os.environ)"
   ]
  },
  {
   "cell_type": "markdown",
   "metadata": {},
   "source": [
    "```{autolink-concat}\n",
    "```"
   ]
  },
  {
   "cell_type": "markdown",
   "metadata": {},
   "source": [
    "# symplot"
   ]
  },
  {
   "cell_type": "markdown",
   "metadata": {},
   "source": [
    "```{eval-rst}\n",
    ".. automodule:: symplot\n",
    "```"
   ]
  },
  {
   "cell_type": "markdown",
   "metadata": {},
   "source": [
    "## Examples"
   ]
  },
  {
   "cell_type": "markdown",
   "metadata": {},
   "source": [
    "The following examples show how to work with {func}`.prepare_sliders` and the resulting {class}`.SliderKwargs`. For more explanation about what happens behind the scenes, see {doc}`interactive`."
   ]
  },
  {
   "cell_type": "markdown",
   "metadata": {},
   "source": [
    "### Exponential wave"
   ]
  },
  {
   "cell_type": "markdown",
   "metadata": {},
   "source": [
    "Construct a mathematical expression with {mod}`sympy`:"
   ]
  },
  {
   "cell_type": "code",
   "execution_count": null,
   "metadata": {},
   "outputs": [],
   "source": [
    "import sympy as sp\n",
    "\n",
    "n = sp.Symbol(\"n\", integer=True)\n",
    "x, a = sp.symbols(\"x, a\")\n",
    "expression = sp.sin(n * x) * sp.exp(-a * x)\n",
    "expression"
   ]
  },
  {
   "cell_type": "markdown",
   "metadata": {},
   "source": [
    "Create sliders with {func}`.prepare_sliders`, set their ranges and (optionally) provide some initial values:"
   ]
  },
  {
   "cell_type": "code",
   "execution_count": null,
   "metadata": {},
   "outputs": [],
   "source": [
    "from symplot import prepare_sliders\n",
    "\n",
    "np_expression, sliders = prepare_sliders(expression, plot_symbol=x)\n",
    "sliders.set_ranges(\n",
    "    n=(0, 10),\n",
    "    a=(-1, 1, 200),\n",
    ")\n",
    "sliders.set_values(n=6, a=0.3)"
   ]
  },
  {
   "cell_type": "code",
   "execution_count": null,
   "metadata": {
    "jupyter": {
     "source_hidden": true
    },
    "tags": [
     "remove-cell"
    ]
   },
   "outputs": [],
   "source": [
    "if STATIC_WEB_PAGE:\n",
    "    import numpy as np\n",
    "\n",
    "    # Concatenate flipped domain for reverse animation\n",
    "    domain = np.linspace(-1, 1, 50)\n",
    "    domain = np.concatenate((domain, np.flip(domain[1:])))\n",
    "    sliders._sliders[\"a\"] = domain"
   ]
  },
  {
   "cell_type": "markdown",
   "metadata": {},
   "source": [
    "Now use {doc}`mpl-interactions <mpl_interactions:index>` to plot the {doc}`lambdified <sympy:modules/utilities/lambdify>` expression. Note how the {class}`SliderKwargs` are unpacked as keyword arguments:"
   ]
  },
  {
   "cell_type": "code",
   "execution_count": null,
   "metadata": {
    "tags": [
     "remove-output"
    ]
   },
   "outputs": [],
   "source": [
    "%matplotlib widget\n",
    "import matplotlib.pyplot as plt\n",
    "import mpl_interactions.ipyplot as iplt\n",
    "import numpy as np\n",
    "\n",
    "plot_domain = np.linspace(0, 10, 1_000)\n",
    "fig, ax = plt.subplots(figsize=(7, 4))\n",
    "controls = iplt.plot(\n",
    "    plot_domain,\n",
    "    lambda x, **kwargs: np_expression(x, **kwargs),\n",
    "    **sliders,\n",
    "    ylim=\"auto\",\n",
    ")\n",
    "ax.set_xlabel(\"$x$\")\n",
    "ax.set_ylabel(f\"${sp.latex(expression)}$\");"
   ]
  },
  {
   "cell_type": "markdown",
   "metadata": {
    "tags": []
   },
   "source": [
    "{{ run_interactive }}"
   ]
  },
  {
   "cell_type": "code",
   "execution_count": null,
   "metadata": {
    "jupyter": {
     "source_hidden": true
    },
    "tags": [
     "remove-input"
    ]
   },
   "outputs": [],
   "source": [
    "# Export for Read the Docs\n",
    "if STATIC_WEB_PAGE:\n",
    "    from IPython.display import Image\n",
    "\n",
    "    output_path = \"exponential-wave.gif\"\n",
    "    ax.set_yticks([])\n",
    "    iplt.title(\"$n = {n}, a = {a:.2f}$\", controls=controls)\n",
    "    controls.save_animation(output_path, fig, \"a\", fps=25)\n",
    "    with open(output_path, \"rb\") as f:\n",
    "        display(Image(data=f.read(), format=\"png\"))"
   ]
  },
  {
   "cell_type": "markdown",
   "metadata": {},
   "source": [
    "### Range slider"
   ]
  },
  {
   "cell_type": "markdown",
   "metadata": {},
   "source": [
    "See {doc}`mpl_interactions:examples/range-sliders`."
   ]
  },
  {
   "cell_type": "code",
   "execution_count": null,
   "metadata": {},
   "outputs": [],
   "source": [
    "np_expression, sliders = prepare_sliders(expression, plot_symbol=x)\n",
    "sliders.set_values(n=6, a=0.3)\n",
    "sliders.set_ranges(\n",
    "    n=(0, 10),\n",
    "    a=(-1, 1, 200),\n",
    ")\n",
    "\n",
    "\n",
    "def x_domain(x_range, **kwargs):\n",
    "    min_, max_ = x_range\n",
    "    return np.linspace(min_, max_, 1_000)\n",
    "\n",
    "\n",
    "def f(x, **kwargs):\n",
    "    del kwargs[\"x_range\"]\n",
    "    return np_expression(x, **kwargs)\n",
    "\n",
    "\n",
    "fig, ax = plt.subplots()\n",
    "controls = iplt.plot(\n",
    "    x_domain,\n",
    "    f,\n",
    "    x_range=(\"r\", 0, 10),\n",
    "    **sliders,\n",
    "    xlim=\"auto\",\n",
    "    ylim=\"auto\",\n",
    ")"
   ]
  }
 ],
 "metadata": {
  "kernelspec": {
   "display_name": "Python 3 (ipykernel)",
   "language": "python",
   "name": "python3"
  }
 },
 "nbformat": 4,
 "nbformat_minor": 4
}
